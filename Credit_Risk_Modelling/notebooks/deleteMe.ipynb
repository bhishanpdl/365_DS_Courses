{
 "cells": [
  {
   "cell_type": "markdown",
   "metadata": {
    "toc": true
   },
   "source": [
    "<h1>Table of Contents<span class=\"tocSkip\"></span></h1>\n",
    "<div class=\"toc\"><ul class=\"toc-item\"><li><span><a href=\"#Description\" data-toc-modified-id=\"Description-1\"><span class=\"toc-item-num\">1&nbsp;&nbsp;</span>Description</a></span></li><li><span><a href=\"#WoE-and-IV\" data-toc-modified-id=\"WoE-and-IV-2\"><span class=\"toc-item-num\">2&nbsp;&nbsp;</span>WoE and IV</a></span></li><li><span><a href=\"#Imports\" data-toc-modified-id=\"Imports-3\"><span class=\"toc-item-num\">3&nbsp;&nbsp;</span>Imports</a></span></li><li><span><a href=\"#Load-the-data\" data-toc-modified-id=\"Load-the-data-4\"><span class=\"toc-item-num\">4&nbsp;&nbsp;</span>Load the data</a></span><ul class=\"toc-item\"><li><span><a href=\"#Load-new-data\" data-toc-modified-id=\"Load-new-data-4.1\"><span class=\"toc-item-num\">4.1&nbsp;&nbsp;</span>Load new data</a></span></li><li><span><a href=\"#Also-load-old-train-and-test-data\" data-toc-modified-id=\"Also-load-old-train-and-test-data-4.2\"><span class=\"toc-item-num\">4.2&nbsp;&nbsp;</span>Also load old train and test data</a></span></li></ul></li><li><span><a href=\"#Data-Manipulation\" data-toc-modified-id=\"Data-Manipulation-5\"><span class=\"toc-item-num\">5&nbsp;&nbsp;</span>Data Manipulation</a></span><ul class=\"toc-item\"><li><span><a href=\"#Memory-Reduction\" data-toc-modified-id=\"Memory-Reduction-5.1\"><span class=\"toc-item-num\">5.1&nbsp;&nbsp;</span>Memory Reduction</a></span></li><li><span><a href=\"#data-type:-datetetime\" data-toc-modified-id=\"data-type:-datetetime-5.2\"><span class=\"toc-item-num\">5.2&nbsp;&nbsp;</span>data type: datetetime</a></span></li><li><span><a href=\"#data-type:-object\" data-toc-modified-id=\"data-type:-object-5.3\"><span class=\"toc-item-num\">5.3&nbsp;&nbsp;</span>data type: object</a></span></li><li><span><a href=\"#Hidden-Continuous-features\" data-toc-modified-id=\"Hidden-Continuous-features-5.4\"><span class=\"toc-item-num\">5.4&nbsp;&nbsp;</span>Hidden Continuous features</a></span></li><li><span><a href=\"#Create-New-Columns\" data-toc-modified-id=\"Create-New-Columns-5.5\"><span class=\"toc-item-num\">5.5&nbsp;&nbsp;</span>Create New Columns</a></span></li><li><span><a href=\"#Missing-Values\" data-toc-modified-id=\"Missing-Values-5.6\"><span class=\"toc-item-num\">5.6&nbsp;&nbsp;</span>Missing Values</a></span><ul class=\"toc-item\"><li><span><a href=\"#fill-nans-with-mean\" data-toc-modified-id=\"fill-nans-with-mean-5.6.1\"><span class=\"toc-item-num\">5.6.1&nbsp;&nbsp;</span>fill nans with mean</a></span></li><li><span><a href=\"#fill-nans-with-another-column\" data-toc-modified-id=\"fill-nans-with-another-column-5.6.2\"><span class=\"toc-item-num\">5.6.2&nbsp;&nbsp;</span>fill nans with another column</a></span></li><li><span><a href=\"#fill-nans-with-zero\" data-toc-modified-id=\"fill-nans-with-zero-5.6.3\"><span class=\"toc-item-num\">5.6.3&nbsp;&nbsp;</span>fill nans with zero</a></span></li></ul></li><li><span><a href=\"#Dummy-variables\" data-toc-modified-id=\"Dummy-variables-5.7\"><span class=\"toc-item-num\">5.7&nbsp;&nbsp;</span>Dummy variables</a></span></li></ul></li><li><span><a href=\"#Weight-of-Evidence-WoE-and-Information-Value-IV\" data-toc-modified-id=\"Weight-of-Evidence-WoE-and-Information-Value-IV-6\"><span class=\"toc-item-num\">6&nbsp;&nbsp;</span>Weight of Evidence WoE and Information Value IV</a></span><ul class=\"toc-item\"><li><span><a href=\"#Data-Preparation\" data-toc-modified-id=\"Data-Preparation-6.1\"><span class=\"toc-item-num\">6.1&nbsp;&nbsp;</span>Data Preparation</a></span></li><li><span><a href=\"#Categorical-Variables\" data-toc-modified-id=\"Categorical-Variables-6.2\"><span class=\"toc-item-num\">6.2&nbsp;&nbsp;</span>Categorical Variables</a></span></li><li><span><a href=\"#woe-dummies-continuous:-mths_since_issue_d\" data-toc-modified-id=\"woe-dummies-continuous:-mths_since_issue_d-6.3\"><span class=\"toc-item-num\">6.3&nbsp;&nbsp;</span>woe dummies continuous: mths_since_issue_d</a></span></li><li><span><a href=\"#woe-dummies-continuous:-int_rate\" data-toc-modified-id=\"woe-dummies-continuous:-int_rate-6.4\"><span class=\"toc-item-num\">6.4&nbsp;&nbsp;</span>woe dummies continuous: int_rate</a></span><ul class=\"toc-item\"><li><span><a href=\"#woe-dummies-continuous:-funded_amnt-**\" data-toc-modified-id=\"woe-dummies-continuous:-funded_amnt-**-6.4.1\"><span class=\"toc-item-num\">6.4.1&nbsp;&nbsp;</span>woe dummies continuous: funded_amnt **</a></span></li></ul></li><li><span><a href=\"#woe-dummies-continuous:-mths_since_earliest_cr_line\" data-toc-modified-id=\"woe-dummies-continuous:-mths_since_earliest_cr_line-6.5\"><span class=\"toc-item-num\">6.5&nbsp;&nbsp;</span>woe dummies continuous: mths_since_earliest_cr_line</a></span></li><li><span><a href=\"#woe-dummies-continuous:-delinq_2yrs-**\" data-toc-modified-id=\"woe-dummies-continuous:-delinq_2yrs-**-6.6\"><span class=\"toc-item-num\">6.6&nbsp;&nbsp;</span>woe dummies continuous: delinq_2yrs **</a></span></li><li><span><a href=\"#woe-dummies-continuous:-inq_last_6mths\" data-toc-modified-id=\"woe-dummies-continuous:-inq_last_6mths-6.7\"><span class=\"toc-item-num\">6.7&nbsp;&nbsp;</span>woe dummies continuous: inq_last_6mths</a></span></li><li><span><a href=\"#woe-dummies-continuous:-open_acc\" data-toc-modified-id=\"woe-dummies-continuous:-open_acc-6.8\"><span class=\"toc-item-num\">6.8&nbsp;&nbsp;</span>woe dummies continuous: open_acc</a></span></li><li><span><a href=\"#woe-dummies-continuous:-pub_rec\" data-toc-modified-id=\"woe-dummies-continuous:-pub_rec-6.9\"><span class=\"toc-item-num\">6.9&nbsp;&nbsp;</span>woe dummies continuous: pub_rec</a></span></li><li><span><a href=\"#woe-dummies-continuous:-total_acc\" data-toc-modified-id=\"woe-dummies-continuous:-total_acc-6.10\"><span class=\"toc-item-num\">6.10&nbsp;&nbsp;</span>woe dummies continuous: total_acc</a></span></li><li><span><a href=\"#woe-dummies-continuous:-acc_now_delinq\" data-toc-modified-id=\"woe-dummies-continuous:-acc_now_delinq-6.11\"><span class=\"toc-item-num\">6.11&nbsp;&nbsp;</span>woe dummies continuous: acc_now_delinq</a></span></li><li><span><a href=\"#woe-dummies-continuous:-total_rev_hi_lim\" data-toc-modified-id=\"woe-dummies-continuous:-total_rev_hi_lim-6.12\"><span class=\"toc-item-num\">6.12&nbsp;&nbsp;</span>woe dummies continuous: total_rev_hi_lim</a></span></li><li><span><a href=\"#woe-dummies-continuous:-installment\" data-toc-modified-id=\"woe-dummies-continuous:-installment-6.13\"><span class=\"toc-item-num\">6.13&nbsp;&nbsp;</span>woe dummies continuous: installment</a></span></li><li><span><a href=\"#woe-dummies-continuous:-annual_inc\" data-toc-modified-id=\"woe-dummies-continuous:-annual_inc-6.14\"><span class=\"toc-item-num\">6.14&nbsp;&nbsp;</span>woe dummies continuous: annual_inc</a></span></li><li><span><a href=\"#woe-dummies-continuous:-mths_since_last_delinq-**\" data-toc-modified-id=\"woe-dummies-continuous:-mths_since_last_delinq-**-6.15\"><span class=\"toc-item-num\">6.15&nbsp;&nbsp;</span>woe dummies continuous: mths_since_last_delinq **</a></span></li><li><span><a href=\"#woe-dummies-continuous:-dti-**\" data-toc-modified-id=\"woe-dummies-continuous:-dti-**-6.16\"><span class=\"toc-item-num\">6.16&nbsp;&nbsp;</span>woe dummies continuous: dti **</a></span></li><li><span><a href=\"#woe-dummies-continuous:-mths_since_last_record-**-missing\" data-toc-modified-id=\"woe-dummies-continuous:-mths_since_last_record-**-missing-6.17\"><span class=\"toc-item-num\">6.17&nbsp;&nbsp;</span>woe dummies continuous: mths_since_last_record ** missing</a></span></li></ul></li><li><span><a href=\"#Save-the-train-data-and-repeat-for-test\" data-toc-modified-id=\"Save-the-train-data-and-repeat-for-test-7\"><span class=\"toc-item-num\">7&nbsp;&nbsp;</span>Save the train data and repeat for test</a></span></li><li><span><a href=\"#Time-Taken\" data-toc-modified-id=\"Time-Taken-8\"><span class=\"toc-item-num\">8&nbsp;&nbsp;</span>Time Taken</a></span></li></ul></div>"
   ]
  },
  {
   "cell_type": "markdown",
   "metadata": {},
   "source": [
    "# Description\n",
    "\n",
    "The process of assessing your model in light of new data is called\n",
    "`Model Maintenance`. In reality these tests are scheduled for 6 months or a year. We can also check number of applicants (eg 50k or 100k) and after it cross certain benchmark we can assess our old model.\n",
    "\n",
    "One of the popular method of comparing old and new data is `Population Stability Index PSI`.\n",
    "\n",
    "```\n",
    "actual = new data\n",
    "expected = old data\n",
    "\n",
    "```\n",
    "\n",
    "![](../images/PSI_1.png)\n",
    "![](../images/PSI_2.png)"
   ]
  },
  {
   "cell_type": "markdown",
   "metadata": {},
   "source": [
    "# WoE and IV\n",
    "\n",
    "![](../images/WOE_formula.png)\n",
    "![](../images/WOE_example.png)\n",
    "![](../images/IV_formula.png)\n",
    "![](../images/IV_example.png)"
   ]
  },
  {
   "cell_type": "markdown",
   "metadata": {},
   "source": [
    "# Imports"
   ]
  },
  {
   "cell_type": "code",
   "execution_count": 1,
   "metadata": {
    "ExecuteTime": {
     "end_time": "2020-04-05T21:26:45.564634Z",
     "start_time": "2020-04-05T21:26:45.560205Z"
    }
   },
   "outputs": [],
   "source": [
    "import time\n",
    "time_start_notebook = time.time()"
   ]
  },
  {
   "cell_type": "code",
   "execution_count": 2,
   "metadata": {
    "ExecuteTime": {
     "end_time": "2020-04-05T21:26:48.899215Z",
     "start_time": "2020-04-05T21:26:45.571142Z"
    }
   },
   "outputs": [
    {
     "name": "stderr",
     "output_type": "stream",
     "text": [
      "/Users/poudel/miniconda3/envs/dataSc/lib/python3.7/site-packages/statsmodels/tools/_testing.py:19: FutureWarning: pandas.util.testing is deprecated. Use the functions in the public API at pandas.testing instead.\n",
      "  import pandas.util.testing as tm\n"
     ]
    },
    {
     "data": {
      "text/plain": [
       "[('numpy', '1.18.1'), ('pandas', '1.0.1'), ('seaborn', '0.9.0')]"
      ]
     },
     "execution_count": 2,
     "metadata": {},
     "output_type": "execute_result"
    }
   ],
   "source": [
    "import numpy as np\n",
    "import pandas as pd\n",
    "import seaborn as sns\n",
    "pd.plotting.register_matplotlib_converters()\n",
    "\n",
    "from tqdm import tqdm_notebook as tqdm\n",
    "import matplotlib.pyplot as plt\n",
    "\n",
    "%matplotlib inline\n",
    "%config InlineBackend.figure_format = 'retina'\n",
    "plt.style.use('ggplot') \n",
    "\n",
    "# random state\n",
    "SEED=100\n",
    "np.random.seed(SEED)\n",
    "\n",
    "[(x.__name__,x.__version__) for x in [np,pd,sns]]"
   ]
  },
  {
   "cell_type": "code",
   "execution_count": 3,
   "metadata": {
    "ExecuteTime": {
     "end_time": "2020-04-05T21:26:48.906651Z",
     "start_time": "2020-04-05T21:26:48.902109Z"
    }
   },
   "outputs": [],
   "source": [
    "pd.options.display.max_columns = None"
   ]
  },
  {
   "cell_type": "code",
   "execution_count": 4,
   "metadata": {
    "ExecuteTime": {
     "end_time": "2020-04-05T21:26:48.916639Z",
     "start_time": "2020-04-05T21:26:48.910244Z"
    }
   },
   "outputs": [
    {
     "data": {
      "application/javascript": [
       "IPython.OutputArea.auto_scroll_threshold = 9999;\n"
      ],
      "text/plain": [
       "<IPython.core.display.Javascript object>"
      ]
     },
     "metadata": {},
     "output_type": "display_data"
    }
   ],
   "source": [
    "%%javascript\n",
    "IPython.OutputArea.auto_scroll_threshold = 9999;"
   ]
  },
  {
   "cell_type": "code",
   "execution_count": 5,
   "metadata": {
    "ExecuteTime": {
     "end_time": "2020-04-05T21:26:48.927612Z",
     "start_time": "2020-04-05T21:26:48.923389Z"
    }
   },
   "outputs": [],
   "source": [
    "import datetime\n",
    "import functools"
   ]
  },
  {
   "cell_type": "code",
   "execution_count": 6,
   "metadata": {
    "ExecuteTime": {
     "end_time": "2020-04-05T21:26:49.327219Z",
     "start_time": "2020-04-05T21:26:48.932847Z"
    }
   },
   "outputs": [],
   "source": [
    "from sklearn.model_selection import train_test_split"
   ]
  },
  {
   "cell_type": "markdown",
   "metadata": {},
   "source": [
    "# Load the data"
   ]
  },
  {
   "cell_type": "markdown",
   "metadata": {},
   "source": [
    "## Load new data"
   ]
  },
  {
   "cell_type": "code",
   "execution_count": 7,
   "metadata": {
    "ExecuteTime": {
     "end_time": "2020-04-05T21:26:49.472986Z",
     "start_time": "2020-04-05T21:26:49.334497Z"
    }
   },
   "outputs": [
    {
     "name": "stdout",
     "output_type": "stream",
     "text": [
      "\u001b[32mLCDataDictionary.xlsx\u001b[m\u001b[m       loan_data_2007_2014.csv.zip loan_data_2015.csv.zip\r\n",
      "\u001b[32mloan_data_2007_2014.csv\u001b[m\u001b[m     \u001b[32mloan_data_2015.csv\u001b[m\u001b[m\r\n"
     ]
    }
   ],
   "source": [
    "!ls ../data/raw"
   ]
  },
  {
   "cell_type": "code",
   "execution_count": 8,
   "metadata": {
    "ExecuteTime": {
     "end_time": "2020-04-05T21:26:49.482514Z",
     "start_time": "2020-04-05T21:26:49.478610Z"
    }
   },
   "outputs": [],
   "source": [
    "path_raw = '../data/raw/'\n",
    "path_pro = '../data/processed/'"
   ]
  },
  {
   "cell_type": "code",
   "execution_count": 9,
   "metadata": {
    "ExecuteTime": {
     "end_time": "2020-04-05T21:26:59.656991Z",
     "start_time": "2020-04-05T21:26:49.486213Z"
    }
   },
   "outputs": [
    {
     "name": "stdout",
     "output_type": "stream",
     "text": [
      "(421094, 74)\n"
     ]
    },
    {
     "data": {
      "text/html": [
       "<div>\n",
       "<style scoped>\n",
       "    .dataframe tbody tr th:only-of-type {\n",
       "        vertical-align: middle;\n",
       "    }\n",
       "\n",
       "    .dataframe tbody tr th {\n",
       "        vertical-align: top;\n",
       "    }\n",
       "\n",
       "    .dataframe thead th {\n",
       "        text-align: right;\n",
       "    }\n",
       "</style>\n",
       "<table border=\"1\" class=\"dataframe\">\n",
       "  <thead>\n",
       "    <tr style=\"text-align: right;\">\n",
       "      <th></th>\n",
       "      <th>id</th>\n",
       "      <th>member_id</th>\n",
       "      <th>loan_amnt</th>\n",
       "      <th>funded_amnt</th>\n",
       "      <th>funded_amnt_inv</th>\n",
       "      <th>term</th>\n",
       "      <th>int_rate</th>\n",
       "      <th>installment</th>\n",
       "      <th>grade</th>\n",
       "      <th>sub_grade</th>\n",
       "      <th>emp_title</th>\n",
       "      <th>emp_length</th>\n",
       "      <th>home_ownership</th>\n",
       "      <th>annual_inc</th>\n",
       "      <th>verification_status</th>\n",
       "      <th>issue_d</th>\n",
       "      <th>loan_status</th>\n",
       "      <th>pymnt_plan</th>\n",
       "      <th>url</th>\n",
       "      <th>desc</th>\n",
       "      <th>purpose</th>\n",
       "      <th>title</th>\n",
       "      <th>zip_code</th>\n",
       "      <th>addr_state</th>\n",
       "      <th>dti</th>\n",
       "      <th>delinq_2yrs</th>\n",
       "      <th>earliest_cr_line</th>\n",
       "      <th>inq_last_6mths</th>\n",
       "      <th>mths_since_last_delinq</th>\n",
       "      <th>mths_since_last_record</th>\n",
       "      <th>open_acc</th>\n",
       "      <th>pub_rec</th>\n",
       "      <th>revol_bal</th>\n",
       "      <th>revol_util</th>\n",
       "      <th>total_acc</th>\n",
       "      <th>initial_list_status</th>\n",
       "      <th>out_prncp</th>\n",
       "      <th>out_prncp_inv</th>\n",
       "      <th>total_pymnt</th>\n",
       "      <th>total_pymnt_inv</th>\n",
       "      <th>total_rec_prncp</th>\n",
       "      <th>total_rec_int</th>\n",
       "      <th>total_rec_late_fee</th>\n",
       "      <th>recoveries</th>\n",
       "      <th>collection_recovery_fee</th>\n",
       "      <th>last_pymnt_d</th>\n",
       "      <th>last_pymnt_amnt</th>\n",
       "      <th>next_pymnt_d</th>\n",
       "      <th>last_credit_pull_d</th>\n",
       "      <th>collections_12_mths_ex_med</th>\n",
       "      <th>mths_since_last_major_derog</th>\n",
       "      <th>policy_code</th>\n",
       "      <th>application_type</th>\n",
       "      <th>annual_inc_joint</th>\n",
       "      <th>dti_joint</th>\n",
       "      <th>verification_status_joint</th>\n",
       "      <th>acc_now_delinq</th>\n",
       "      <th>tot_coll_amt</th>\n",
       "      <th>tot_cur_bal</th>\n",
       "      <th>open_acc_6m</th>\n",
       "      <th>open_il_6m</th>\n",
       "      <th>open_il_12m</th>\n",
       "      <th>open_il_24m</th>\n",
       "      <th>mths_since_rcnt_il</th>\n",
       "      <th>total_bal_il</th>\n",
       "      <th>il_util</th>\n",
       "      <th>open_rv_12m</th>\n",
       "      <th>open_rv_24m</th>\n",
       "      <th>max_bal_bc</th>\n",
       "      <th>all_util</th>\n",
       "      <th>total_rev_hi_lim</th>\n",
       "      <th>inq_fi</th>\n",
       "      <th>total_cu_tl</th>\n",
       "      <th>inq_last_12m</th>\n",
       "    </tr>\n",
       "  </thead>\n",
       "  <tbody>\n",
       "    <tr>\n",
       "      <th>0</th>\n",
       "      <td>68444620</td>\n",
       "      <td>73334399</td>\n",
       "      <td>35000</td>\n",
       "      <td>35000</td>\n",
       "      <td>35000.0</td>\n",
       "      <td>60 months</td>\n",
       "      <td>11.99</td>\n",
       "      <td>778.38</td>\n",
       "      <td>C</td>\n",
       "      <td>C1</td>\n",
       "      <td>Foreign Service Officer</td>\n",
       "      <td>10+ years</td>\n",
       "      <td>MORTGAGE</td>\n",
       "      <td>128000.0</td>\n",
       "      <td>Source Verified</td>\n",
       "      <td>Dec-15</td>\n",
       "      <td>Issued</td>\n",
       "      <td>n</td>\n",
       "      <td>https://www.lendingclub.com/browse/loanDetail....</td>\n",
       "      <td>NaN</td>\n",
       "      <td>home_improvement</td>\n",
       "      <td>Home improvement</td>\n",
       "      <td>200xx</td>\n",
       "      <td>DC</td>\n",
       "      <td>6.46</td>\n",
       "      <td>0.0</td>\n",
       "      <td>Feb-90</td>\n",
       "      <td>0.0</td>\n",
       "      <td>46.0</td>\n",
       "      <td>NaN</td>\n",
       "      <td>17.0</td>\n",
       "      <td>0.0</td>\n",
       "      <td>14277</td>\n",
       "      <td>27.4</td>\n",
       "      <td>46.0</td>\n",
       "      <td>w</td>\n",
       "      <td>35000.00</td>\n",
       "      <td>35000.00</td>\n",
       "      <td>0.00</td>\n",
       "      <td>0.00</td>\n",
       "      <td>0.00</td>\n",
       "      <td>0.00</td>\n",
       "      <td>0.0</td>\n",
       "      <td>0.0</td>\n",
       "      <td>0.0</td>\n",
       "      <td>NaN</td>\n",
       "      <td>0.00</td>\n",
       "      <td>Jan-16</td>\n",
       "      <td>Jan-16</td>\n",
       "      <td>0.0</td>\n",
       "      <td>56.0</td>\n",
       "      <td>1</td>\n",
       "      <td>INDIVIDUAL</td>\n",
       "      <td>NaN</td>\n",
       "      <td>NaN</td>\n",
       "      <td>NaN</td>\n",
       "      <td>0.0</td>\n",
       "      <td>321.0</td>\n",
       "      <td>146867.0</td>\n",
       "      <td>1.0</td>\n",
       "      <td>11.0</td>\n",
       "      <td>0.0</td>\n",
       "      <td>0.0</td>\n",
       "      <td>28.0</td>\n",
       "      <td>35367.0</td>\n",
       "      <td>49.3</td>\n",
       "      <td>0.0</td>\n",
       "      <td>1.0</td>\n",
       "      <td>5020.0</td>\n",
       "      <td>40.1</td>\n",
       "      <td>52200.0</td>\n",
       "      <td>1.0</td>\n",
       "      <td>4.0</td>\n",
       "      <td>0.0</td>\n",
       "    </tr>\n",
       "    <tr>\n",
       "      <th>1</th>\n",
       "      <td>68547583</td>\n",
       "      <td>73437441</td>\n",
       "      <td>8650</td>\n",
       "      <td>8650</td>\n",
       "      <td>8650.0</td>\n",
       "      <td>36 months</td>\n",
       "      <td>5.32</td>\n",
       "      <td>260.50</td>\n",
       "      <td>A</td>\n",
       "      <td>A1</td>\n",
       "      <td>Associate Consultant</td>\n",
       "      <td>&lt; 1 year</td>\n",
       "      <td>MORTGAGE</td>\n",
       "      <td>100000.0</td>\n",
       "      <td>Not Verified</td>\n",
       "      <td>Dec-15</td>\n",
       "      <td>Issued</td>\n",
       "      <td>n</td>\n",
       "      <td>https://www.lendingclub.com/browse/loanDetail....</td>\n",
       "      <td>NaN</td>\n",
       "      <td>credit_card</td>\n",
       "      <td>Credit card refinancing</td>\n",
       "      <td>462xx</td>\n",
       "      <td>IN</td>\n",
       "      <td>7.28</td>\n",
       "      <td>0.0</td>\n",
       "      <td>Jul-01</td>\n",
       "      <td>0.0</td>\n",
       "      <td>NaN</td>\n",
       "      <td>NaN</td>\n",
       "      <td>15.0</td>\n",
       "      <td>0.0</td>\n",
       "      <td>7158</td>\n",
       "      <td>26.7</td>\n",
       "      <td>24.0</td>\n",
       "      <td>w</td>\n",
       "      <td>8650.00</td>\n",
       "      <td>8650.00</td>\n",
       "      <td>0.00</td>\n",
       "      <td>0.00</td>\n",
       "      <td>0.00</td>\n",
       "      <td>0.00</td>\n",
       "      <td>0.0</td>\n",
       "      <td>0.0</td>\n",
       "      <td>0.0</td>\n",
       "      <td>NaN</td>\n",
       "      <td>0.00</td>\n",
       "      <td>Jan-16</td>\n",
       "      <td>Jan-16</td>\n",
       "      <td>0.0</td>\n",
       "      <td>NaN</td>\n",
       "      <td>1</td>\n",
       "      <td>INDIVIDUAL</td>\n",
       "      <td>NaN</td>\n",
       "      <td>NaN</td>\n",
       "      <td>NaN</td>\n",
       "      <td>0.0</td>\n",
       "      <td>0.0</td>\n",
       "      <td>165450.0</td>\n",
       "      <td>0.0</td>\n",
       "      <td>1.0</td>\n",
       "      <td>1.0</td>\n",
       "      <td>1.0</td>\n",
       "      <td>11.0</td>\n",
       "      <td>24041.0</td>\n",
       "      <td>88.8</td>\n",
       "      <td>0.0</td>\n",
       "      <td>3.0</td>\n",
       "      <td>3081.0</td>\n",
       "      <td>57.9</td>\n",
       "      <td>26800.0</td>\n",
       "      <td>1.0</td>\n",
       "      <td>0.0</td>\n",
       "      <td>5.0</td>\n",
       "    </tr>\n",
       "    <tr>\n",
       "      <th>421092</th>\n",
       "      <td>36490806</td>\n",
       "      <td>39222577</td>\n",
       "      <td>12000</td>\n",
       "      <td>12000</td>\n",
       "      <td>12000.0</td>\n",
       "      <td>60 months</td>\n",
       "      <td>19.99</td>\n",
       "      <td>317.86</td>\n",
       "      <td>E</td>\n",
       "      <td>E3</td>\n",
       "      <td>Painter</td>\n",
       "      <td>1 year</td>\n",
       "      <td>RENT</td>\n",
       "      <td>64400.0</td>\n",
       "      <td>Source Verified</td>\n",
       "      <td>Jan-15</td>\n",
       "      <td>Current</td>\n",
       "      <td>n</td>\n",
       "      <td>https://www.lendingclub.com/browse/loanDetail....</td>\n",
       "      <td>NaN</td>\n",
       "      <td>debt_consolidation</td>\n",
       "      <td>Debt consolidation</td>\n",
       "      <td>010xx</td>\n",
       "      <td>MA</td>\n",
       "      <td>27.19</td>\n",
       "      <td>1.0</td>\n",
       "      <td>Oct-03</td>\n",
       "      <td>2.0</td>\n",
       "      <td>22.0</td>\n",
       "      <td>NaN</td>\n",
       "      <td>17.0</td>\n",
       "      <td>0.0</td>\n",
       "      <td>8254</td>\n",
       "      <td>30.6</td>\n",
       "      <td>20.0</td>\n",
       "      <td>w</td>\n",
       "      <td>10447.31</td>\n",
       "      <td>10447.31</td>\n",
       "      <td>3787.67</td>\n",
       "      <td>3787.67</td>\n",
       "      <td>1552.69</td>\n",
       "      <td>2234.98</td>\n",
       "      <td>0.0</td>\n",
       "      <td>0.0</td>\n",
       "      <td>0.0</td>\n",
       "      <td>Jan-16</td>\n",
       "      <td>317.86</td>\n",
       "      <td>Feb-16</td>\n",
       "      <td>Jan-16</td>\n",
       "      <td>1.0</td>\n",
       "      <td>22.0</td>\n",
       "      <td>1</td>\n",
       "      <td>INDIVIDUAL</td>\n",
       "      <td>NaN</td>\n",
       "      <td>NaN</td>\n",
       "      <td>NaN</td>\n",
       "      <td>0.0</td>\n",
       "      <td>0.0</td>\n",
       "      <td>58418.0</td>\n",
       "      <td>NaN</td>\n",
       "      <td>NaN</td>\n",
       "      <td>NaN</td>\n",
       "      <td>NaN</td>\n",
       "      <td>NaN</td>\n",
       "      <td>NaN</td>\n",
       "      <td>NaN</td>\n",
       "      <td>NaN</td>\n",
       "      <td>NaN</td>\n",
       "      <td>NaN</td>\n",
       "      <td>NaN</td>\n",
       "      <td>27000.0</td>\n",
       "      <td>NaN</td>\n",
       "      <td>NaN</td>\n",
       "      <td>NaN</td>\n",
       "    </tr>\n",
       "    <tr>\n",
       "      <th>421093</th>\n",
       "      <td>36271262</td>\n",
       "      <td>38982659</td>\n",
       "      <td>20000</td>\n",
       "      <td>20000</td>\n",
       "      <td>20000.0</td>\n",
       "      <td>36 months</td>\n",
       "      <td>11.99</td>\n",
       "      <td>664.20</td>\n",
       "      <td>B</td>\n",
       "      <td>B5</td>\n",
       "      <td>Manager Hotel Operations Oasis</td>\n",
       "      <td>10+ years</td>\n",
       "      <td>RENT</td>\n",
       "      <td>100000.0</td>\n",
       "      <td>Verified</td>\n",
       "      <td>Jan-15</td>\n",
       "      <td>Current</td>\n",
       "      <td>n</td>\n",
       "      <td>https://www.lendingclub.com/browse/loanDetail....</td>\n",
       "      <td>NaN</td>\n",
       "      <td>credit_card</td>\n",
       "      <td>Credit card refinancing</td>\n",
       "      <td>331xx</td>\n",
       "      <td>FL</td>\n",
       "      <td>10.83</td>\n",
       "      <td>0.0</td>\n",
       "      <td>Dec-01</td>\n",
       "      <td>1.0</td>\n",
       "      <td>NaN</td>\n",
       "      <td>110.0</td>\n",
       "      <td>8.0</td>\n",
       "      <td>1.0</td>\n",
       "      <td>33266</td>\n",
       "      <td>79.8</td>\n",
       "      <td>10.0</td>\n",
       "      <td>f</td>\n",
       "      <td>14110.94</td>\n",
       "      <td>14110.94</td>\n",
       "      <td>7943.76</td>\n",
       "      <td>7943.76</td>\n",
       "      <td>5889.06</td>\n",
       "      <td>2054.70</td>\n",
       "      <td>0.0</td>\n",
       "      <td>0.0</td>\n",
       "      <td>0.0</td>\n",
       "      <td>Jan-16</td>\n",
       "      <td>664.20</td>\n",
       "      <td>Feb-16</td>\n",
       "      <td>Jan-16</td>\n",
       "      <td>0.0</td>\n",
       "      <td>NaN</td>\n",
       "      <td>1</td>\n",
       "      <td>INDIVIDUAL</td>\n",
       "      <td>NaN</td>\n",
       "      <td>NaN</td>\n",
       "      <td>NaN</td>\n",
       "      <td>0.0</td>\n",
       "      <td>0.0</td>\n",
       "      <td>33307.0</td>\n",
       "      <td>NaN</td>\n",
       "      <td>NaN</td>\n",
       "      <td>NaN</td>\n",
       "      <td>NaN</td>\n",
       "      <td>NaN</td>\n",
       "      <td>NaN</td>\n",
       "      <td>NaN</td>\n",
       "      <td>NaN</td>\n",
       "      <td>NaN</td>\n",
       "      <td>NaN</td>\n",
       "      <td>NaN</td>\n",
       "      <td>41700.0</td>\n",
       "      <td>NaN</td>\n",
       "      <td>NaN</td>\n",
       "      <td>NaN</td>\n",
       "    </tr>\n",
       "  </tbody>\n",
       "</table>\n",
       "</div>"
      ],
      "text/plain": [
       "              id  member_id  loan_amnt  funded_amnt  funded_amnt_inv  \\\n",
       "0       68444620   73334399      35000        35000          35000.0   \n",
       "1       68547583   73437441       8650         8650           8650.0   \n",
       "421092  36490806   39222577      12000        12000          12000.0   \n",
       "421093  36271262   38982659      20000        20000          20000.0   \n",
       "\n",
       "              term  int_rate  installment grade sub_grade  \\\n",
       "0        60 months     11.99       778.38     C        C1   \n",
       "1        36 months      5.32       260.50     A        A1   \n",
       "421092   60 months     19.99       317.86     E        E3   \n",
       "421093   36 months     11.99       664.20     B        B5   \n",
       "\n",
       "                              emp_title emp_length home_ownership  annual_inc  \\\n",
       "0               Foreign Service Officer  10+ years       MORTGAGE    128000.0   \n",
       "1                  Associate Consultant   < 1 year       MORTGAGE    100000.0   \n",
       "421092                          Painter     1 year           RENT     64400.0   \n",
       "421093  Manager Hotel Operations Oasis   10+ years           RENT    100000.0   \n",
       "\n",
       "       verification_status issue_d loan_status pymnt_plan  \\\n",
       "0          Source Verified  Dec-15      Issued          n   \n",
       "1             Not Verified  Dec-15      Issued          n   \n",
       "421092     Source Verified  Jan-15     Current          n   \n",
       "421093            Verified  Jan-15     Current          n   \n",
       "\n",
       "                                                      url desc  \\\n",
       "0       https://www.lendingclub.com/browse/loanDetail....  NaN   \n",
       "1       https://www.lendingclub.com/browse/loanDetail....  NaN   \n",
       "421092  https://www.lendingclub.com/browse/loanDetail....  NaN   \n",
       "421093  https://www.lendingclub.com/browse/loanDetail....  NaN   \n",
       "\n",
       "                   purpose                    title zip_code addr_state  \\\n",
       "0         home_improvement         Home improvement    200xx         DC   \n",
       "1              credit_card  Credit card refinancing    462xx         IN   \n",
       "421092  debt_consolidation       Debt consolidation    010xx         MA   \n",
       "421093         credit_card  Credit card refinancing    331xx         FL   \n",
       "\n",
       "          dti  delinq_2yrs earliest_cr_line  inq_last_6mths  \\\n",
       "0        6.46          0.0           Feb-90             0.0   \n",
       "1        7.28          0.0           Jul-01             0.0   \n",
       "421092  27.19          1.0           Oct-03             2.0   \n",
       "421093  10.83          0.0           Dec-01             1.0   \n",
       "\n",
       "        mths_since_last_delinq  mths_since_last_record  open_acc  pub_rec  \\\n",
       "0                         46.0                     NaN      17.0      0.0   \n",
       "1                          NaN                     NaN      15.0      0.0   \n",
       "421092                    22.0                     NaN      17.0      0.0   \n",
       "421093                     NaN                   110.0       8.0      1.0   \n",
       "\n",
       "        revol_bal  revol_util  total_acc initial_list_status  out_prncp  \\\n",
       "0           14277        27.4       46.0                   w   35000.00   \n",
       "1            7158        26.7       24.0                   w    8650.00   \n",
       "421092       8254        30.6       20.0                   w   10447.31   \n",
       "421093      33266        79.8       10.0                   f   14110.94   \n",
       "\n",
       "        out_prncp_inv  total_pymnt  total_pymnt_inv  total_rec_prncp  \\\n",
       "0            35000.00         0.00             0.00             0.00   \n",
       "1             8650.00         0.00             0.00             0.00   \n",
       "421092       10447.31      3787.67          3787.67          1552.69   \n",
       "421093       14110.94      7943.76          7943.76          5889.06   \n",
       "\n",
       "        total_rec_int  total_rec_late_fee  recoveries  \\\n",
       "0                0.00                 0.0         0.0   \n",
       "1                0.00                 0.0         0.0   \n",
       "421092        2234.98                 0.0         0.0   \n",
       "421093        2054.70                 0.0         0.0   \n",
       "\n",
       "        collection_recovery_fee last_pymnt_d  last_pymnt_amnt next_pymnt_d  \\\n",
       "0                           0.0          NaN             0.00       Jan-16   \n",
       "1                           0.0          NaN             0.00       Jan-16   \n",
       "421092                      0.0       Jan-16           317.86       Feb-16   \n",
       "421093                      0.0       Jan-16           664.20       Feb-16   \n",
       "\n",
       "       last_credit_pull_d  collections_12_mths_ex_med  \\\n",
       "0                  Jan-16                         0.0   \n",
       "1                  Jan-16                         0.0   \n",
       "421092             Jan-16                         1.0   \n",
       "421093             Jan-16                         0.0   \n",
       "\n",
       "        mths_since_last_major_derog  policy_code application_type  \\\n",
       "0                              56.0            1       INDIVIDUAL   \n",
       "1                               NaN            1       INDIVIDUAL   \n",
       "421092                         22.0            1       INDIVIDUAL   \n",
       "421093                          NaN            1       INDIVIDUAL   \n",
       "\n",
       "        annual_inc_joint  dti_joint verification_status_joint  acc_now_delinq  \\\n",
       "0                    NaN        NaN                       NaN             0.0   \n",
       "1                    NaN        NaN                       NaN             0.0   \n",
       "421092               NaN        NaN                       NaN             0.0   \n",
       "421093               NaN        NaN                       NaN             0.0   \n",
       "\n",
       "        tot_coll_amt  tot_cur_bal  open_acc_6m  open_il_6m  open_il_12m  \\\n",
       "0              321.0     146867.0          1.0        11.0          0.0   \n",
       "1                0.0     165450.0          0.0         1.0          1.0   \n",
       "421092           0.0      58418.0          NaN         NaN          NaN   \n",
       "421093           0.0      33307.0          NaN         NaN          NaN   \n",
       "\n",
       "        open_il_24m  mths_since_rcnt_il  total_bal_il  il_util  open_rv_12m  \\\n",
       "0               0.0                28.0       35367.0     49.3          0.0   \n",
       "1               1.0                11.0       24041.0     88.8          0.0   \n",
       "421092          NaN                 NaN           NaN      NaN          NaN   \n",
       "421093          NaN                 NaN           NaN      NaN          NaN   \n",
       "\n",
       "        open_rv_24m  max_bal_bc  all_util  total_rev_hi_lim  inq_fi  \\\n",
       "0               1.0      5020.0      40.1           52200.0     1.0   \n",
       "1               3.0      3081.0      57.9           26800.0     1.0   \n",
       "421092          NaN         NaN       NaN           27000.0     NaN   \n",
       "421093          NaN         NaN       NaN           41700.0     NaN   \n",
       "\n",
       "        total_cu_tl  inq_last_12m  \n",
       "0               4.0           0.0  \n",
       "1               0.0           5.0  \n",
       "421092          NaN           NaN  \n",
       "421093          NaN           NaN  "
      ]
     },
     "execution_count": 9,
     "metadata": {},
     "output_type": "execute_result"
    }
   ],
   "source": [
    "df = pd.read_csv(path_raw + 'loan_data_2015.csv',low_memory=False)\n",
    "\n",
    "print(df.shape)\n",
    "df.head(2).append(df.tail(2))"
   ]
  },
  {
   "cell_type": "code",
   "execution_count": 10,
   "metadata": {
    "ExecuteTime": {
     "end_time": "2020-04-05T21:27:00.092640Z",
     "start_time": "2020-04-05T21:26:59.671449Z"
    }
   },
   "outputs": [],
   "source": [
    "df_copy = df.copy(deep=True)"
   ]
  },
  {
   "cell_type": "code",
   "execution_count": 11,
   "metadata": {
    "ExecuteTime": {
     "end_time": "2020-04-05T21:27:00.101963Z",
     "start_time": "2020-04-05T21:27:00.097386Z"
    }
   },
   "outputs": [],
   "source": [
    "# df = df_copy.copy()"
   ]
  },
  {
   "cell_type": "markdown",
   "metadata": {},
   "source": [
    "## Also load old train and test data"
   ]
  },
  {
   "cell_type": "code",
   "execution_count": 12,
   "metadata": {
    "ExecuteTime": {
     "end_time": "2020-04-05T21:27:01.826753Z",
     "start_time": "2020-04-05T21:27:00.105860Z"
    }
   },
   "outputs": [
    {
     "ename": "KeyboardInterrupt",
     "evalue": "",
     "output_type": "error",
     "traceback": [
      "\u001b[0;31m---------------------------------------------------------------------------\u001b[0m",
      "\u001b[0;31mKeyboardInterrupt\u001b[0m                         Traceback (most recent call last)",
      "\u001b[0;32m<ipython-input-12-2504510f2cc8>\u001b[0m in \u001b[0;36m<module>\u001b[0;34m\u001b[0m\n\u001b[0;32m----> 1\u001b[0;31m \u001b[0mdf_Xtrain\u001b[0m \u001b[0;34m=\u001b[0m \u001b[0mpd\u001b[0m\u001b[0;34m.\u001b[0m\u001b[0mread_csv\u001b[0m\u001b[0;34m(\u001b[0m\u001b[0mpath_pro\u001b[0m \u001b[0;34m+\u001b[0m \u001b[0;34m'Xtrain.csv'\u001b[0m\u001b[0;34m,\u001b[0m\u001b[0mindex_col\u001b[0m\u001b[0;34m=\u001b[0m\u001b[0;36m0\u001b[0m\u001b[0;34m)\u001b[0m\u001b[0;34m\u001b[0m\u001b[0;34m\u001b[0m\u001b[0m\n\u001b[0m\u001b[1;32m      2\u001b[0m \u001b[0mdf_ytrain\u001b[0m \u001b[0;34m=\u001b[0m \u001b[0mpd\u001b[0m\u001b[0;34m.\u001b[0m\u001b[0mread_csv\u001b[0m\u001b[0;34m(\u001b[0m\u001b[0mpath_pro\u001b[0m \u001b[0;34m+\u001b[0m \u001b[0;34m'ytrain.csv'\u001b[0m\u001b[0;34m,\u001b[0m\u001b[0mindex_col\u001b[0m\u001b[0;34m=\u001b[0m\u001b[0;36m0\u001b[0m\u001b[0;34m)\u001b[0m\u001b[0;34m\u001b[0m\u001b[0;34m\u001b[0m\u001b[0m\n\u001b[1;32m      3\u001b[0m \u001b[0mdf_Xtest\u001b[0m \u001b[0;34m=\u001b[0m \u001b[0mpd\u001b[0m\u001b[0;34m.\u001b[0m\u001b[0mread_csv\u001b[0m\u001b[0;34m(\u001b[0m\u001b[0mpath_pro\u001b[0m \u001b[0;34m+\u001b[0m \u001b[0;34m'Xtest.csv'\u001b[0m\u001b[0;34m,\u001b[0m\u001b[0mindex_col\u001b[0m\u001b[0;34m=\u001b[0m\u001b[0;36m0\u001b[0m\u001b[0;34m)\u001b[0m\u001b[0;34m\u001b[0m\u001b[0;34m\u001b[0m\u001b[0m\n\u001b[1;32m      4\u001b[0m \u001b[0mdf_ytest\u001b[0m \u001b[0;34m=\u001b[0m \u001b[0mpd\u001b[0m\u001b[0;34m.\u001b[0m\u001b[0mread_csv\u001b[0m\u001b[0;34m(\u001b[0m\u001b[0mpath_pro\u001b[0m \u001b[0;34m+\u001b[0m \u001b[0;34m'ytest.csv'\u001b[0m\u001b[0;34m,\u001b[0m\u001b[0mindex_col\u001b[0m\u001b[0;34m=\u001b[0m\u001b[0;36m0\u001b[0m\u001b[0;34m)\u001b[0m\u001b[0;34m\u001b[0m\u001b[0;34m\u001b[0m\u001b[0m\n",
      "\u001b[0;32m~/miniconda3/envs/dataSc/lib/python3.7/site-packages/pandas/io/parsers.py\u001b[0m in \u001b[0;36mparser_f\u001b[0;34m(filepath_or_buffer, sep, delimiter, header, names, index_col, usecols, squeeze, prefix, mangle_dupe_cols, dtype, engine, converters, true_values, false_values, skipinitialspace, skiprows, skipfooter, nrows, na_values, keep_default_na, na_filter, verbose, skip_blank_lines, parse_dates, infer_datetime_format, keep_date_col, date_parser, dayfirst, cache_dates, iterator, chunksize, compression, thousands, decimal, lineterminator, quotechar, quoting, doublequote, escapechar, comment, encoding, dialect, error_bad_lines, warn_bad_lines, delim_whitespace, low_memory, memory_map, float_precision)\u001b[0m\n\u001b[1;32m    674\u001b[0m         )\n\u001b[1;32m    675\u001b[0m \u001b[0;34m\u001b[0m\u001b[0m\n\u001b[0;32m--> 676\u001b[0;31m         \u001b[0;32mreturn\u001b[0m \u001b[0m_read\u001b[0m\u001b[0;34m(\u001b[0m\u001b[0mfilepath_or_buffer\u001b[0m\u001b[0;34m,\u001b[0m \u001b[0mkwds\u001b[0m\u001b[0;34m)\u001b[0m\u001b[0;34m\u001b[0m\u001b[0;34m\u001b[0m\u001b[0m\n\u001b[0m\u001b[1;32m    677\u001b[0m \u001b[0;34m\u001b[0m\u001b[0m\n\u001b[1;32m    678\u001b[0m     \u001b[0mparser_f\u001b[0m\u001b[0;34m.\u001b[0m\u001b[0m__name__\u001b[0m \u001b[0;34m=\u001b[0m \u001b[0mname\u001b[0m\u001b[0;34m\u001b[0m\u001b[0;34m\u001b[0m\u001b[0m\n",
      "\u001b[0;32m~/miniconda3/envs/dataSc/lib/python3.7/site-packages/pandas/io/parsers.py\u001b[0m in \u001b[0;36m_read\u001b[0;34m(filepath_or_buffer, kwds)\u001b[0m\n\u001b[1;32m    452\u001b[0m \u001b[0;34m\u001b[0m\u001b[0m\n\u001b[1;32m    453\u001b[0m     \u001b[0;32mtry\u001b[0m\u001b[0;34m:\u001b[0m\u001b[0;34m\u001b[0m\u001b[0;34m\u001b[0m\u001b[0m\n\u001b[0;32m--> 454\u001b[0;31m         \u001b[0mdata\u001b[0m \u001b[0;34m=\u001b[0m \u001b[0mparser\u001b[0m\u001b[0;34m.\u001b[0m\u001b[0mread\u001b[0m\u001b[0;34m(\u001b[0m\u001b[0mnrows\u001b[0m\u001b[0;34m)\u001b[0m\u001b[0;34m\u001b[0m\u001b[0;34m\u001b[0m\u001b[0m\n\u001b[0m\u001b[1;32m    455\u001b[0m     \u001b[0;32mfinally\u001b[0m\u001b[0;34m:\u001b[0m\u001b[0;34m\u001b[0m\u001b[0;34m\u001b[0m\u001b[0m\n\u001b[1;32m    456\u001b[0m         \u001b[0mparser\u001b[0m\u001b[0;34m.\u001b[0m\u001b[0mclose\u001b[0m\u001b[0;34m(\u001b[0m\u001b[0;34m)\u001b[0m\u001b[0;34m\u001b[0m\u001b[0;34m\u001b[0m\u001b[0m\n",
      "\u001b[0;32m~/miniconda3/envs/dataSc/lib/python3.7/site-packages/pandas/io/parsers.py\u001b[0m in \u001b[0;36mread\u001b[0;34m(self, nrows)\u001b[0m\n\u001b[1;32m   1131\u001b[0m     \u001b[0;32mdef\u001b[0m \u001b[0mread\u001b[0m\u001b[0;34m(\u001b[0m\u001b[0mself\u001b[0m\u001b[0;34m,\u001b[0m \u001b[0mnrows\u001b[0m\u001b[0;34m=\u001b[0m\u001b[0;32mNone\u001b[0m\u001b[0;34m)\u001b[0m\u001b[0;34m:\u001b[0m\u001b[0;34m\u001b[0m\u001b[0;34m\u001b[0m\u001b[0m\n\u001b[1;32m   1132\u001b[0m         \u001b[0mnrows\u001b[0m \u001b[0;34m=\u001b[0m \u001b[0m_validate_integer\u001b[0m\u001b[0;34m(\u001b[0m\u001b[0;34m\"nrows\"\u001b[0m\u001b[0;34m,\u001b[0m \u001b[0mnrows\u001b[0m\u001b[0;34m)\u001b[0m\u001b[0;34m\u001b[0m\u001b[0;34m\u001b[0m\u001b[0m\n\u001b[0;32m-> 1133\u001b[0;31m         \u001b[0mret\u001b[0m \u001b[0;34m=\u001b[0m \u001b[0mself\u001b[0m\u001b[0;34m.\u001b[0m\u001b[0m_engine\u001b[0m\u001b[0;34m.\u001b[0m\u001b[0mread\u001b[0m\u001b[0;34m(\u001b[0m\u001b[0mnrows\u001b[0m\u001b[0;34m)\u001b[0m\u001b[0;34m\u001b[0m\u001b[0;34m\u001b[0m\u001b[0m\n\u001b[0m\u001b[1;32m   1134\u001b[0m \u001b[0;34m\u001b[0m\u001b[0m\n\u001b[1;32m   1135\u001b[0m         \u001b[0;31m# May alter columns / col_dict\u001b[0m\u001b[0;34m\u001b[0m\u001b[0;34m\u001b[0m\u001b[0;34m\u001b[0m\u001b[0m\n",
      "\u001b[0;32m~/miniconda3/envs/dataSc/lib/python3.7/site-packages/pandas/io/parsers.py\u001b[0m in \u001b[0;36mread\u001b[0;34m(self, nrows)\u001b[0m\n\u001b[1;32m   2035\u001b[0m     \u001b[0;32mdef\u001b[0m \u001b[0mread\u001b[0m\u001b[0;34m(\u001b[0m\u001b[0mself\u001b[0m\u001b[0;34m,\u001b[0m \u001b[0mnrows\u001b[0m\u001b[0;34m=\u001b[0m\u001b[0;32mNone\u001b[0m\u001b[0;34m)\u001b[0m\u001b[0;34m:\u001b[0m\u001b[0;34m\u001b[0m\u001b[0;34m\u001b[0m\u001b[0m\n\u001b[1;32m   2036\u001b[0m         \u001b[0;32mtry\u001b[0m\u001b[0;34m:\u001b[0m\u001b[0;34m\u001b[0m\u001b[0;34m\u001b[0m\u001b[0m\n\u001b[0;32m-> 2037\u001b[0;31m             \u001b[0mdata\u001b[0m \u001b[0;34m=\u001b[0m \u001b[0mself\u001b[0m\u001b[0;34m.\u001b[0m\u001b[0m_reader\u001b[0m\u001b[0;34m.\u001b[0m\u001b[0mread\u001b[0m\u001b[0;34m(\u001b[0m\u001b[0mnrows\u001b[0m\u001b[0;34m)\u001b[0m\u001b[0;34m\u001b[0m\u001b[0;34m\u001b[0m\u001b[0m\n\u001b[0m\u001b[1;32m   2038\u001b[0m         \u001b[0;32mexcept\u001b[0m \u001b[0mStopIteration\u001b[0m\u001b[0;34m:\u001b[0m\u001b[0;34m\u001b[0m\u001b[0;34m\u001b[0m\u001b[0m\n\u001b[1;32m   2039\u001b[0m             \u001b[0;32mif\u001b[0m \u001b[0mself\u001b[0m\u001b[0;34m.\u001b[0m\u001b[0m_first_chunk\u001b[0m\u001b[0;34m:\u001b[0m\u001b[0;34m\u001b[0m\u001b[0;34m\u001b[0m\u001b[0m\n",
      "\u001b[0;32mpandas/_libs/parsers.pyx\u001b[0m in \u001b[0;36mpandas._libs.parsers.TextReader.read\u001b[0;34m()\u001b[0m\n",
      "\u001b[0;32mpandas/_libs/parsers.pyx\u001b[0m in \u001b[0;36mpandas._libs.parsers.TextReader._read_low_memory\u001b[0;34m()\u001b[0m\n",
      "\u001b[0;32mpandas/_libs/parsers.pyx\u001b[0m in \u001b[0;36mpandas._libs.parsers.TextReader._read_rows\u001b[0;34m()\u001b[0m\n",
      "\u001b[0;32mpandas/_libs/parsers.pyx\u001b[0m in \u001b[0;36mpandas._libs.parsers.TextReader._convert_column_data\u001b[0;34m()\u001b[0m\n",
      "\u001b[0;32mpandas/_libs/parsers.pyx\u001b[0m in \u001b[0;36mpandas._libs.parsers.TextReader._convert_tokens\u001b[0;34m()\u001b[0m\n",
      "\u001b[0;32mpandas/_libs/parsers.pyx\u001b[0m in \u001b[0;36mpandas._libs.parsers.TextReader._convert_with_dtype\u001b[0;34m()\u001b[0m\n",
      "\u001b[0;32m~/miniconda3/envs/dataSc/lib/python3.7/site-packages/pandas/core/dtypes/common.py\u001b[0m in \u001b[0;36mis_categorical_dtype\u001b[0;34m(arr_or_dtype)\u001b[0m\n\u001b[1;32m    540\u001b[0m \u001b[0;34m\u001b[0m\u001b[0m\n\u001b[1;32m    541\u001b[0m \u001b[0;34m\u001b[0m\u001b[0m\n\u001b[0;32m--> 542\u001b[0;31m \u001b[0;32mdef\u001b[0m \u001b[0mis_categorical_dtype\u001b[0m\u001b[0;34m(\u001b[0m\u001b[0marr_or_dtype\u001b[0m\u001b[0;34m)\u001b[0m \u001b[0;34m->\u001b[0m \u001b[0mbool\u001b[0m\u001b[0;34m:\u001b[0m\u001b[0;34m\u001b[0m\u001b[0;34m\u001b[0m\u001b[0m\n\u001b[0m\u001b[1;32m    543\u001b[0m     \"\"\"\n\u001b[1;32m    544\u001b[0m     \u001b[0mCheck\u001b[0m \u001b[0mwhether\u001b[0m \u001b[0man\u001b[0m \u001b[0marray\u001b[0m\u001b[0;34m-\u001b[0m\u001b[0mlike\u001b[0m \u001b[0;32mor\u001b[0m \u001b[0mdtype\u001b[0m \u001b[0;32mis\u001b[0m \u001b[0mof\u001b[0m \u001b[0mthe\u001b[0m \u001b[0mCategorical\u001b[0m \u001b[0mdtype\u001b[0m\u001b[0;34m.\u001b[0m\u001b[0;34m\u001b[0m\u001b[0;34m\u001b[0m\u001b[0m\n",
      "\u001b[0;31mKeyboardInterrupt\u001b[0m: "
     ]
    }
   ],
   "source": [
    "df_Xtrain = pd.read_csv(path_pro + 'Xtrain.csv',index_col=0)\n",
    "df_ytrain = pd.read_csv(path_pro + 'ytrain.csv',index_col=0)\n",
    "df_Xtest = pd.read_csv(path_pro + 'Xtest.csv',index_col=0)\n",
    "df_ytest = pd.read_csv(path_pro + 'ytest.csv',index_col=0)"
   ]
  },
  {
   "cell_type": "markdown",
   "metadata": {},
   "source": [
    "# Data Manipulation"
   ]
  },
  {
   "cell_type": "markdown",
   "metadata": {},
   "source": [
    "## Memory Reduction"
   ]
  },
  {
   "cell_type": "code",
   "execution_count": null,
   "metadata": {
    "ExecuteTime": {
     "end_time": "2020-04-05T21:27:01.913593Z",
     "start_time": "2020-04-05T21:26:45.635Z"
    }
   },
   "outputs": [],
   "source": [
    "col_floats = df.select_dtypes(np.float64).columns\n",
    "for col in col_floats:\n",
    "    df[col] = df[col].astype(np.float32)"
   ]
  },
  {
   "cell_type": "code",
   "execution_count": null,
   "metadata": {
    "ExecuteTime": {
     "end_time": "2020-04-05T21:27:01.918164Z",
     "start_time": "2020-04-05T21:26:45.645Z"
    }
   },
   "outputs": [],
   "source": [
    "col_ints = df.select_dtypes(np.int64).columns\n",
    "for col in col_ints:\n",
    "    df[col] = df[col].astype(np.int32)"
   ]
  },
  {
   "cell_type": "markdown",
   "metadata": {},
   "source": [
    "## data type: datetetime"
   ]
  },
  {
   "cell_type": "code",
   "execution_count": null,
   "metadata": {
    "ExecuteTime": {
     "end_time": "2020-04-05T21:27:01.925341Z",
     "start_time": "2020-04-05T21:26:45.655Z"
    }
   },
   "outputs": [],
   "source": [
    "df.select_dtypes('object').head(1).T"
   ]
  },
  {
   "cell_type": "code",
   "execution_count": null,
   "metadata": {
    "ExecuteTime": {
     "end_time": "2020-04-05T21:27:01.935743Z",
     "start_time": "2020-04-05T21:26:45.664Z"
    }
   },
   "outputs": [],
   "source": [
    "cols_date = ['issue_d',\n",
    "             'earliest_cr_line',\n",
    "             'last_pymnt_d',\n",
    "             'last_credit_pull_d']\n",
    "\n",
    "for col in cols_date:\n",
    "    df[col+'_date'] = pd.to_datetime(df[col],\n",
    "                                     format='%b-%y',\n",
    "                                     errors='coerce')"
   ]
  },
  {
   "cell_type": "code",
   "execution_count": null,
   "metadata": {
    "ExecuteTime": {
     "end_time": "2020-04-05T21:27:01.941232Z",
     "start_time": "2020-04-05T21:26:45.670Z"
    }
   },
   "outputs": [],
   "source": [
    "df[cols_date].dtypes"
   ]
  },
  {
   "cell_type": "code",
   "execution_count": null,
   "metadata": {
    "ExecuteTime": {
     "end_time": "2020-04-05T21:27:01.944925Z",
     "start_time": "2020-04-05T21:26:45.677Z"
    }
   },
   "outputs": [],
   "source": [
    "df[cols_date].head(2)"
   ]
  },
  {
   "cell_type": "code",
   "execution_count": null,
   "metadata": {
    "ExecuteTime": {
     "end_time": "2020-04-05T21:27:01.949063Z",
     "start_time": "2020-04-05T21:26:45.693Z"
    }
   },
   "outputs": [],
   "source": [
    "today = datetime.datetime.today()\n",
    "today"
   ]
  },
  {
   "cell_type": "code",
   "execution_count": null,
   "metadata": {
    "ExecuteTime": {
     "end_time": "2020-04-05T21:27:01.952150Z",
     "start_time": "2020-04-05T21:26:45.707Z"
    }
   },
   "outputs": [],
   "source": [
    "today = datetime.datetime(2020, 3, 30)\n",
    "today"
   ]
  },
  {
   "cell_type": "code",
   "execution_count": null,
   "metadata": {
    "ExecuteTime": {
     "end_time": "2020-04-05T21:27:01.957396Z",
     "start_time": "2020-04-05T21:26:45.714Z"
    }
   },
   "outputs": [],
   "source": [
    "df['earliest_cr_line_date'].head(2)"
   ]
  },
  {
   "cell_type": "code",
   "execution_count": null,
   "metadata": {
    "ExecuteTime": {
     "end_time": "2020-04-05T21:27:01.961446Z",
     "start_time": "2020-04-05T21:26:45.725Z"
    }
   },
   "outputs": [],
   "source": [
    "df['earliest_cr_line_date'].isnull().sum()"
   ]
  },
  {
   "cell_type": "code",
   "execution_count": null,
   "metadata": {
    "ExecuteTime": {
     "end_time": "2020-04-05T21:27:01.965610Z",
     "start_time": "2020-04-05T21:26:45.733Z"
    }
   },
   "outputs": [],
   "source": [
    "for col in cols_date:\n",
    "    df['mths_since_'+col] = \\\n",
    "        round((today - df[col+'_date']) / \n",
    "              np.timedelta64(1,'M'))"
   ]
  },
  {
   "cell_type": "code",
   "execution_count": null,
   "metadata": {
    "ExecuteTime": {
     "end_time": "2020-04-05T21:27:01.968774Z",
     "start_time": "2020-04-05T21:26:45.740Z"
    }
   },
   "outputs": [],
   "source": [
    "cols_months_since = ['mths_since_' + i for i in cols_date]\n",
    "df[cols_months_since].describe().round(2).T\n"
   ]
  },
  {
   "cell_type": "markdown",
   "metadata": {},
   "source": [
    "## data type: object"
   ]
  },
  {
   "cell_type": "code",
   "execution_count": null,
   "metadata": {
    "ExecuteTime": {
     "end_time": "2020-04-05T21:27:01.971506Z",
     "start_time": "2020-04-05T21:26:45.761Z"
    }
   },
   "outputs": [],
   "source": [
    "df.select_dtypes('object').nunique().sort_values()"
   ]
  },
  {
   "cell_type": "code",
   "execution_count": null,
   "metadata": {
    "ExecuteTime": {
     "end_time": "2020-04-05T21:27:01.975542Z",
     "start_time": "2020-04-05T21:26:45.793Z"
    }
   },
   "outputs": [],
   "source": [
    "cols_cat_small = df.select_dtypes('object').nunique()[lambda x: x<12].index"
   ]
  },
  {
   "cell_type": "code",
   "execution_count": null,
   "metadata": {
    "ExecuteTime": {
     "end_time": "2020-04-05T21:27:01.979648Z",
     "start_time": "2020-04-05T21:26:45.811Z"
    }
   },
   "outputs": [],
   "source": [
    "for col in cols_cat_small:\n",
    "    print(col)\n",
    "    print(df[col].unique())\n",
    "    print()"
   ]
  },
  {
   "cell_type": "markdown",
   "metadata": {},
   "source": [
    "## Hidden Continuous features"
   ]
  },
  {
   "cell_type": "code",
   "execution_count": null,
   "metadata": {
    "ExecuteTime": {
     "end_time": "2020-04-05T21:27:01.982881Z",
     "start_time": "2020-04-05T21:26:45.820Z"
    }
   },
   "outputs": [],
   "source": [
    "df['term'].value_counts(dropna=False)"
   ]
  },
  {
   "cell_type": "code",
   "execution_count": null,
   "metadata": {
    "ExecuteTime": {
     "end_time": "2020-04-05T21:27:01.986561Z",
     "start_time": "2020-04-05T21:26:45.829Z"
    }
   },
   "outputs": [],
   "source": [
    "df['term_int'] = df['term'].str.extract('(\\d+)').astype(int)\n",
    "df['term_int'].unique()"
   ]
  },
  {
   "cell_type": "code",
   "execution_count": null,
   "metadata": {
    "ExecuteTime": {
     "end_time": "2020-04-05T21:27:01.990055Z",
     "start_time": "2020-04-05T21:26:45.837Z"
    }
   },
   "outputs": [],
   "source": [
    "df['emp_length'].value_counts(dropna=False)"
   ]
  },
  {
   "cell_type": "code",
   "execution_count": null,
   "metadata": {
    "ExecuteTime": {
     "end_time": "2020-04-05T21:27:01.993257Z",
     "start_time": "2020-04-05T21:26:45.848Z"
    }
   },
   "outputs": [],
   "source": [
    "df['emp_length_int'] = df['emp_length']\\\n",
    ".str.replace('< 1years','0')\\\n",
    ".str.extract(r'(\\d+)').astype(np.float32)\n",
    "\n",
    "df['emp_length_int'].value_counts(dropna=False)"
   ]
  },
  {
   "cell_type": "markdown",
   "metadata": {},
   "source": [
    "## Create New Columns"
   ]
  },
  {
   "cell_type": "code",
   "execution_count": null,
   "metadata": {
    "ExecuteTime": {
     "end_time": "2020-04-05T21:27:01.997650Z",
     "start_time": "2020-04-05T21:26:45.857Z"
    }
   },
   "outputs": [],
   "source": [
    "df['loan_income_ratio']= df['loan_amnt']/df['annual_inc']\n",
    "\n",
    "df.iloc[:2,-2:]"
   ]
  },
  {
   "cell_type": "code",
   "execution_count": null,
   "metadata": {
    "ExecuteTime": {
     "end_time": "2020-04-05T21:27:02.001349Z",
     "start_time": "2020-04-05T21:26:45.869Z"
    }
   },
   "outputs": [],
   "source": [
    "df['loan_status'].value_counts()"
   ]
  },
  {
   "cell_type": "code",
   "execution_count": null,
   "metadata": {
    "ExecuteTime": {
     "end_time": "2020-04-05T21:27:02.004352Z",
     "start_time": "2020-04-05T21:26:45.880Z"
    }
   },
   "outputs": [],
   "source": [
    "df['loan_status'].unique()"
   ]
  },
  {
   "cell_type": "code",
   "execution_count": null,
   "metadata": {
    "ExecuteTime": {
     "end_time": "2020-04-05T21:27:02.008410Z",
     "start_time": "2020-04-05T21:26:45.893Z"
    }
   },
   "outputs": [],
   "source": [
    "cols_bad = ['Charged Off',\n",
    "            'Default',\n",
    "            'Does not meet the credit policy. Status:Charged Off',\n",
    "            'Late (31-120 days)']\n",
    "\n",
    "df['good_bad'] = np.where(df['loan_status'].isin(cols_bad),0,1)\n",
    "\n",
    "df['good_bad'].value_counts()"
   ]
  },
  {
   "cell_type": "markdown",
   "metadata": {},
   "source": [
    "## Missing Values"
   ]
  },
  {
   "cell_type": "code",
   "execution_count": null,
   "metadata": {
    "ExecuteTime": {
     "end_time": "2020-04-05T21:27:02.011963Z",
     "start_time": "2020-04-05T21:26:45.902Z"
    }
   },
   "outputs": [],
   "source": [
    "pd.options.display.max_rows = 200"
   ]
  },
  {
   "cell_type": "code",
   "execution_count": null,
   "metadata": {
    "ExecuteTime": {
     "end_time": "2020-04-05T21:27:02.015135Z",
     "start_time": "2020-04-05T21:26:45.910Z"
    }
   },
   "outputs": [],
   "source": [
    "df.head(2)"
   ]
  },
  {
   "cell_type": "code",
   "execution_count": null,
   "metadata": {
    "ExecuteTime": {
     "end_time": "2020-04-05T21:27:02.019390Z",
     "start_time": "2020-04-05T21:26:45.917Z"
    }
   },
   "outputs": [],
   "source": [
    "missing_cols = df.isnull().sum()[lambda x: x>0].sort_values()\\\n",
    ".index.tolist()\n",
    "\n",
    "df[missing_cols].head(2)"
   ]
  },
  {
   "cell_type": "code",
   "execution_count": null,
   "metadata": {
    "ExecuteTime": {
     "end_time": "2020-04-05T21:27:02.023180Z",
     "start_time": "2020-04-05T21:26:45.921Z"
    }
   },
   "outputs": [],
   "source": [
    "# df[missing_cols].isnull().sum()"
   ]
  },
  {
   "cell_type": "code",
   "execution_count": null,
   "metadata": {
    "ExecuteTime": {
     "end_time": "2020-04-05T21:27:02.026836Z",
     "start_time": "2020-04-05T21:26:45.926Z"
    }
   },
   "outputs": [],
   "source": [
    "df.shape"
   ]
  },
  {
   "cell_type": "code",
   "execution_count": null,
   "metadata": {
    "ExecuteTime": {
     "end_time": "2020-04-05T21:27:02.033432Z",
     "start_time": "2020-04-05T21:26:45.933Z"
    }
   },
   "outputs": [],
   "source": [
    "# drop columns if all of them are nans\n",
    "df = df.dropna(how='all',axis=1)\n",
    "df.isnull().sum()[lambda x: x>0]"
   ]
  },
  {
   "cell_type": "code",
   "execution_count": null,
   "metadata": {
    "ExecuteTime": {
     "end_time": "2020-04-05T21:27:02.037149Z",
     "start_time": "2020-04-05T21:26:45.938Z"
    }
   },
   "outputs": [],
   "source": [
    "missing_cols = df.isnull().sum()[lambda x: x>0].sort_values()\\\n",
    ".index.tolist()\n",
    "\n",
    "df[missing_cols].head(2)"
   ]
  },
  {
   "cell_type": "code",
   "execution_count": null,
   "metadata": {
    "ExecuteTime": {
     "end_time": "2020-04-05T21:27:02.040514Z",
     "start_time": "2020-04-05T21:26:45.954Z"
    }
   },
   "outputs": [],
   "source": [
    "columns = ['feature','n_missing','top_value',\n",
    "            'proportion','nunique']\n",
    "df_missing = pd.DataFrame(columns=columns)\n",
    "\n",
    "for col in missing_cols:\n",
    "    x = df[col].value_counts(normalize=True).round(2)\n",
    "    unq = df[col].nunique()\n",
    "    n_missing = df[col].isnull().sum()\n",
    "\n",
    "    row = [col,n_missing, x.index[0],x.iloc[0],unq]\n",
    "    df_missing.loc[len(df_missing)] = row\n",
    "\n",
    "df_missing = df_missing.set_index('feature')\n",
    "df_missing"
   ]
  },
  {
   "cell_type": "markdown",
   "metadata": {},
   "source": [
    "### fill nans with mean"
   ]
  },
  {
   "cell_type": "code",
   "execution_count": null,
   "metadata": {
    "ExecuteTime": {
     "end_time": "2020-04-05T21:27:02.045633Z",
     "start_time": "2020-04-05T21:26:45.961Z"
    }
   },
   "outputs": [],
   "source": [
    "df['annual_inc'].isna().sum()"
   ]
  },
  {
   "cell_type": "code",
   "execution_count": null,
   "metadata": {
    "ExecuteTime": {
     "end_time": "2020-04-05T21:27:02.048539Z",
     "start_time": "2020-04-05T21:26:45.968Z"
    }
   },
   "outputs": [],
   "source": [
    "df['annual_inc'] = df['annual_inc'].fillna(df['annual_inc'].mean())"
   ]
  },
  {
   "cell_type": "markdown",
   "metadata": {},
   "source": [
    "### fill nans with another column"
   ]
  },
  {
   "cell_type": "code",
   "execution_count": null,
   "metadata": {
    "ExecuteTime": {
     "end_time": "2020-04-05T21:27:02.050856Z",
     "start_time": "2020-04-05T21:26:45.974Z"
    }
   },
   "outputs": [],
   "source": [
    "df['total_rev_hi_lim'] = df['total_rev_hi_lim'].fillna(df['funded_amnt'])"
   ]
  },
  {
   "cell_type": "markdown",
   "metadata": {},
   "source": [
    "### fill nans with zero"
   ]
  },
  {
   "cell_type": "code",
   "execution_count": null,
   "metadata": {
    "ExecuteTime": {
     "end_time": "2020-04-05T21:27:02.054101Z",
     "start_time": "2020-04-05T21:26:45.981Z"
    }
   },
   "outputs": [],
   "source": [
    "cols_zero = ['mths_since_earliest_cr_line','acc_now_delinq',\n",
    "            'total_acc','pub_rec','open_acc','inq_last_6mths',\n",
    "            'delinq_2yrs','emp_length_int']\n",
    "\n",
    "for col in cols_zero:\n",
    "    df[col] = df[col].fillna(0)"
   ]
  },
  {
   "cell_type": "markdown",
   "metadata": {},
   "source": [
    "## Dummy variables"
   ]
  },
  {
   "cell_type": "code",
   "execution_count": null,
   "metadata": {
    "ExecuteTime": {
     "end_time": "2020-04-05T21:27:02.057327Z",
     "start_time": "2020-04-05T21:26:45.988Z"
    }
   },
   "outputs": [],
   "source": [
    "df.select_dtypes('object').nunique().sort_values()"
   ]
  },
  {
   "cell_type": "code",
   "execution_count": null,
   "metadata": {
    "ExecuteTime": {
     "end_time": "2020-04-05T21:27:02.062768Z",
     "start_time": "2020-04-05T21:26:45.993Z"
    }
   },
   "outputs": [],
   "source": [
    "pd.get_dummies(df['grade'],prefix='grade',prefix_sep=':').head(2)"
   ]
  },
  {
   "cell_type": "code",
   "execution_count": null,
   "metadata": {
    "ExecuteTime": {
     "end_time": "2020-04-05T21:27:02.065678Z",
     "start_time": "2020-04-05T21:26:46.000Z"
    }
   },
   "outputs": [],
   "source": [
    "cols_dummy = ['grade','sub_grade','home_ownership',\n",
    "             'verification_status','loan_status',\n",
    "             'purpose','addr_state','initial_list_status']\n",
    "\n",
    "\n",
    "df_dummies = [pd.get_dummies(df[col],\n",
    "                             prefix=col,prefix_sep = ':')\n",
    "             for col in cols_dummy]\n",
    "\n",
    "df_dummies = pd.concat(df_dummies,axis=1)\n",
    "\n",
    "print(df_dummies.shape)\n",
    "\n",
    "df_dummies.head(2)"
   ]
  },
  {
   "cell_type": "code",
   "execution_count": null,
   "metadata": {
    "ExecuteTime": {
     "end_time": "2020-04-05T21:27:02.068623Z",
     "start_time": "2020-04-05T21:26:46.012Z"
    }
   },
   "outputs": [],
   "source": [
    "df = pd.concat([df,df_dummies],axis=1)\n",
    "\n",
    "print(df.shape)\n",
    "df.head(2)"
   ]
  },
  {
   "cell_type": "code",
   "execution_count": null,
   "metadata": {
    "ExecuteTime": {
     "end_time": "2020-04-05T21:27:02.073205Z",
     "start_time": "2020-04-05T21:26:46.021Z"
    }
   },
   "outputs": [],
   "source": [
    "df.isnull().sum().sum()"
   ]
  },
  {
   "cell_type": "markdown",
   "metadata": {},
   "source": [
    "# Weight of Evidence WoE and Information Value IV"
   ]
  },
  {
   "cell_type": "code",
   "execution_count": null,
   "metadata": {
    "ExecuteTime": {
     "end_time": "2020-04-05T21:27:02.077093Z",
     "start_time": "2020-04-05T21:26:46.028Z"
    }
   },
   "outputs": [],
   "source": [
    "def get_woe_iv(df1,\n",
    "               ser_target,\n",
    "               feature_cat,\n",
    "               target_name='good_bad',\n",
    "               sort='woe',\n",
    "              return_all=False):\n",
    "    \"\"\"Calculate Weight of Evidence and Infomation Value.\n",
    "    \n",
    "    Parameters\n",
    "    -----------\n",
    "    df1: pandas.DataFrame\n",
    "        Input dataframe having categorical feature.\n",
    "    ser_target: pandas.Series\n",
    "        Pandas Series of binary values. e.g y_prep\n",
    "    feature_cat: str\n",
    "        Name of categorical column\n",
    "    target_name: str\n",
    "        Name of target column.\n",
    "    sort: str\n",
    "        Sort the output dataframe by this column.\n",
    "        Default is 'woe'. We use 'woe' for discrete\n",
    "        columns.\n",
    "        \n",
    "        If the column values are continuous, then\n",
    "        use the actual column name for sorting.\n",
    "    return_all: boolean, optional\n",
    "        Whether or not return all columns\n",
    "\n",
    "\n",
    "    Returns:\n",
    "    --------\n",
    "    Returns dataframe with WOE, IV and other quantities.\n",
    "    \n",
    "    \n",
    "    Example:\n",
    "    --------\n",
    "    df_woe = get_woe_iv(Xp,'grade',y_prep)\n",
    "    \"\"\"\n",
    "    df1 = pd.DataFrame({\n",
    "        feature_cat: df1[feature_cat],\n",
    "        target_name: ser_target\n",
    "    })\n",
    "\n",
    "    df1 = df1.groupby(feature_cat).agg(\n",
    "        n_obs=(target_name,'count'),\n",
    "        prop_good=(target_name,'mean'))\n",
    "\n",
    "    df1['prop_n_obs'] = df1['n_obs'] / df1['n_obs'].sum()\n",
    "\n",
    "    df1['n_good'] = df1['prop_good'] * df1['n_obs']\n",
    "    df1['n_bad'] = (1-df1['prop_good']) * df1['n_obs']\n",
    "\n",
    "    df1['prop_n_good'] = df1['n_good'] / df1['n_good'].sum()\n",
    "    df1['prop_n_bad'] = df1['n_bad'] / df1['n_bad'].sum()\n",
    "\n",
    "    df1['woe'] = np.log(df1['prop_n_good']/df1['prop_n_bad'])\n",
    "\n",
    "    df1['diff_prop_good'] = df1['prop_good'].diff().abs()\n",
    "    df1['diff_woe'] = df1['woe'].diff().abs()\n",
    "    df1['diff_n_obs'] = df1['n_obs'].diff(-1).abs()\n",
    "\n",
    "    df1['iv'] = ((df1['prop_n_good']-df1['prop_n_bad']\n",
    "                 ) * df1['woe']\n",
    "                ).sum()\n",
    "\n",
    "    # reorder columns\n",
    "    if not return_all:\n",
    "        df1 = df1[['n_obs', 'woe', 'diff_n_obs' ]]  \n",
    "\n",
    "    if return_all:\n",
    "        df1 = df1[['n_obs', 'woe', 'diff_n_obs',\n",
    "                   'prop_n_obs','iv',\n",
    "                   'n_good', 'n_bad',\n",
    "                   'prop_n_good','prop_n_bad',\n",
    "                   'prop_good',\n",
    "                   'diff_prop_good', 'diff_woe' ]]\n",
    "\n",
    "    # add one more column\n",
    "    n_obs1 = df1['n_obs'].apply(lambda x: \"{:,d}\".format(x)).astype(str)\n",
    "    \n",
    "\n",
    "    df1['text_plotly'] = (\n",
    "        'n_obs:  ' + n_obs1 + '<br>' +\n",
    "        'WoE:    ' + df1['woe'].round(4).astype(str) + '<br>' \n",
    "                         )\n",
    "\n",
    "    # sort values\n",
    "    df1 = df1.sort_values(sort)\n",
    "    df1 = df1.reset_index()\n",
    "\n",
    "    return df1"
   ]
  },
  {
   "cell_type": "code",
   "execution_count": null,
   "metadata": {
    "ExecuteTime": {
     "end_time": "2020-04-05T21:27:02.085163Z",
     "start_time": "2020-04-05T21:26:46.034Z"
    }
   },
   "outputs": [],
   "source": [
    "def plot_woe(df_woe,xrot=0,figsize=(18,12),fontsize=20,color='red'):\n",
    "    x = df_woe.iloc[:,0].to_numpy().astype(str)\n",
    "    y = df_woe['woe']\n",
    "    fig,ax = plt.subplots(1,1,figsize=figsize)\n",
    "    plt.plot(x,y,marker='o',linestyle='--',color='k')\n",
    "    plt.xlabel(df_woe.columns[0],fontsize=fontsize)\n",
    "    plt.ylabel('Weight of Evidence',fontsize=fontsize)\n",
    "    plt.xticks(rotation=xrot,fontsize=fontsize,color=color)\n",
    "    plt.yticks(fontsize=fontsize)\n",
    "    \n",
    "    plt.grid(color='k',linestyle='-.')\n",
    "    \n",
    "    for i,txt in enumerate(df_woe['n_obs']):\n",
    "        txt = '   {:,.0f}'.format(txt)\n",
    "        try: # sometimes I get error in y[i]\n",
    "            plt.annotate(txt, (x[i],y[i]),\n",
    "                     rotation=90,fontsize=18,color='blue')\n",
    "        except:\n",
    "            pass"
   ]
  },
  {
   "cell_type": "code",
   "execution_count": null,
   "metadata": {
    "ExecuteTime": {
     "end_time": "2020-04-05T21:27:02.088173Z",
     "start_time": "2020-04-05T21:26:46.040Z"
    }
   },
   "outputs": [],
   "source": [
    "def create_bins_dummies_cont(X_prep,col,bins):\n",
    "    \"\"\"Creates new dummy columns in-place in given dataframe.\n",
    "    \n",
    "    For this continuous bins,\n",
    "    left numbers are inclusive.\n",
    "    \n",
    "    Example:\n",
    "    ========\n",
    "    bins = [0,9.961,12.025, 15.74, 20.281]\n",
    "    col = 'int_rate'\n",
    "\n",
    "    create_bins_dummies_cont(X_prep,col,bins)\n",
    "    cols = [i for i in X_prep.columns if col in i]\n",
    "    X_prep[cols].head(2)\n",
    "\n",
    "    Outputs:\n",
    "    ========\n",
    "    int_rate:0_9.961\n",
    "    int_rate:9.961_12.025\n",
    "    int_rate:12.025_15.74\n",
    "    int_rate:15.74_20.281\n",
    "    int_rate:>=20.281\n",
    "    \"\"\"\n",
    "    nbins = len(bins)\n",
    "    ser = X_prep[col]\n",
    "\n",
    "    for i in range(nbins):\n",
    "        if i < (nbins-1):\n",
    "            a,b = bins[i], bins[i+1]\n",
    "            name = col + f':{a}_{b}'\n",
    "            print(name)\n",
    "\n",
    "            # condition\n",
    "            cond = (ser>=a) & (ser<b)\n",
    "            X_prep[name] = np.where(cond,1,0)\n",
    "\n",
    "        elif i == (nbins-1):\n",
    "            b = bins[i]\n",
    "            name = col + ':>=' + str(b) \n",
    "            print(name)\n",
    "\n",
    "            # condition\n",
    "            cond = ser >= b\n",
    "            X_prep[name] = np.where(cond,1,0)"
   ]
  },
  {
   "cell_type": "code",
   "execution_count": null,
   "metadata": {
    "ExecuteTime": {
     "end_time": "2020-04-05T21:27:02.091999Z",
     "start_time": "2020-04-05T21:26:46.048Z"
    }
   },
   "outputs": [],
   "source": [
    "def create_bins_dummies_int(X_prep,col,bins):\n",
    "    \"\"\"Creates new dummy columns in-place in given dataframe.\n",
    "    \n",
    "    For this integer bins,\n",
    "    both left and right numbers are included.\n",
    "    \n",
    "    Example:\n",
    "    ---------\n",
    "    col = 'mths_since_last_delinq'\n",
    "    bins = [0,3,30,56]\n",
    "    create_bins_dummies_integer(X_prep,col,bins) \n",
    "\n",
    "    Outputs:\n",
    "    --------\n",
    "    mths_since_last_delinq:0_3\n",
    "    mths_since_last_delinq:4_30\n",
    "    mths_since_last_delinq:31_56\n",
    "    mths_since_last_delinq:>=57\n",
    "\n",
    "    \"\"\"\n",
    "    nbins = len(bins)\n",
    "    ser = X_prep[col]\n",
    "\n",
    "    # assert last number of bin is integer\n",
    "    assert isinstance(bins[-1],int)\n",
    "\n",
    "    for i in range(nbins):\n",
    "        if i == 0:\n",
    "            a,b = bins[i], bins[i+1]\n",
    "            name = col + f':{a}_{b}'\n",
    "            print(name)\n",
    "\n",
    "            # condition\n",
    "            cond = (ser>=a) & (ser<=b)\n",
    "            X_prep[name] = np.where(cond,1,0)\n",
    "\n",
    "        elif i < (nbins-1):\n",
    "            a,b = bins[i]+1, bins[i+1]\n",
    "            name = col + f':{a}_{b}'\n",
    "            print(name)\n",
    "\n",
    "            # condition\n",
    "            cond = (ser>=a) & (ser<=b)\n",
    "            X_prep[name] = np.where(cond,1,0)\n",
    "\n",
    "        elif i == (nbins-1):\n",
    "            b = bins[i]+1\n",
    "            name = col + ':>=' + str(b) \n",
    "            print(name)\n",
    "\n",
    "            # condition\n",
    "            cond = ser >= b\n",
    "            X_prep[name] = np.where(cond,1,0)"
   ]
  },
  {
   "cell_type": "code",
   "execution_count": null,
   "metadata": {
    "ExecuteTime": {
     "end_time": "2020-04-05T21:27:02.096770Z",
     "start_time": "2020-04-05T21:26:46.054Z"
    }
   },
   "outputs": [],
   "source": [
    "def create_dummies_left_inclusive(X_prep,col,bins,labels):\n",
    "    nlabels = len(labels)\n",
    "    for i in range(nlabels):\n",
    "        name = col + ':' + labels[i]\n",
    "        ser = X_prep[col]\n",
    "        if i == 0:\n",
    "            cond = (ser <= bins[i])\n",
    "            X_prep[name] = np.where(cond,1,0)\n",
    "            print(name)\n",
    "\n",
    "        elif (i>0) & (i<(nlabels-1)):\n",
    "            cond = (ser >= bins[i-1]) & (ser < bins[i])\n",
    "            X_prep[name] = np.where(cond,1,0)\n",
    "            print(name)\n",
    "\n",
    "        elif i == (nlabels-1):\n",
    "            cond = (ser > bins[i-1])\n",
    "            X_prep[name] = np.where(cond,1,0)\n",
    "            print(name)"
   ]
  },
  {
   "cell_type": "markdown",
   "metadata": {},
   "source": [
    "## Data Preparation"
   ]
  },
  {
   "cell_type": "code",
   "execution_count": null,
   "metadata": {
    "ExecuteTime": {
     "end_time": "2020-04-05T21:27:02.103324Z",
     "start_time": "2020-04-05T21:26:46.062Z"
    }
   },
   "outputs": [],
   "source": [
    "Xp = df.drop('good_bad', axis = 1)\n",
    "yp = df['good_bad']\n"
   ]
  },
  {
   "cell_type": "markdown",
   "metadata": {},
   "source": [
    "## woe dummies continuous: "
   ]
  },
  {
   "cell_type": "markdown",
   "metadata": {},
   "source": [
    "## woe dummies continuous: int_rate"
   ]
  },
  {
   "cell_type": "code",
   "execution_count": null,
   "metadata": {
    "ExecuteTime": {
     "end_time": "2020-04-05T21:27:02.158097Z",
     "start_time": "2020-04-05T21:26:46.170Z"
    }
   },
   "outputs": [],
   "source": [
    "col = 'int_rate'\n",
    "colf = col + '_factor'\n",
    "\n",
    "print('unique = ', Xp[col].nunique())\n",
    "print('nulls = ', Xp[col].isnull().sum())\n",
    "\n",
    "Xp[col].head(2)"
   ]
  },
  {
   "cell_type": "code",
   "execution_count": null,
   "metadata": {
    "ExecuteTime": {
     "end_time": "2020-04-05T21:27:02.163824Z",
     "start_time": "2020-04-05T21:26:46.175Z"
    }
   },
   "outputs": [],
   "source": [
    "Xp[colf] = pd.cut(Xp[col], 50)"
   ]
  },
  {
   "cell_type": "code",
   "execution_count": null,
   "metadata": {
    "ExecuteTime": {
     "end_time": "2020-04-05T21:27:02.168841Z",
     "start_time": "2020-04-05T21:26:46.189Z"
    }
   },
   "outputs": [],
   "source": [
    "Xp[colf].head(2)"
   ]
  },
  {
   "cell_type": "code",
   "execution_count": null,
   "metadata": {
    "ExecuteTime": {
     "end_time": "2020-04-05T21:27:02.172298Z",
     "start_time": "2020-04-05T21:26:46.206Z"
    }
   },
   "outputs": [],
   "source": [
    "# for continuous variables use sort=colname\n",
    "df_woe = get_woe_iv(Xp,yp,colf,sort=colf)\n",
    "plot_woe(df_woe,xrot=90,color='k')"
   ]
  },
  {
   "cell_type": "code",
   "execution_count": null,
   "metadata": {
    "ExecuteTime": {
     "end_time": "2020-04-05T21:27:02.177766Z",
     "start_time": "2020-04-05T21:26:46.220Z"
    }
   },
   "outputs": [],
   "source": [
    "bins = [0,9.961,12.025, 15.74, 20.281,27]\n",
    "\n",
    "# we have monotonically decreasing curve, its easy to partition.\n",
    "# first few point are zigzag, we suspect low n_obs.\n",
    "# there is low n_obs, so bundle them up.\n",
    "#\n",
    "# look at graph, where woe drops sharply\n",
    "\n",
    "\"\"\"\n",
    "int_rate:0_9.961\n",
    "int_rate:9.961_12.025\n",
    "int_rate:12.025_15.74\n",
    "int_rate:15.74_20.281\n",
    "int_rate:>=20.281\n",
    "\n",
    "\"\"\";"
   ]
  },
  {
   "cell_type": "code",
   "execution_count": null,
   "metadata": {
    "ExecuteTime": {
     "end_time": "2020-04-05T21:27:02.182543Z",
     "start_time": "2020-04-05T21:26:46.234Z"
    }
   },
   "outputs": [],
   "source": [
    "bins = [0,9.961,12.025, 15.74, 20.281]\n",
    "col = 'int_rate'\n",
    "\n",
    "create_bins_dummies_cont(Xp,col,bins)\n",
    "cols = [i for i in Xp.columns if col in i]\n",
    "Xp[cols].head(2)"
   ]
  },
  {
   "cell_type": "markdown",
   "metadata": {
    "ExecuteTime": {
     "end_time": "2020-03-30T23:54:56.567298Z",
     "start_time": "2020-03-30T23:54:56.546893Z"
    }
   },
   "source": [
    "### woe dummies continuous: funded_amnt **"
   ]
  },
  {
   "cell_type": "code",
   "execution_count": null,
   "metadata": {
    "ExecuteTime": {
     "end_time": "2020-04-05T21:27:02.186813Z",
     "start_time": "2020-04-05T21:26:46.244Z"
    }
   },
   "outputs": [],
   "source": [
    "col = 'funded_amnt'\n",
    "colf = col + '_factor'\n",
    "\n",
    "print('unique = ', Xp[col].nunique())\n",
    "print('nulls = ', Xp[col].isnull().sum())\n",
    "\n",
    "Xp[col].head(2)"
   ]
  },
  {
   "cell_type": "code",
   "execution_count": null,
   "metadata": {
    "ExecuteTime": {
     "end_time": "2020-04-05T21:27:02.191751Z",
     "start_time": "2020-04-05T21:26:46.264Z"
    }
   },
   "outputs": [],
   "source": [
    "Xp[colf] = pd.cut(Xp[col], 50)"
   ]
  },
  {
   "cell_type": "code",
   "execution_count": null,
   "metadata": {
    "ExecuteTime": {
     "end_time": "2020-04-05T21:27:02.196039Z",
     "start_time": "2020-04-05T21:26:46.292Z"
    }
   },
   "outputs": [],
   "source": [
    "# for continuous variables use sort=colname\n",
    "df_woe = get_woe_iv(Xp,yp,colf,sort=colf)\n",
    "plot_woe(df_woe,xrot=90,color='k')"
   ]
  },
  {
   "cell_type": "code",
   "execution_count": null,
   "metadata": {
    "ExecuteTime": {
     "end_time": "2020-04-05T21:27:02.201202Z",
     "start_time": "2020-04-05T21:26:46.304Z"
    }
   },
   "outputs": [],
   "source": [
    "# woe is almost constant\n",
    "# woe does not depend on dependent variable\n",
    "# we can remove the variable from analysis."
   ]
  },
  {
   "cell_type": "markdown",
   "metadata": {},
   "source": [
    "## woe dummies continuous: delinq_2yrs **"
   ]
  },
  {
   "cell_type": "code",
   "execution_count": null,
   "metadata": {
    "ExecuteTime": {
     "end_time": "2020-04-05T21:27:02.222692Z",
     "start_time": "2020-04-05T21:26:46.340Z"
    }
   },
   "outputs": [],
   "source": [
    "col = 'delinq_2yrs'\n",
    "\n",
    "print('unique = ', Xp[col].nunique())\n",
    "print('nulls = ', Xp[col].isnull().sum())\n",
    "\n",
    "Xp[col].head(2)"
   ]
  },
  {
   "cell_type": "code",
   "execution_count": null,
   "metadata": {
    "ExecuteTime": {
     "end_time": "2020-04-05T21:27:02.228214Z",
     "start_time": "2020-04-05T21:26:46.346Z"
    }
   },
   "outputs": [],
   "source": [
    "Xp[col].value_counts()"
   ]
  },
  {
   "cell_type": "code",
   "execution_count": null,
   "metadata": {
    "ExecuteTime": {
     "end_time": "2020-04-05T21:27:02.233017Z",
     "start_time": "2020-04-05T21:26:46.353Z"
    }
   },
   "outputs": [],
   "source": [
    "# we do not want factor here.\n",
    "df_woe = get_woe_iv(Xp,yp,col,sort=col)\n",
    "\n",
    "plot_woe(df_woe,xrot=90,color='k')"
   ]
  },
  {
   "cell_type": "code",
   "execution_count": null,
   "metadata": {
    "ExecuteTime": {
     "end_time": "2020-04-05T21:27:02.237345Z",
     "start_time": "2020-04-05T21:26:46.360Z"
    }
   },
   "outputs": [],
   "source": [
    "\"\"\"\n",
    "we might be attemped to ignore the feature\n",
    "but this might be useful feature\n",
    "\n",
    "we see lots of zeros, make it one feature.\n",
    "\n",
    "then make 1-3 and greater than 3.\n",
    "\n",
    "delinq_2yrs:0\n",
    "delinq_2yrs:1_3\n",
    "delinq_2yrs:>=3\n",
    "\"\"\";"
   ]
  },
  {
   "cell_type": "code",
   "execution_count": null,
   "metadata": {
    "ExecuteTime": {
     "end_time": "2020-04-05T21:27:02.242382Z",
     "start_time": "2020-04-05T21:26:46.367Z"
    }
   },
   "outputs": [],
   "source": [
    "Xp['delinq_2yrs:0'] = \\\n",
    "  np.where((Xp['delinq_2yrs'] ==0), 1, 0)\n",
    "\n",
    "Xp['delinq_2yrs:1_3'] = \\\n",
    "  np.where((Xp['delinq_2yrs'] >= 1) & \n",
    "           (Xp['delinq_2yrs'] <= 3), 1, 0)\n",
    "\n",
    "Xp['delinq_2yrs:>=3'] = \\\n",
    "  np.where((Xp['delinq_2yrs'] > 3), 1, 0)"
   ]
  },
  {
   "cell_type": "code",
   "execution_count": null,
   "metadata": {
    "ExecuteTime": {
     "end_time": "2020-04-05T21:27:02.245000Z",
     "start_time": "2020-04-05T21:26:46.374Z"
    }
   },
   "outputs": [],
   "source": [
    "col = 'delinq_2yrs'\n",
    "cols = [i for i in Xp.columns if col in i]\n",
    "Xp[cols].head(2)"
   ]
  },
  {
   "cell_type": "markdown",
   "metadata": {},
   "source": [
    "## woe dummies continuous: inq_last_6mths"
   ]
  },
  {
   "cell_type": "code",
   "execution_count": null,
   "metadata": {
    "ExecuteTime": {
     "end_time": "2020-04-05T21:27:02.251434Z",
     "start_time": "2020-04-05T21:26:46.381Z"
    }
   },
   "outputs": [],
   "source": [
    "col = 'inq_last_6mths'\n",
    "\n",
    "print('unique = ', Xp[col].nunique())\n",
    "print('nulls = ', Xp[col].isnull().sum())\n",
    "\n",
    "Xp[col].head(2)"
   ]
  },
  {
   "cell_type": "code",
   "execution_count": null,
   "metadata": {
    "ExecuteTime": {
     "end_time": "2020-04-05T21:27:02.261997Z",
     "start_time": "2020-04-05T21:26:46.386Z"
    }
   },
   "outputs": [],
   "source": [
    "Xp[col].value_counts()"
   ]
  },
  {
   "cell_type": "code",
   "execution_count": null,
   "metadata": {
    "ExecuteTime": {
     "end_time": "2020-04-05T21:27:02.273054Z",
     "start_time": "2020-04-05T21:26:46.396Z"
    }
   },
   "outputs": [],
   "source": [
    "df_woe = get_woe_iv(Xp,yp,col,sort=col)\n",
    "\n",
    "plot_woe(df_woe,xrot=90,color='k')"
   ]
  },
  {
   "cell_type": "code",
   "execution_count": null,
   "metadata": {
    "ExecuteTime": {
     "end_time": "2020-04-05T21:27:02.279595Z",
     "start_time": "2020-04-05T21:26:46.402Z"
    }
   },
   "outputs": [],
   "source": [
    "\"\"\"\n",
    "we see lots of zeros, make it one feature.\n",
    "\n",
    "then make 1-3 and greater than 3.\n",
    "\n",
    "inq_last_6mths:0\n",
    "inq_last_6mths:1\n",
    "inq_last_6mths:2_3\n",
    "inq_last_6mths:>3\n",
    "\"\"\";"
   ]
  },
  {
   "cell_type": "code",
   "execution_count": null,
   "metadata": {
    "ExecuteTime": {
     "end_time": "2020-04-05T21:27:02.284687Z",
     "start_time": "2020-04-05T21:26:46.407Z"
    }
   },
   "outputs": [],
   "source": [
    "Xp['inq_last_6mths:0'] = \\\n",
    "  np.where((Xp['inq_last_6mths'] ==0), 1, 0)\n",
    "\n",
    "Xp['inq_last_6mths:1'] = \\\n",
    "  np.where((Xp['inq_last_6mths'] ==1), 1, 0)\n",
    "\n",
    "Xp['inq_last_6mths:2_3'] = \\\n",
    "  np.where((Xp['inq_last_6mths'] > 1) & \n",
    "           (Xp['inq_last_6mths'] <= 3), 1, 0)\n",
    "\n",
    "Xp['inq_last_6mths:>3'] = \\\n",
    "  np.where((Xp['inq_last_6mths'] > 3), 1, 0)"
   ]
  },
  {
   "cell_type": "code",
   "execution_count": null,
   "metadata": {
    "ExecuteTime": {
     "end_time": "2020-04-05T21:27:02.288109Z",
     "start_time": "2020-04-05T21:26:46.413Z"
    }
   },
   "outputs": [],
   "source": [
    "col = 'inq_last_6mths'\n",
    "cols = [i for i in Xp.columns if col in i]\n",
    "Xp[cols].head(2)"
   ]
  },
  {
   "cell_type": "markdown",
   "metadata": {},
   "source": [
    "## woe dummies continuous: open_acc"
   ]
  },
  {
   "cell_type": "code",
   "execution_count": null,
   "metadata": {
    "ExecuteTime": {
     "end_time": "2020-04-05T21:27:02.293118Z",
     "start_time": "2020-04-05T21:26:46.420Z"
    }
   },
   "outputs": [],
   "source": [
    "col = 'open_acc'\n",
    "\n",
    "print('unique = ', Xp[col].nunique())\n",
    "print('nulls = ', Xp[col].isnull().sum())\n",
    "\n",
    "Xp[col].head(2)"
   ]
  },
  {
   "cell_type": "code",
   "execution_count": null,
   "metadata": {
    "ExecuteTime": {
     "end_time": "2020-04-05T21:27:02.301931Z",
     "start_time": "2020-04-05T21:26:46.426Z"
    }
   },
   "outputs": [],
   "source": [
    "df_woe = get_woe_iv(Xp,yp,col,sort=col)\n",
    "\n",
    "plot_woe(df_woe,xrot=90,color='k')"
   ]
  },
  {
   "cell_type": "code",
   "execution_count": null,
   "metadata": {
    "ExecuteTime": {
     "end_time": "2020-04-05T21:27:02.305855Z",
     "start_time": "2020-04-05T21:26:46.436Z"
    }
   },
   "outputs": [],
   "source": [
    "Xp[col].value_counts().sort_index()[lambda x: x>600]"
   ]
  },
  {
   "cell_type": "code",
   "execution_count": null,
   "metadata": {
    "ExecuteTime": {
     "end_time": "2020-04-05T21:27:02.311235Z",
     "start_time": "2020-04-05T21:26:46.449Z"
    }
   },
   "outputs": [],
   "source": [
    "Xp[col+':<=3'] = \\\n",
    "  np.where((Xp[col] <=3), 1, 0)\n",
    "\n",
    "Xp[col+':4_5'] = \\\n",
    "  np.where((Xp[col] > 3) & \n",
    "           (Xp[col] <= 5), 1, 0)\n",
    "\n",
    "Xp[col+':6_13'] = \\\n",
    "  np.where((Xp[col] > 5) & \n",
    "           (Xp[col] <= 13), 1, 0)\n",
    "\n",
    "Xp[col+':13_17'] = \\\n",
    "  np.where((Xp[col] > 13) & \n",
    "           (Xp[col] <= 17), 1, 0)\n",
    "\n",
    "Xp[col+':>17'] = \\\n",
    "  np.where((Xp[col] > 17), 1, 0)"
   ]
  },
  {
   "cell_type": "code",
   "execution_count": null,
   "metadata": {
    "ExecuteTime": {
     "end_time": "2020-04-05T21:27:02.315056Z",
     "start_time": "2020-04-05T21:26:46.460Z"
    }
   },
   "outputs": [],
   "source": [
    "\"\"\"\n",
    "There are many small number and woe curve is flat.\n",
    "look at n_obs and group them.\n",
    "\n",
    "open_acc:<=3\n",
    "open_acc:4_5\n",
    "open_acc:6_13\n",
    "open_acc:13_17\n",
    "open_acc:>17\n",
    "\n",
    "\"\"\";"
   ]
  },
  {
   "cell_type": "code",
   "execution_count": null,
   "metadata": {
    "ExecuteTime": {
     "end_time": "2020-04-05T21:27:02.317878Z",
     "start_time": "2020-04-05T21:26:46.469Z"
    }
   },
   "outputs": [],
   "source": [
    "# df_woe"
   ]
  },
  {
   "cell_type": "markdown",
   "metadata": {},
   "source": [
    "## woe dummies continuous: pub_rec"
   ]
  },
  {
   "cell_type": "code",
   "execution_count": null,
   "metadata": {
    "ExecuteTime": {
     "end_time": "2020-04-05T21:27:02.320770Z",
     "start_time": "2020-04-05T21:26:46.484Z"
    }
   },
   "outputs": [],
   "source": [
    "col = 'pub_rec'\n",
    "\n",
    "print('unique = ', Xp[col].nunique())\n",
    "print('nulls = ', Xp[col].isnull().sum())\n",
    "\n",
    "Xp[col].head(2)"
   ]
  },
  {
   "cell_type": "code",
   "execution_count": null,
   "metadata": {
    "ExecuteTime": {
     "end_time": "2020-04-05T21:27:02.384827Z",
     "start_time": "2020-04-05T21:26:46.503Z"
    }
   },
   "outputs": [],
   "source": [
    "df_woe = get_woe_iv(Xp,yp,col,sort=col)\n",
    "\n",
    "plot_woe(df_woe,xrot=90,color='k')"
   ]
  },
  {
   "cell_type": "code",
   "execution_count": null,
   "metadata": {
    "ExecuteTime": {
     "end_time": "2020-04-05T21:27:02.397883Z",
     "start_time": "2020-04-05T21:26:46.511Z"
    }
   },
   "outputs": [],
   "source": [
    "Xp[col].value_counts().sort_index()"
   ]
  },
  {
   "cell_type": "code",
   "execution_count": null,
   "metadata": {
    "ExecuteTime": {
     "end_time": "2020-04-05T21:27:02.403912Z",
     "start_time": "2020-04-05T21:26:46.518Z"
    }
   },
   "outputs": [],
   "source": [
    "Xp[col+':0'] = \\\n",
    "  np.where((Xp[col] ==0), 1, 0)\n",
    "\n",
    "Xp[col+':1'] = \\\n",
    "  np.where((Xp[col] ==1), 1, 0)\n",
    "\n",
    "Xp[col+':2'] = \\\n",
    "  np.where((Xp[col] ==2), 1, 0)\n",
    "\n",
    "Xp[col+':3'] = \\\n",
    "  np.where((Xp[col] ==3), 1, 0)\n",
    "\n",
    "\n",
    "Xp[col+':>3'] = \\\n",
    "  np.where((Xp[col] > 3), 1, 0)"
   ]
  },
  {
   "cell_type": "code",
   "execution_count": null,
   "metadata": {
    "ExecuteTime": {
     "end_time": "2020-04-05T21:27:02.408744Z",
     "start_time": "2020-04-05T21:26:46.524Z"
    }
   },
   "outputs": [],
   "source": [
    "\"\"\"\n",
    "pub_rec:0\n",
    "pub_rec:1\n",
    "pub_rec:2\n",
    "pub_rec:3\n",
    "pub_rec:>3\n",
    "\n",
    "\"\"\";"
   ]
  },
  {
   "cell_type": "markdown",
   "metadata": {},
   "source": [
    "## woe dummies continuous: total_acc"
   ]
  },
  {
   "cell_type": "code",
   "execution_count": null,
   "metadata": {
    "ExecuteTime": {
     "end_time": "2020-04-05T21:27:02.412006Z",
     "start_time": "2020-04-05T21:26:46.531Z"
    }
   },
   "outputs": [],
   "source": [
    "col = 'total_acc'\n",
    "colf = col + '_factor'\n",
    "\n",
    "print('unique = ', Xp[col].nunique())\n",
    "print('nulls = ', Xp[col].isnull().sum())\n",
    "\n",
    "Xp[col].head(2)"
   ]
  },
  {
   "cell_type": "code",
   "execution_count": null,
   "metadata": {
    "ExecuteTime": {
     "end_time": "2020-04-05T21:27:02.417170Z",
     "start_time": "2020-04-05T21:26:46.538Z"
    }
   },
   "outputs": [],
   "source": [
    "Xp[col].value_counts()[lambda x: x>9000]"
   ]
  },
  {
   "cell_type": "code",
   "execution_count": null,
   "metadata": {
    "ExecuteTime": {
     "end_time": "2020-04-05T21:27:02.420589Z",
     "start_time": "2020-04-05T21:26:46.551Z"
    }
   },
   "outputs": [],
   "source": [
    "Xp[colf] = pd.cut(Xp[col], 50)\n",
    "df_woe = get_woe_iv(Xp,yp,colf,sort=colf)\n",
    "plot_woe(df_woe,xrot=90,color='k')"
   ]
  },
  {
   "cell_type": "code",
   "execution_count": null,
   "metadata": {
    "ExecuteTime": {
     "end_time": "2020-04-05T21:27:02.424071Z",
     "start_time": "2020-04-05T21:26:46.562Z"
    }
   },
   "outputs": [],
   "source": [
    "bins = [0,6.24,21.84,37.44,40.56]\n",
    "col = 'total_acc'\n",
    "\n",
    "create_bins_dummies_cont(Xp,col,bins)\n",
    "\n",
    "cols = [i for i in Xp.columns if col in i]\n",
    "Xp[cols].head(2)"
   ]
  },
  {
   "cell_type": "code",
   "execution_count": null,
   "metadata": {
    "ExecuteTime": {
     "end_time": "2020-04-05T21:27:02.428791Z",
     "start_time": "2020-04-05T21:26:46.572Z"
    }
   },
   "outputs": [],
   "source": [
    "\"\"\"\n",
    "total_acc:0_6.24\n",
    "total_acc:6.24_21.84\n",
    "total_acc:21.84_37.44\n",
    "total_acc:37.44_40.56\n",
    "total_acc:>=40.56\n",
    "\n",
    "\"\"\";"
   ]
  },
  {
   "cell_type": "markdown",
   "metadata": {},
   "source": [
    "## woe dummies continuous: acc_now_delinq"
   ]
  },
  {
   "cell_type": "code",
   "execution_count": null,
   "metadata": {
    "ExecuteTime": {
     "end_time": "2020-04-05T21:27:02.432401Z",
     "start_time": "2020-04-05T21:26:46.581Z"
    }
   },
   "outputs": [],
   "source": [
    "col = 'acc_now_delinq'\n",
    "\n",
    "print('unique = ', Xp[col].nunique())\n",
    "print('nulls = ', Xp[col].isnull().sum())\n",
    "\n",
    "Xp[col].head(2)"
   ]
  },
  {
   "cell_type": "code",
   "execution_count": null,
   "metadata": {
    "ExecuteTime": {
     "end_time": "2020-04-05T21:27:02.434863Z",
     "start_time": "2020-04-05T21:26:46.589Z"
    }
   },
   "outputs": [],
   "source": [
    "Xp[col].value_counts()"
   ]
  },
  {
   "cell_type": "code",
   "execution_count": null,
   "metadata": {
    "ExecuteTime": {
     "end_time": "2020-04-05T21:27:02.439659Z",
     "start_time": "2020-04-05T21:26:46.597Z"
    }
   },
   "outputs": [],
   "source": [
    "col = 'acc_now_delinq'\n",
    "df_woe = get_woe_iv(Xp,yp,col,sort=col)\n",
    "\n",
    "plot_woe(df_woe,xrot=90,color='k')"
   ]
  },
  {
   "cell_type": "code",
   "execution_count": null,
   "metadata": {
    "ExecuteTime": {
     "end_time": "2020-04-05T21:27:02.443817Z",
     "start_time": "2020-04-05T21:26:46.604Z"
    }
   },
   "outputs": [],
   "source": [
    "Xp[col+':0'] = \\\n",
    "  np.where((Xp[col] ==0), 1, 0)\n",
    "\n",
    "Xp[col+':>=1'] = \\\n",
    "  np.where((Xp[col] > 3), 1, 0)"
   ]
  },
  {
   "cell_type": "code",
   "execution_count": null,
   "metadata": {
    "ExecuteTime": {
     "end_time": "2020-04-05T21:27:02.447259Z",
     "start_time": "2020-04-05T21:26:46.608Z"
    }
   },
   "outputs": [],
   "source": [
    "\"\"\"\n",
    "acc_now_delinq:0\n",
    "acc_now_delinq:>=1\n",
    "\n",
    "\"\"\";"
   ]
  },
  {
   "cell_type": "code",
   "execution_count": null,
   "metadata": {
    "ExecuteTime": {
     "end_time": "2020-04-05T21:27:02.456365Z",
     "start_time": "2020-04-05T21:26:46.614Z"
    }
   },
   "outputs": [],
   "source": [
    "col = 'acc_now_delinq'\n",
    "cols = [i for i in Xp.columns if col in i]\n",
    "Xp[cols].head(2)"
   ]
  },
  {
   "cell_type": "markdown",
   "metadata": {},
   "source": [
    "## woe dummies continuous: total_rev_hi_lim"
   ]
  },
  {
   "cell_type": "code",
   "execution_count": null,
   "metadata": {
    "ExecuteTime": {
     "end_time": "2020-04-05T21:27:02.460267Z",
     "start_time": "2020-04-05T21:26:46.620Z"
    }
   },
   "outputs": [],
   "source": [
    "col = 'total_rev_hi_lim'\n",
    "colf = col + '_factor'\n",
    "\n",
    "print('unique = ', Xp[col].nunique())\n",
    "print('nulls = ', Xp[col].isnull().sum())\n",
    "\n",
    "Xp[col].head(2)"
   ]
  },
  {
   "cell_type": "code",
   "execution_count": null,
   "metadata": {
    "ExecuteTime": {
     "end_time": "2020-04-05T21:27:02.463977Z",
     "start_time": "2020-04-05T21:26:46.626Z"
    }
   },
   "outputs": [],
   "source": [
    "Xp[colf] = pd.cut(Xp[col], 100)\n",
    "df_woe = get_woe_iv(Xp,yp,colf,sort=colf)\n",
    "df_woe.head()"
   ]
  },
  {
   "cell_type": "code",
   "execution_count": null,
   "metadata": {
    "ExecuteTime": {
     "end_time": "2020-04-05T21:27:02.466306Z",
     "start_time": "2020-04-05T21:26:46.632Z"
    }
   },
   "outputs": [],
   "source": [
    "df_woe = df_woe[df_woe.n_obs > 1000]\n",
    "df_woe"
   ]
  },
  {
   "cell_type": "code",
   "execution_count": null,
   "metadata": {
    "ExecuteTime": {
     "end_time": "2020-04-05T21:27:02.475415Z",
     "start_time": "2020-04-05T21:26:46.640Z"
    }
   },
   "outputs": [],
   "source": [
    "plot_woe(df_woe,xrot=90,color='k')"
   ]
  },
  {
   "cell_type": "code",
   "execution_count": null,
   "metadata": {
    "ExecuteTime": {
     "end_time": "2020-04-05T21:27:02.479056Z",
     "start_time": "2020-04-05T21:26:46.646Z"
    }
   },
   "outputs": [],
   "source": [
    "\"\"\"\n",
    "total_rev_hi_lim:<=5k\n",
    "total_rev_hi_lim:5k_10k\n",
    "total_rev_hi_lim:10k_20k\n",
    "total_rev_hi_lim:20k_30k\n",
    "total_rev_hi_lim:30k_40k\n",
    "total_rev_hi_lim:40k_50k\n",
    "total_rev_hi_lim:50k_65k\n",
    "total_rev_hi_lim:65k_80k\n",
    "total_rev_hi_lim:>80k\n",
    "\n",
    "\"\"\";"
   ]
  },
  {
   "cell_type": "code",
   "execution_count": null,
   "metadata": {
    "ExecuteTime": {
     "end_time": "2020-04-05T21:27:02.481501Z",
     "start_time": "2020-04-05T21:26:46.651Z"
    }
   },
   "outputs": [],
   "source": [
    "Xp['total_rev_hi_lim:<=5k'] = \\\n",
    "np.where((Xp['total_rev_hi_lim'] <= 5000), 1, 0)\n",
    "\n",
    "Xp['total_rev_hi_lim:5k_10k'] = \\\n",
    "np.where((Xp['total_rev_hi_lim'] > 5000) & \n",
    "         (Xp['total_rev_hi_lim'] <= 10000), 1, 0)\n",
    "\n",
    "Xp['total_rev_hi_lim:10k_20k'] = \\\n",
    "np.where((Xp['total_rev_hi_lim'] > 10000) & \n",
    "         (Xp['total_rev_hi_lim'] <= 20000), 1, 0)\n",
    "\n",
    "Xp['total_rev_hi_lim:20k_30k'] = \\\n",
    "np.where((Xp['total_rev_hi_lim'] > 20000) & \n",
    "         (Xp['total_rev_hi_lim'] <= 30000), 1, 0)\n",
    "\n",
    "Xp['total_rev_hi_lim:30k_40k'] = \\\n",
    "np.where((Xp['total_rev_hi_lim'] > 30000) & \n",
    "         (Xp['total_rev_hi_lim'] <= 40000), 1, 0)\n",
    "\n",
    "Xp['total_rev_hi_lim:40k_50k'] = \\\n",
    "np.where((Xp['total_rev_hi_lim'] > 40000) & \n",
    "         (Xp['total_rev_hi_lim'] <= 50000), 1, 0)\n",
    "\n",
    "Xp['total_rev_hi_lim:50k_65k'] = \\\n",
    "np.where((Xp['total_rev_hi_lim'] > 50000) & \n",
    "         (Xp['total_rev_hi_lim'] <= 65000), 1, 0)\n",
    "\n",
    "Xp['total_rev_hi_lim:65k_80k'] = \\\n",
    "np.where((Xp['total_rev_hi_lim'] > 65000) & \n",
    "         (Xp['total_rev_hi_lim'] <= 80000), 1, 0)\n",
    "\n",
    "Xp['total_rev_hi_lim:>80k'] = np.where((Xp['total_rev_hi_lim'] > 80000), 1, 0)"
   ]
  },
  {
   "cell_type": "markdown",
   "metadata": {},
   "source": [
    "## woe dummies continuous: installment"
   ]
  },
  {
   "cell_type": "code",
   "execution_count": null,
   "metadata": {
    "ExecuteTime": {
     "end_time": "2020-04-05T21:27:02.488060Z",
     "start_time": "2020-04-05T21:26:46.657Z"
    }
   },
   "outputs": [],
   "source": [
    "col = 'installment'\n",
    "colf = col + '_factor'\n",
    "\n",
    "print('unique = ', Xp[col].nunique())\n",
    "print('nulls = ', Xp[col].isnull().sum())\n",
    "\n",
    "Xp[col].head(2)"
   ]
  },
  {
   "cell_type": "code",
   "execution_count": null,
   "metadata": {
    "ExecuteTime": {
     "end_time": "2020-04-05T21:27:02.492120Z",
     "start_time": "2020-04-05T21:26:46.663Z"
    }
   },
   "outputs": [],
   "source": [
    "Xp[colf] = pd.cut(Xp[col], 50)\n",
    "df_woe = get_woe_iv(Xp,yp,colf,sort=colf)\n",
    "\n",
    "df_woe.head()"
   ]
  },
  {
   "cell_type": "code",
   "execution_count": null,
   "metadata": {
    "ExecuteTime": {
     "end_time": "2020-04-05T21:27:02.496840Z",
     "start_time": "2020-04-05T21:26:46.670Z"
    }
   },
   "outputs": [],
   "source": [
    "df_woe = df_woe[df_woe.n_obs > 500]\n",
    "\n",
    "df_woe.style\\\n",
    ".background_gradient(subset=['n_obs'],cmap='Blues')\\\n",
    ".background_gradient(subset=['woe'],cmap='Reds')\\\n",
    ".format({'n_obs':\"{:,d}\", 'diff_n_obs':\"{:,.0f}\"})"
   ]
  },
  {
   "cell_type": "code",
   "execution_count": null,
   "metadata": {
    "ExecuteTime": {
     "end_time": "2020-04-05T21:27:02.500597Z",
     "start_time": "2020-04-05T21:26:46.674Z"
    }
   },
   "outputs": [],
   "source": [
    "plot_woe(df_woe,xrot=90,color='k')"
   ]
  },
  {
   "cell_type": "code",
   "execution_count": null,
   "metadata": {
    "ExecuteTime": {
     "end_time": "2020-04-05T21:27:02.503950Z",
     "start_time": "2020-04-05T21:26:46.681Z"
    }
   },
   "outputs": [],
   "source": [
    "bins = [0, 127,210,266,294,322,378,406,433,517,545,\n",
    "       629,712,796,852,880,935,963]\n",
    "\n",
    "col = 'installment'\n",
    "\n",
    "create_bins_dummies_cont(Xp,col,bins)\n",
    "\n",
    "cols = [i for i in Xp.columns if col in i]\n",
    "Xp[cols].head(2)\n"
   ]
  },
  {
   "cell_type": "code",
   "execution_count": null,
   "metadata": {
    "ExecuteTime": {
     "end_time": "2020-04-05T21:27:02.507852Z",
     "start_time": "2020-04-05T21:26:46.686Z"
    }
   },
   "outputs": [],
   "source": [
    "\"\"\"\n",
    "installment:0_127\n",
    "installment:127_210\n",
    "installment:210_266\n",
    "installment:266_294\n",
    "installment:294_322\n",
    "installment:322_378\n",
    "installment:378_406\n",
    "installment:406_433\n",
    "installment:433_517\n",
    "installment:517_545\n",
    "installment:545_629\n",
    "installment:629_712\n",
    "installment:712_796\n",
    "installment:796_852\n",
    "installment:852_880\n",
    "installment:880_935\n",
    "installment:935_963\n",
    "installment:>=963\n",
    "\n",
    "\"\"\";"
   ]
  },
  {
   "cell_type": "markdown",
   "metadata": {},
   "source": [
    "## woe dummies continuous: annual_inc"
   ]
  },
  {
   "cell_type": "code",
   "execution_count": null,
   "metadata": {
    "ExecuteTime": {
     "end_time": "2020-04-05T21:27:02.515129Z",
     "start_time": "2020-04-05T21:26:46.692Z"
    }
   },
   "outputs": [],
   "source": [
    "col = 'annual_inc'\n",
    "colf = col + '_factor'\n",
    "\n",
    "print('unique = ', Xp[col].nunique())\n",
    "print('nulls = ', Xp[col].isnull().sum())\n",
    "\n",
    "Xp[col].head(2)"
   ]
  },
  {
   "cell_type": "code",
   "execution_count": null,
   "metadata": {
    "ExecuteTime": {
     "end_time": "2020-04-05T21:27:02.519024Z",
     "start_time": "2020-04-05T21:26:46.697Z"
    }
   },
   "outputs": [],
   "source": [
    "Xp[col].describe()"
   ]
  },
  {
   "cell_type": "code",
   "execution_count": null,
   "metadata": {
    "ExecuteTime": {
     "end_time": "2020-04-05T21:27:02.522804Z",
     "start_time": "2020-04-05T21:26:46.703Z"
    }
   },
   "outputs": [],
   "source": [
    "Xp[colf] = pd.cut(Xp[col], 50)\n",
    "df_woe = get_woe_iv(Xp,yp,colf,sort=colf)\n",
    "\n",
    "df_woe.head()"
   ]
  },
  {
   "cell_type": "code",
   "execution_count": null,
   "metadata": {
    "ExecuteTime": {
     "end_time": "2020-04-05T21:27:02.526297Z",
     "start_time": "2020-04-05T21:26:46.709Z"
    }
   },
   "outputs": [],
   "source": [
    "# we see too many obs in first category. increase bins to 100\n",
    "Xp[colf] = pd.cut(Xp[col], 100)\n",
    "df_woe = get_woe_iv(Xp,yp,colf,sort=colf)\n",
    "\n",
    "df_woe.head()"
   ]
  },
  {
   "cell_type": "code",
   "execution_count": null,
   "metadata": {
    "ExecuteTime": {
     "end_time": "2020-04-05T21:27:02.529201Z",
     "start_time": "2020-04-05T21:26:46.715Z"
    }
   },
   "outputs": [],
   "source": [
    "\"\"\"\n",
    "Looking at factors of annual income, we can make two\n",
    "groups with 150k (or 140k) and analyze the group\n",
    "earning more than 140k separately.\n",
    "\n",
    "\"\"\";"
   ]
  },
  {
   "cell_type": "code",
   "execution_count": null,
   "metadata": {
    "ExecuteTime": {
     "end_time": "2020-04-05T21:27:02.532164Z",
     "start_time": "2020-04-05T21:26:46.721Z"
    }
   },
   "outputs": [],
   "source": [
    "Xp_tmp = Xp[Xp[col] <= 140000]\n",
    "\n",
    "Xp_tmp[colf] = pd.cut(Xp_tmp[col], 50)\n",
    "yp_tmp = yp[Xp_tmp.index]\n",
    "\n",
    "df_woe = get_woe_iv(Xp_tmp,yp_tmp,colf,sort=colf)\n",
    "\n",
    "df_woe.head()"
   ]
  },
  {
   "cell_type": "code",
   "execution_count": null,
   "metadata": {
    "ExecuteTime": {
     "end_time": "2020-04-05T21:27:02.540465Z",
     "start_time": "2020-04-05T21:26:46.727Z"
    }
   },
   "outputs": [],
   "source": [
    "Xp_tmp[col].hist()"
   ]
  },
  {
   "cell_type": "code",
   "execution_count": null,
   "metadata": {
    "ExecuteTime": {
     "end_time": "2020-04-05T21:27:02.543908Z",
     "start_time": "2020-04-05T21:26:46.732Z"
    }
   },
   "outputs": [],
   "source": [
    "plot_woe(df_woe,xrot=90,color='k')"
   ]
  },
  {
   "cell_type": "code",
   "execution_count": null,
   "metadata": {
    "ExecuteTime": {
     "end_time": "2020-04-05T21:27:02.548816Z",
     "start_time": "2020-04-05T21:26:46.738Z"
    }
   },
   "outputs": [],
   "source": [
    "\"\"\"\n",
    "WoE is monotonically increasing.\n",
    "We can break into 10 equal parts.\n",
    "\n",
    "\"\"\";"
   ]
  },
  {
   "cell_type": "code",
   "execution_count": null,
   "metadata": {
    "ExecuteTime": {
     "end_time": "2020-04-05T21:27:02.551932Z",
     "start_time": "2020-04-05T21:26:46.745Z"
    }
   },
   "outputs": [],
   "source": [
    "col = 'annual_inc'\n",
    "bins = [20_000,30_000,40_000,50_000,\n",
    "        60_000,70_000,80_000,90_000,\n",
    "        100_000,120_000,140_000]\n",
    "\n",
    "# we need one more labels than bins\n",
    "labels = ['<20k',\n",
    "          '20k_30k','30k_40k','40k_50k',\n",
    "          '50k_60k','60k_70k','70k_80k',\n",
    "          '80k_90k','90k_100k','100k_120k','120k_140k',\n",
    "          '>140k']\n",
    "\n",
    "create_dummies_left_inclusive(Xp,col,bins,labels)\n",
    "cols = [i for i in Xp.columns if col in i]\n",
    "Xp[cols].head(2)"
   ]
  },
  {
   "cell_type": "markdown",
   "metadata": {},
   "source": []
  },
  {
   "cell_type": "markdown",
   "metadata": {},
   "source": [
    "## woe dummies continuous: dti **"
   ]
  },
  {
   "cell_type": "code",
   "execution_count": null,
   "metadata": {
    "ExecuteTime": {
     "end_time": "2020-04-05T21:27:02.591654Z",
     "start_time": "2020-04-05T21:26:46.915Z"
    }
   },
   "outputs": [],
   "source": [
    "col = 'dti'\n",
    "colf = col + '_factor'\n",
    "\n",
    "print('unique = ', Xp[col].nunique())\n",
    "print('nulls = ', Xp[col].isnull().sum())\n",
    "\n",
    "Xp[col].head(2)"
   ]
  },
  {
   "cell_type": "code",
   "execution_count": null,
   "metadata": {
    "ExecuteTime": {
     "end_time": "2020-04-05T21:27:02.596014Z",
     "start_time": "2020-04-05T21:26:46.924Z"
    }
   },
   "outputs": [],
   "source": [
    "Xp[col].hist()"
   ]
  },
  {
   "cell_type": "code",
   "execution_count": null,
   "metadata": {
    "ExecuteTime": {
     "end_time": "2020-04-05T21:27:02.599176Z",
     "start_time": "2020-04-05T21:26:47.004Z"
    }
   },
   "outputs": [],
   "source": [
    "# we see very few observation after 35, we make one group\n",
    "# we can create temp df with range 0 to 35 and bin into 50\n",
    "# parts"
   ]
  },
  {
   "cell_type": "code",
   "execution_count": null,
   "metadata": {
    "ExecuteTime": {
     "end_time": "2020-04-05T21:27:02.602198Z",
     "start_time": "2020-04-05T21:26:47.015Z"
    }
   },
   "outputs": [],
   "source": [
    "Xp_tmp = Xp[Xp[col]<35]\n",
    "yp_tmp = yp[Xp_tmp.index]"
   ]
  },
  {
   "cell_type": "code",
   "execution_count": null,
   "metadata": {
    "ExecuteTime": {
     "end_time": "2020-04-05T21:27:02.605593Z",
     "start_time": "2020-04-05T21:26:47.027Z"
    }
   },
   "outputs": [],
   "source": [
    "Xp_tmp[colf] = pd.cut(Xp_tmp[col], 50)\n",
    "df_woe = get_woe_iv(Xp_tmp,yp_tmp,colf,sort=colf)\n",
    "\n",
    "df_woe.head()"
   ]
  },
  {
   "cell_type": "code",
   "execution_count": null,
   "metadata": {
    "ExecuteTime": {
     "end_time": "2020-04-05T21:27:02.609844Z",
     "start_time": "2020-04-05T21:26:47.038Z"
    }
   },
   "outputs": [],
   "source": [
    "plot_woe(df_woe,xrot=90,color='k')"
   ]
  },
  {
   "cell_type": "code",
   "execution_count": null,
   "metadata": {
    "ExecuteTime": {
     "end_time": "2020-04-05T21:27:02.614873Z",
     "start_time": "2020-04-05T21:26:47.045Z"
    }
   },
   "outputs": [],
   "source": [
    "bins = [0,0.7,1.4,2.1,3.5,4.9,5.6,6.3,7,9,9.8,10.5,\n",
    "       11.2,11.9,12.6,13.3,14,14.7,17.5,18.2,21,21.7,\n",
    "       22.4,23.1,25.2,25.9,29.4,30.1,30.8,31.5,32.2,32.9,\n",
    "       33.6]\n",
    "\n",
    "create_bins_dummies_cont(Xp,col,bins)  "
   ]
  },
  {
   "cell_type": "markdown",
   "metadata": {},
   "source": [
    "# Save the train data and repeat for test"
   ]
  },
  {
   "cell_type": "code",
   "execution_count": null,
   "metadata": {
    "ExecuteTime": {
     "end_time": "2020-04-05T21:27:02.642514Z",
     "start_time": "2020-04-05T21:26:47.122Z"
    }
   },
   "outputs": [],
   "source": [
    "print(Xp.shape)\n",
    "Xp.head(2)\n"
   ]
  },
  {
   "cell_type": "code",
   "execution_count": null,
   "metadata": {
    "ExecuteTime": {
     "end_time": "2020-04-05T21:27:02.645729Z",
     "start_time": "2020-04-05T21:26:47.130Z"
    }
   },
   "outputs": [],
   "source": [
    "# 1. after saving, comment these two lines\n",
    "# 2. go up in notebook where we have defined Xp\n",
    "#    and make it test and run all the cells below that.\n",
    "\n",
    "Xp.to_csv(dat_pro + 'Xtrain.csv')\n",
    "yp.to_csv(dat_pro + 'ytrain.csv')"
   ]
  },
  {
   "cell_type": "code",
   "execution_count": null,
   "metadata": {
    "ExecuteTime": {
     "end_time": "2020-04-05T21:27:02.648198Z",
     "start_time": "2020-04-05T21:26:47.137Z"
    }
   },
   "outputs": [],
   "source": [
    "# after running this, comment it and uncomment train part\n",
    "# we always create dummies from train, not from test.\n",
    "\n",
    "# Xp.to_csv(dat_pro + 'Xtest.csv') # comment this after running\n",
    "# yp.to_csv(dat_pro + 'ytest.csv')"
   ]
  },
  {
   "cell_type": "code",
   "execution_count": null,
   "metadata": {
    "ExecuteTime": {
     "end_time": "2020-04-05T21:27:02.651349Z",
     "start_time": "2020-04-05T21:26:47.151Z"
    }
   },
   "outputs": [],
   "source": [
    "!ls ../data/processed"
   ]
  },
  {
   "cell_type": "markdown",
   "metadata": {},
   "source": [
    "# Time Taken"
   ]
  },
  {
   "cell_type": "code",
   "execution_count": null,
   "metadata": {
    "ExecuteTime": {
     "end_time": "2020-04-05T21:27:02.654282Z",
     "start_time": "2020-04-05T21:26:47.163Z"
    }
   },
   "outputs": [],
   "source": [
    "time_taken = time.time() - time_start_notebook\n",
    "h,m = divmod(time_taken,60*60)\n",
    "print('Time taken to run whole notebook: {:.0f} hr '\\\n",
    "      '{:.0f} min {:.0f} secs'.format(h, *divmod(m,60)))\n"
   ]
  }
 ],
 "metadata": {
  "kernelspec": {
   "display_name": "Python (dataSc)",
   "language": "python",
   "name": "datasc"
  },
  "language_info": {
   "codemirror_mode": {
    "name": "ipython",
    "version": 3
   },
   "file_extension": ".py",
   "mimetype": "text/x-python",
   "name": "python",
   "nbconvert_exporter": "python",
   "pygments_lexer": "ipython3",
   "version": "3.7.3"
  },
  "toc": {
   "base_numbering": 1,
   "nav_menu": {},
   "number_sections": true,
   "sideBar": true,
   "skip_h1_title": false,
   "title_cell": "Table of Contents",
   "title_sidebar": "Contents",
   "toc_cell": true,
   "toc_position": {},
   "toc_section_display": true,
   "toc_window_display": true
  }
 },
 "nbformat": 4,
 "nbformat_minor": 2
}

{
 "cells": [
  {
   "cell_type": "markdown",
   "metadata": {
    "toc": true
   },
   "source": [
    "<h1>Table of Contents<span class=\"tocSkip\"></span></h1>\n",
    "<div class=\"toc\"><ul class=\"toc-item\"><li><span><a href=\"#Description\" data-toc-modified-id=\"Description-1\"><span class=\"toc-item-num\">1&nbsp;&nbsp;</span>Description</a></span></li><li><span><a href=\"#Imports\" data-toc-modified-id=\"Imports-2\"><span class=\"toc-item-num\">2&nbsp;&nbsp;</span>Imports</a></span></li><li><span><a href=\"#Useful-Functions\" data-toc-modified-id=\"Useful-Functions-3\"><span class=\"toc-item-num\">3&nbsp;&nbsp;</span>Useful Functions</a></span></li><li><span><a href=\"#Load-the-data\" data-toc-modified-id=\"Load-the-data-4\"><span class=\"toc-item-num\">4&nbsp;&nbsp;</span>Load the data</a></span></li><li><span><a href=\"#Data-for-modelling\" data-toc-modified-id=\"Data-for-modelling-5\"><span class=\"toc-item-num\">5&nbsp;&nbsp;</span>Data for modelling</a></span></li><li><span><a href=\"#Modelling\" data-toc-modified-id=\"Modelling-6\"><span class=\"toc-item-num\">6&nbsp;&nbsp;</span>Modelling</a></span><ul class=\"toc-item\"><li><span><a href=\"#Logistic-Regression\" data-toc-modified-id=\"Logistic-Regression-6.1\"><span class=\"toc-item-num\">6.1&nbsp;&nbsp;</span>Logistic Regression</a></span></li><li><span><a href=\"#Logistic-Regression-with-p-values\" data-toc-modified-id=\"Logistic-Regression-with-p-values-6.2\"><span class=\"toc-item-num\">6.2&nbsp;&nbsp;</span>Logistic Regression with p-values</a></span></li><li><span><a href=\"#Feature-selection-using-p_values\" data-toc-modified-id=\"Feature-selection-using-p_values-6.3\"><span class=\"toc-item-num\">6.3&nbsp;&nbsp;</span>Feature selection using p_values</a></span></li><li><span><a href=\"#Logistic-Regression-with-p-values-selected-features\" data-toc-modified-id=\"Logistic-Regression-with-p-values-selected-features-6.4\"><span class=\"toc-item-num\">6.4&nbsp;&nbsp;</span>Logistic Regression with p-values selected features</a></span></li><li><span><a href=\"#Model-evaluation-on-test-data\" data-toc-modified-id=\"Model-evaluation-on-test-data-6.5\"><span class=\"toc-item-num\">6.5&nbsp;&nbsp;</span>Model evaluation on test data</a></span></li><li><span><a href=\"#Predicted-Probabilities\" data-toc-modified-id=\"Predicted-Probabilities-6.6\"><span class=\"toc-item-num\">6.6&nbsp;&nbsp;</span>Predicted Probabilities</a></span></li><li><span><a href=\"#Model-evaluation:-confusion-matrix\" data-toc-modified-id=\"Model-evaluation:-confusion-matrix-6.7\"><span class=\"toc-item-num\">6.7&nbsp;&nbsp;</span>Model evaluation: confusion matrix</a></span></li><li><span><a href=\"#Model-evaluation:-AUC\" data-toc-modified-id=\"Model-evaluation:-AUC-6.8\"><span class=\"toc-item-num\">6.8&nbsp;&nbsp;</span>Model evaluation: AUC</a></span></li><li><span><a href=\"#Sort-by-yhat_prob-and-find-Gini-and-Kolmogorov-Smirnov\" data-toc-modified-id=\"Sort-by-yhat_prob-and-find-Gini-and-Kolmogorov-Smirnov-6.9\"><span class=\"toc-item-num\">6.9&nbsp;&nbsp;</span>Sort by yhat_prob and find Gini and Kolmogorov-Smirnov</a></span></li><li><span><a href=\"#Plot-Gini-Curve\" data-toc-modified-id=\"Plot-Gini-Curve-6.10\"><span class=\"toc-item-num\">6.10&nbsp;&nbsp;</span>Plot Gini Curve</a></span></li><li><span><a href=\"#Plot-K-S-curve\" data-toc-modified-id=\"Plot-K-S-curve-6.11\"><span class=\"toc-item-num\">6.11&nbsp;&nbsp;</span>Plot K-S curve</a></span></li></ul></li><li><span><a href=\"#Create-Scorecard\" data-toc-modified-id=\"Create-Scorecard-7\"><span class=\"toc-item-num\">7&nbsp;&nbsp;</span>Create Scorecard</a></span></li></ul></div>"
   ]
  },
  {
   "cell_type": "markdown",
   "metadata": {},
   "source": [
    "# Description\n",
    "\n",
    "![](../images/EL_1.png)\n",
    "![](../images/PD.png)\n",
    "![](../images/LGD_1.png)\n",
    "![](../images/EAD_1.png)\n",
    "![](../images/loan_to_value.png)\n",
    "![](../images/EAD_calculation.png)"
   ]
  },
  {
   "cell_type": "markdown",
   "metadata": {},
   "source": [
    "# Imports"
   ]
  },
  {
   "cell_type": "code",
   "execution_count": 2,
   "metadata": {
    "ExecuteTime": {
     "end_time": "2020-04-02T01:24:48.598552Z",
     "start_time": "2020-04-02T01:24:48.576768Z"
    }
   },
   "outputs": [],
   "source": [
    "%load_ext autoreload"
   ]
  },
  {
   "cell_type": "code",
   "execution_count": 3,
   "metadata": {
    "ExecuteTime": {
     "end_time": "2020-04-02T01:24:48.606481Z",
     "start_time": "2020-04-02T01:24:48.601961Z"
    }
   },
   "outputs": [],
   "source": [
    "%autoreload 2"
   ]
  },
  {
   "cell_type": "code",
   "execution_count": 4,
   "metadata": {
    "ExecuteTime": {
     "end_time": "2020-04-02T01:24:52.446383Z",
     "start_time": "2020-04-02T01:24:48.611749Z"
    }
   },
   "outputs": [
    {
     "name": "stderr",
     "output_type": "stream",
     "text": [
      "/Users/poudel/miniconda3/envs/dataSc/lib/python3.7/site-packages/statsmodels/tools/_testing.py:19: FutureWarning: pandas.util.testing is deprecated. Use the functions in the public API at pandas.testing instead.\n",
      "  import pandas.util.testing as tm\n"
     ]
    }
   ],
   "source": [
    "# my personal library\n",
    "from bhishan import bp"
   ]
  },
  {
   "cell_type": "code",
   "execution_count": null,
   "metadata": {},
   "outputs": [],
   "source": []
  },
  {
   "cell_type": "code",
   "execution_count": 5,
   "metadata": {
    "ExecuteTime": {
     "end_time": "2020-04-02T01:24:52.523317Z",
     "start_time": "2020-04-02T01:24:52.448514Z"
    }
   },
   "outputs": [
    {
     "data": {
      "text/plain": [
       "[('numpy', '1.18.1'), ('pandas', '1.0.1'), ('seaborn', '0.9.0')]"
      ]
     },
     "execution_count": 5,
     "metadata": {},
     "output_type": "execute_result"
    }
   ],
   "source": [
    "import numpy as np\n",
    "import pandas as pd\n",
    "import seaborn as sns\n",
    "pd.plotting.register_matplotlib_converters()\n",
    "\n",
    "from tqdm import tqdm_notebook as tqdm\n",
    "import matplotlib.pyplot as plt\n",
    "\n",
    "%matplotlib inline\n",
    "%config InlineBackend.figure_format = 'retina'\n",
    "plt.style.use('ggplot') \n",
    "\n",
    "# random state\n",
    "SEED=100\n",
    "\n",
    "[(x.__name__,x.__version__) for x in [np,pd,sns]]"
   ]
  },
  {
   "cell_type": "code",
   "execution_count": 6,
   "metadata": {
    "ExecuteTime": {
     "end_time": "2020-04-02T01:24:52.580632Z",
     "start_time": "2020-04-02T01:24:52.528474Z"
    }
   },
   "outputs": [],
   "source": [
    "pd.options.display.max_rows = 100"
   ]
  },
  {
   "cell_type": "code",
   "execution_count": 7,
   "metadata": {
    "ExecuteTime": {
     "end_time": "2020-04-02T01:24:52.636553Z",
     "start_time": "2020-04-02T01:24:52.587467Z"
    }
   },
   "outputs": [
    {
     "data": {
      "application/javascript": [
       "IPython.OutputArea.auto_scroll_threshold = 9999;\n"
      ],
      "text/plain": [
       "<IPython.core.display.Javascript object>"
      ]
     },
     "metadata": {},
     "output_type": "display_data"
    }
   ],
   "source": [
    "%%javascript\n",
    "IPython.OutputArea.auto_scroll_threshold = 9999;"
   ]
  },
  {
   "cell_type": "code",
   "execution_count": 8,
   "metadata": {
    "ExecuteTime": {
     "end_time": "2020-04-02T01:24:52.746127Z",
     "start_time": "2020-04-02T01:24:52.638807Z"
    }
   },
   "outputs": [],
   "source": [
    "from sklearn.linear_model import LogisticRegression\n",
    "from sklearn import metrics"
   ]
  },
  {
   "cell_type": "code",
   "execution_count": 9,
   "metadata": {
    "ExecuteTime": {
     "end_time": "2020-04-02T01:24:52.812605Z",
     "start_time": "2020-04-02T01:24:52.748005Z"
    }
   },
   "outputs": [],
   "source": [
    "import scipy.stats as stats"
   ]
  },
  {
   "cell_type": "markdown",
   "metadata": {},
   "source": [
    "# Useful Functions"
   ]
  },
  {
   "cell_type": "code",
   "execution_count": 10,
   "metadata": {
    "ExecuteTime": {
     "end_time": "2020-04-02T01:24:52.867270Z",
     "start_time": "2020-04-02T01:24:52.814603Z"
    }
   },
   "outputs": [],
   "source": [
    "class LogisticRegressionWithPvalues:\n",
    "    \"\"\"Logistic Regression with p-values.\n",
    "    \n",
    "    Usage:\n",
    "    model = LogisticRegressionWithPvalues(\n",
    "              n_jobs=-1,solver='lbfgs',random_state=SEED)\n",
    "              \n",
    "    model.fit(Xtrain,ytrain)\n",
    "    model.model.predict(Xtest,ytest) #!! NOT: model.predict(Xtest)\n",
    "    \n",
    "    \"\"\"\n",
    "    def __init__(self,*args,**kwargs):\n",
    "        self.model = LogisticRegression(*args,**kwargs)\n",
    "\n",
    "    def fit(self,X,y):\n",
    "        self.model.fit(X,y)\n",
    "        denom = (2.0 * (1.0 + \n",
    "                        np.cosh(self.model.decision_function(X))))\n",
    "        denom = np.tile(denom,(X.shape[1],1)).T\n",
    "        F_ij = np.dot((X / denom).T,X)\n",
    "        Cramer_Rao = np.linalg.inv(F_ij)\n",
    "        sigma_estimates = np.sqrt(np.diagonal(Cramer_Rao))\n",
    "        z_scores = self.model.coef_[0] / sigma_estimates\n",
    "        p_values = [stats.norm.sf(abs(x)) * 2 for x in z_scores]\n",
    "        self.coef_ = self.model.coef_\n",
    "        self.intercept_ = self.model.intercept_\n",
    "        self.p_values = p_values"
   ]
  },
  {
   "cell_type": "code",
   "execution_count": null,
   "metadata": {},
   "outputs": [],
   "source": []
  },
  {
   "cell_type": "code",
   "execution_count": null,
   "metadata": {},
   "outputs": [],
   "source": []
  },
  {
   "cell_type": "markdown",
   "metadata": {},
   "source": [
    "# Load the data"
   ]
  },
  {
   "cell_type": "code",
   "execution_count": 11,
   "metadata": {
    "ExecuteTime": {
     "end_time": "2020-04-02T01:24:53.054957Z",
     "start_time": "2020-04-02T01:24:52.871200Z"
    }
   },
   "outputs": [
    {
     "name": "stdout",
     "output_type": "stream",
     "text": [
      "Xtest.csv            Xtrain.csv           \u001b[32mdummy_variables.xlsx\u001b[m\u001b[m ytest.csv            ytrain.csv\r\n"
     ]
    }
   ],
   "source": [
    "!ls ../data/processed"
   ]
  },
  {
   "cell_type": "code",
   "execution_count": 12,
   "metadata": {
    "ExecuteTime": {
     "end_time": "2020-04-02T01:24:53.095709Z",
     "start_time": "2020-04-02T01:24:53.057122Z"
    }
   },
   "outputs": [],
   "source": [
    "dat_pro = '../data/processed/'"
   ]
  },
  {
   "cell_type": "code",
   "execution_count": 13,
   "metadata": {
    "ExecuteTime": {
     "end_time": "2020-04-02T01:25:07.025905Z",
     "start_time": "2020-04-02T01:24:53.098635Z"
    }
   },
   "outputs": [],
   "source": [
    "Xtrain = pd.read_csv(dat_pro + 'Xtrain.csv',index_col=0)\n",
    "ytrain = pd.read_csv(dat_pro + 'ytrain.csv',index_col=0)\n",
    "Xtest = pd.read_csv(dat_pro + 'Xtest.csv',index_col=0)\n",
    "ytest = pd.read_csv(dat_pro + 'ytest.csv',index_col=0)"
   ]
  },
  {
   "cell_type": "code",
   "execution_count": 14,
   "metadata": {
    "ExecuteTime": {
     "end_time": "2020-04-02T01:25:07.084757Z",
     "start_time": "2020-04-02T01:25:07.027991Z"
    }
   },
   "outputs": [
    {
     "data": {
      "text/plain": [
       "((373028, 351), (373028, 1), (93257, 351), (93257, 1))"
      ]
     },
     "execution_count": 14,
     "metadata": {},
     "output_type": "execute_result"
    }
   ],
   "source": [
    "Xtrain.shape, ytrain.shape,Xtest.shape,ytest.shape"
   ]
  },
  {
   "cell_type": "code",
   "execution_count": 15,
   "metadata": {
    "ExecuteTime": {
     "end_time": "2020-04-02T01:25:07.159239Z",
     "start_time": "2020-04-02T01:25:07.087149Z"
    }
   },
   "outputs": [
    {
     "data": {
      "text/html": [
       "<div>\n",
       "<style scoped>\n",
       "    .dataframe tbody tr th:only-of-type {\n",
       "        vertical-align: middle;\n",
       "    }\n",
       "\n",
       "    .dataframe tbody tr th {\n",
       "        vertical-align: top;\n",
       "    }\n",
       "\n",
       "    .dataframe thead th {\n",
       "        text-align: right;\n",
       "    }\n",
       "</style>\n",
       "<table border=\"1\" class=\"dataframe\">\n",
       "  <thead>\n",
       "    <tr style=\"text-align: right;\">\n",
       "      <th></th>\n",
       "      <th>Unnamed: 0.1</th>\n",
       "      <th>id</th>\n",
       "      <th>member_id</th>\n",
       "      <th>loan_amnt</th>\n",
       "      <th>funded_amnt</th>\n",
       "      <th>funded_amnt_inv</th>\n",
       "      <th>term</th>\n",
       "      <th>int_rate</th>\n",
       "      <th>installment</th>\n",
       "      <th>grade</th>\n",
       "      <th>...</th>\n",
       "      <th>dti:32.2_32.9</th>\n",
       "      <th>dti:32.9_33.6</th>\n",
       "      <th>dti:&gt;=33.6</th>\n",
       "      <th>mths_since_last_record:missing</th>\n",
       "      <th>mths_since_last_record:0_2</th>\n",
       "      <th>mths_since_last_record:3_22</th>\n",
       "      <th>mths_since_last_record:23_46</th>\n",
       "      <th>mths_since_last_record:47_68</th>\n",
       "      <th>mths_since_last_record:69_85</th>\n",
       "      <th>mths_since_last_record:&gt;=86</th>\n",
       "    </tr>\n",
       "  </thead>\n",
       "  <tbody>\n",
       "    <tr>\n",
       "      <th>366463</th>\n",
       "      <td>366463</td>\n",
       "      <td>18514656</td>\n",
       "      <td>20677353</td>\n",
       "      <td>4000</td>\n",
       "      <td>4000</td>\n",
       "      <td>4000.0</td>\n",
       "      <td>36 months</td>\n",
       "      <td>16.29</td>\n",
       "      <td>141.21</td>\n",
       "      <td>D</td>\n",
       "      <td>...</td>\n",
       "      <td>0</td>\n",
       "      <td>0</td>\n",
       "      <td>0</td>\n",
       "      <td>0</td>\n",
       "      <td>0</td>\n",
       "      <td>0</td>\n",
       "      <td>0</td>\n",
       "      <td>0</td>\n",
       "      <td>0</td>\n",
       "      <td>1</td>\n",
       "    </tr>\n",
       "    <tr>\n",
       "      <th>409215</th>\n",
       "      <td>409215</td>\n",
       "      <td>14388577</td>\n",
       "      <td>16430959</td>\n",
       "      <td>10000</td>\n",
       "      <td>10000</td>\n",
       "      <td>10000.0</td>\n",
       "      <td>36 months</td>\n",
       "      <td>11.99</td>\n",
       "      <td>332.10</td>\n",
       "      <td>B</td>\n",
       "      <td>...</td>\n",
       "      <td>0</td>\n",
       "      <td>0</td>\n",
       "      <td>0</td>\n",
       "      <td>0</td>\n",
       "      <td>0</td>\n",
       "      <td>0</td>\n",
       "      <td>0</td>\n",
       "      <td>0</td>\n",
       "      <td>0</td>\n",
       "      <td>1</td>\n",
       "    </tr>\n",
       "  </tbody>\n",
       "</table>\n",
       "<p>2 rows × 351 columns</p>\n",
       "</div>"
      ],
      "text/plain": [
       "        Unnamed: 0.1        id  member_id  loan_amnt  funded_amnt  \\\n",
       "366463        366463  18514656   20677353       4000         4000   \n",
       "409215        409215  14388577   16430959      10000        10000   \n",
       "\n",
       "        funded_amnt_inv        term  int_rate  installment grade  ...  \\\n",
       "366463           4000.0   36 months     16.29       141.21     D  ...   \n",
       "409215          10000.0   36 months     11.99       332.10     B  ...   \n",
       "\n",
       "       dti:32.2_32.9 dti:32.9_33.6 dti:>=33.6 mths_since_last_record:missing  \\\n",
       "366463             0             0          0                              0   \n",
       "409215             0             0          0                              0   \n",
       "\n",
       "        mths_since_last_record:0_2 mths_since_last_record:3_22  \\\n",
       "366463                           0                           0   \n",
       "409215                           0                           0   \n",
       "\n",
       "       mths_since_last_record:23_46 mths_since_last_record:47_68  \\\n",
       "366463                            0                            0   \n",
       "409215                            0                            0   \n",
       "\n",
       "       mths_since_last_record:69_85 mths_since_last_record:>=86  \n",
       "366463                            0                           1  \n",
       "409215                            0                           1  \n",
       "\n",
       "[2 rows x 351 columns]"
      ]
     },
     "execution_count": 15,
     "metadata": {},
     "output_type": "execute_result"
    }
   ],
   "source": [
    "Xtrain.head(2)"
   ]
  },
  {
   "cell_type": "code",
   "execution_count": 16,
   "metadata": {
    "ExecuteTime": {
     "end_time": "2020-04-02T01:25:07.231343Z",
     "start_time": "2020-04-02T01:25:07.163745Z"
    }
   },
   "outputs": [
    {
     "data": {
      "text/plain": [
       "1    332252\n",
       "0     40776\n",
       "Name: good_bad, dtype: int64"
      ]
     },
     "execution_count": 16,
     "metadata": {},
     "output_type": "execute_result"
    }
   ],
   "source": [
    "ytrain['good_bad'].value_counts()"
   ]
  },
  {
   "cell_type": "code",
   "execution_count": 17,
   "metadata": {
    "ExecuteTime": {
     "end_time": "2020-04-02T01:25:07.821142Z",
     "start_time": "2020-04-02T01:25:07.235470Z"
    }
   },
   "outputs": [
    {
     "name": "stdout",
     "output_type": "stream",
     "text": [
      "['dummy', 'reference']\n"
     ]
    }
   ],
   "source": [
    "xls = pd.ExcelFile(dat_pro + 'dummy_variables.xlsx')\n",
    "print(xls.sheet_names)\n",
    "df_features = xls.parse(0,header=None,names=['feature'])\n",
    "df_references = xls.parse(1,header=None,names=['reference'])"
   ]
  },
  {
   "cell_type": "code",
   "execution_count": 18,
   "metadata": {
    "ExecuteTime": {
     "end_time": "2020-04-02T01:25:07.874589Z",
     "start_time": "2020-04-02T01:25:07.823233Z"
    }
   },
   "outputs": [
    {
     "name": "stdout",
     "output_type": "stream",
     "text": [
      "(164, 1)\n"
     ]
    },
    {
     "data": {
      "text/html": [
       "<div>\n",
       "<style scoped>\n",
       "    .dataframe tbody tr th:only-of-type {\n",
       "        vertical-align: middle;\n",
       "    }\n",
       "\n",
       "    .dataframe tbody tr th {\n",
       "        vertical-align: top;\n",
       "    }\n",
       "\n",
       "    .dataframe thead th {\n",
       "        text-align: right;\n",
       "    }\n",
       "</style>\n",
       "<table border=\"1\" class=\"dataframe\">\n",
       "  <thead>\n",
       "    <tr style=\"text-align: right;\">\n",
       "      <th></th>\n",
       "      <th>feature</th>\n",
       "    </tr>\n",
       "  </thead>\n",
       "  <tbody>\n",
       "    <tr>\n",
       "      <th>0</th>\n",
       "      <td>grade:A</td>\n",
       "    </tr>\n",
       "    <tr>\n",
       "      <th>1</th>\n",
       "      <td>grade:B</td>\n",
       "    </tr>\n",
       "    <tr>\n",
       "      <th>162</th>\n",
       "      <td>mths_since_last_record:69_85</td>\n",
       "    </tr>\n",
       "    <tr>\n",
       "      <th>163</th>\n",
       "      <td>mths_since_last_record:&gt;=86</td>\n",
       "    </tr>\n",
       "  </tbody>\n",
       "</table>\n",
       "</div>"
      ],
      "text/plain": [
       "                          feature\n",
       "0                         grade:A\n",
       "1                         grade:B\n",
       "162  mths_since_last_record:69_85\n",
       "163   mths_since_last_record:>=86"
      ]
     },
     "execution_count": 18,
     "metadata": {},
     "output_type": "execute_result"
    }
   ],
   "source": [
    "print(df_features.shape)\n",
    "df_features.head(2).append(df_features.tail(2))"
   ]
  },
  {
   "cell_type": "code",
   "execution_count": 19,
   "metadata": {
    "ExecuteTime": {
     "end_time": "2020-04-02T01:25:07.932986Z",
     "start_time": "2020-04-02T01:25:07.876886Z"
    }
   },
   "outputs": [
    {
     "data": {
      "text/html": [
       "<div>\n",
       "<style scoped>\n",
       "    .dataframe tbody tr th:only-of-type {\n",
       "        vertical-align: middle;\n",
       "    }\n",
       "\n",
       "    .dataframe tbody tr th {\n",
       "        vertical-align: top;\n",
       "    }\n",
       "\n",
       "    .dataframe thead th {\n",
       "        text-align: right;\n",
       "    }\n",
       "</style>\n",
       "<table border=\"1\" class=\"dataframe\">\n",
       "  <thead>\n",
       "    <tr style=\"text-align: right;\">\n",
       "      <th></th>\n",
       "      <th>feature</th>\n",
       "      <th>orig_feature</th>\n",
       "    </tr>\n",
       "  </thead>\n",
       "  <tbody>\n",
       "    <tr>\n",
       "      <th>115</th>\n",
       "      <td>annual_inc:90k_100k</td>\n",
       "      <td>annual_inc</td>\n",
       "    </tr>\n",
       "    <tr>\n",
       "      <th>16</th>\n",
       "      <td>addr_state:GA_WA_OR</td>\n",
       "      <td>addr_state</td>\n",
       "    </tr>\n",
       "    <tr>\n",
       "      <th>70</th>\n",
       "      <td>pub_rec:2</td>\n",
       "      <td>pub_rec</td>\n",
       "    </tr>\n",
       "    <tr>\n",
       "      <th>78</th>\n",
       "      <td>acc_now_delinq:0</td>\n",
       "      <td>acc_now_delinq</td>\n",
       "    </tr>\n",
       "    <tr>\n",
       "      <th>117</th>\n",
       "      <td>annual_inc:120k_140k</td>\n",
       "      <td>annual_inc</td>\n",
       "    </tr>\n",
       "  </tbody>\n",
       "</table>\n",
       "</div>"
      ],
      "text/plain": [
       "                  feature    orig_feature\n",
       "115   annual_inc:90k_100k      annual_inc\n",
       "16    addr_state:GA_WA_OR      addr_state\n",
       "70              pub_rec:2         pub_rec\n",
       "78       acc_now_delinq:0  acc_now_delinq\n",
       "117  annual_inc:120k_140k      annual_inc"
      ]
     },
     "execution_count": 19,
     "metadata": {},
     "output_type": "execute_result"
    }
   ],
   "source": [
    "df_features['orig_feature'] = df_features['feature'].str.split(':').str[0]\n",
    "\n",
    "df_features.sample(5)"
   ]
  },
  {
   "cell_type": "code",
   "execution_count": 20,
   "metadata": {
    "ExecuteTime": {
     "end_time": "2020-04-02T01:25:07.993453Z",
     "start_time": "2020-04-02T01:25:07.935187Z"
    }
   },
   "outputs": [
    {
     "name": "stdout",
     "output_type": "stream",
     "text": [
      "(23, 1)\n"
     ]
    },
    {
     "data": {
      "text/html": [
       "<div>\n",
       "<style scoped>\n",
       "    .dataframe tbody tr th:only-of-type {\n",
       "        vertical-align: middle;\n",
       "    }\n",
       "\n",
       "    .dataframe tbody tr th {\n",
       "        vertical-align: top;\n",
       "    }\n",
       "\n",
       "    .dataframe thead th {\n",
       "        text-align: right;\n",
       "    }\n",
       "</style>\n",
       "<table border=\"1\" class=\"dataframe\">\n",
       "  <thead>\n",
       "    <tr style=\"text-align: right;\">\n",
       "      <th></th>\n",
       "      <th>reference</th>\n",
       "    </tr>\n",
       "  </thead>\n",
       "  <tbody>\n",
       "    <tr>\n",
       "      <th>0</th>\n",
       "      <td>grade:A</td>\n",
       "    </tr>\n",
       "    <tr>\n",
       "      <th>1</th>\n",
       "      <td>home_ownership:RENT_OTHER_NONE_ANY</td>\n",
       "    </tr>\n",
       "    <tr>\n",
       "      <th>21</th>\n",
       "      <td>dti:0_0.7</td>\n",
       "    </tr>\n",
       "    <tr>\n",
       "      <th>22</th>\n",
       "      <td>mths_since_last_record:missing</td>\n",
       "    </tr>\n",
       "  </tbody>\n",
       "</table>\n",
       "</div>"
      ],
      "text/plain": [
       "                             reference\n",
       "0                              grade:A\n",
       "1   home_ownership:RENT_OTHER_NONE_ANY\n",
       "21                           dti:0_0.7\n",
       "22      mths_since_last_record:missing"
      ]
     },
     "execution_count": 20,
     "metadata": {},
     "output_type": "execute_result"
    }
   ],
   "source": [
    "print(df_references.shape)\n",
    "df_references.head(2).append(df_references.tail(2))"
   ]
  },
  {
   "cell_type": "code",
   "execution_count": 21,
   "metadata": {
    "ExecuteTime": {
     "end_time": "2020-04-02T01:25:08.044204Z",
     "start_time": "2020-04-02T01:25:07.996393Z"
    }
   },
   "outputs": [
    {
     "name": "stdout",
     "output_type": "stream",
     "text": [
      "141\n"
     ]
    }
   ],
   "source": [
    "features_all = df_features['feature'].to_numpy()\n",
    "features_ref = df_references['reference'].to_numpy()\n",
    "\n",
    "features = [i for i in features_all if i not in features_ref]\n",
    "\n",
    "print(len(features))"
   ]
  },
  {
   "cell_type": "markdown",
   "metadata": {},
   "source": [
    "# Data for modelling"
   ]
  },
  {
   "cell_type": "code",
   "execution_count": 22,
   "metadata": {
    "ExecuteTime": {
     "end_time": "2020-04-02T01:25:08.108576Z",
     "start_time": "2020-04-02T01:25:08.047422Z"
    }
   },
   "outputs": [
    {
     "data": {
      "text/plain": [
       "([], [])"
      ]
     },
     "execution_count": 22,
     "metadata": {},
     "output_type": "execute_result"
    }
   ],
   "source": [
    "# make sure we have required features in Xtrain and Xtest\n",
    "\n",
    "Xtrain_features = Xtrain.columns.to_numpy()\n",
    "Xtest_features = Xtest.columns.to_numpy()\n",
    "\n",
    "missing_train = [i for i in features if i not in Xtrain_features]\n",
    "missing_test = [i for i in features if i not in Xtest_features]\n",
    "missing_train, missing_test"
   ]
  },
  {
   "cell_type": "code",
   "execution_count": 23,
   "metadata": {
    "ExecuteTime": {
     "end_time": "2020-04-02T01:25:08.489282Z",
     "start_time": "2020-04-02T01:25:08.111830Z"
    }
   },
   "outputs": [],
   "source": [
    "Xtr = Xtrain[features]\n",
    "Xtx = Xtest[features]\n",
    "\n",
    "ytr = ytrain['good_bad']\n",
    "ytx = ytest['good_bad']"
   ]
  },
  {
   "cell_type": "markdown",
   "metadata": {},
   "source": [
    "# Modelling "
   ]
  },
  {
   "cell_type": "markdown",
   "metadata": {},
   "source": [
    "## Logistic Regression"
   ]
  },
  {
   "cell_type": "code",
   "execution_count": 24,
   "metadata": {
    "ExecuteTime": {
     "end_time": "2020-04-02T01:25:08.534939Z",
     "start_time": "2020-04-02T01:25:08.491845Z"
    }
   },
   "outputs": [],
   "source": [
    "from sklearn.linear_model import LogisticRegression\n",
    "from sklearn import metrics"
   ]
  },
  {
   "cell_type": "code",
   "execution_count": 25,
   "metadata": {
    "ExecuteTime": {
     "end_time": "2020-04-02T01:25:08.603309Z",
     "start_time": "2020-04-02T01:25:08.537576Z"
    }
   },
   "outputs": [
    {
     "data": {
      "text/plain": [
       "LogisticRegression(C=1.0, class_weight=None, dual=False, fit_intercept=True,\n",
       "                   intercept_scaling=1, l1_ratio=None, max_iter=100,\n",
       "                   multi_class='warn', n_jobs=None, penalty='l2',\n",
       "                   random_state=None, solver='warn', tol=0.0001, verbose=0,\n",
       "                   warm_start=False)"
      ]
     },
     "execution_count": 25,
     "metadata": {},
     "output_type": "execute_result"
    }
   ],
   "source": [
    "model = LogisticRegression()\n",
    "model"
   ]
  },
  {
   "cell_type": "code",
   "execution_count": 26,
   "metadata": {
    "ExecuteTime": {
     "end_time": "2020-04-02T01:25:08.665152Z",
     "start_time": "2020-04-02T01:25:08.614096Z"
    }
   },
   "outputs": [],
   "source": [
    "# always use seed \n",
    "model = LogisticRegression(n_jobs=-1, random_state=SEED,solver='lbfgs')"
   ]
  },
  {
   "cell_type": "code",
   "execution_count": 27,
   "metadata": {
    "ExecuteTime": {
     "end_time": "2020-04-02T01:26:26.592553Z",
     "start_time": "2020-04-02T01:25:08.668454Z"
    }
   },
   "outputs": [
    {
     "name": "stdout",
     "output_type": "stream",
     "text": [
      "CPU times: user 363 ms, sys: 422 ms, total: 785 ms\n",
      "Wall time: 1min 17s\n"
     ]
    },
    {
     "data": {
      "text/plain": [
       "LogisticRegression(C=1.0, class_weight=None, dual=False, fit_intercept=True,\n",
       "                   intercept_scaling=1, l1_ratio=None, max_iter=100,\n",
       "                   multi_class='warn', n_jobs=-1, penalty='l2',\n",
       "                   random_state=100, solver='lbfgs', tol=0.0001, verbose=0,\n",
       "                   warm_start=False)"
      ]
     },
     "execution_count": 27,
     "metadata": {},
     "output_type": "execute_result"
    }
   ],
   "source": [
    "%%time\n",
    "model.fit(Xtr,ytr);"
   ]
  },
  {
   "cell_type": "code",
   "execution_count": 28,
   "metadata": {
    "ExecuteTime": {
     "end_time": "2020-04-02T01:26:26.732663Z",
     "start_time": "2020-04-02T01:26:26.596812Z"
    }
   },
   "outputs": [
    {
     "data": {
      "text/plain": [
       "array([2.96443872])"
      ]
     },
     "execution_count": 28,
     "metadata": {},
     "output_type": "execute_result"
    }
   ],
   "source": [
    "model.intercept_"
   ]
  },
  {
   "cell_type": "code",
   "execution_count": 29,
   "metadata": {
    "ExecuteTime": {
     "end_time": "2020-04-02T01:26:26.774534Z",
     "start_time": "2020-04-02T01:26:26.734602Z"
    }
   },
   "outputs": [
    {
     "data": {
      "text/plain": [
       "array([ 2.96443872, -0.34610353])"
      ]
     },
     "execution_count": 29,
     "metadata": {},
     "output_type": "execute_result"
    }
   ],
   "source": [
    "all_coeffs = np.append(model.intercept_, model.coef_.ravel())\n",
    "all_coeffs[:2]"
   ]
  },
  {
   "cell_type": "code",
   "execution_count": 30,
   "metadata": {
    "ExecuteTime": {
     "end_time": "2020-04-02T01:26:26.842778Z",
     "start_time": "2020-04-02T01:26:26.785069Z"
    }
   },
   "outputs": [
    {
     "data": {
      "text/html": [
       "<div>\n",
       "<style scoped>\n",
       "    .dataframe tbody tr th:only-of-type {\n",
       "        vertical-align: middle;\n",
       "    }\n",
       "\n",
       "    .dataframe tbody tr th {\n",
       "        vertical-align: top;\n",
       "    }\n",
       "\n",
       "    .dataframe thead th {\n",
       "        text-align: right;\n",
       "    }\n",
       "</style>\n",
       "<table border=\"1\" class=\"dataframe\">\n",
       "  <thead>\n",
       "    <tr style=\"text-align: right;\">\n",
       "      <th></th>\n",
       "      <th>feature</th>\n",
       "      <th>coefficient</th>\n",
       "    </tr>\n",
       "  </thead>\n",
       "  <tbody>\n",
       "    <tr>\n",
       "      <th>0</th>\n",
       "      <td>intercept</td>\n",
       "      <td>2.964439</td>\n",
       "    </tr>\n",
       "    <tr>\n",
       "      <th>1</th>\n",
       "      <td>grade:B</td>\n",
       "      <td>-0.346104</td>\n",
       "    </tr>\n",
       "    <tr>\n",
       "      <th>2</th>\n",
       "      <td>grade:C</td>\n",
       "      <td>-0.543254</td>\n",
       "    </tr>\n",
       "    <tr>\n",
       "      <th>3</th>\n",
       "      <td>grade:D</td>\n",
       "      <td>-0.704166</td>\n",
       "    </tr>\n",
       "    <tr>\n",
       "      <th>4</th>\n",
       "      <td>grade:E</td>\n",
       "      <td>-0.842286</td>\n",
       "    </tr>\n",
       "  </tbody>\n",
       "</table>\n",
       "</div>"
      ],
      "text/plain": [
       "     feature  coefficient\n",
       "0  intercept     2.964439\n",
       "1    grade:B    -0.346104\n",
       "2    grade:C    -0.543254\n",
       "3    grade:D    -0.704166\n",
       "4    grade:E    -0.842286"
      ]
     },
     "execution_count": 30,
     "metadata": {},
     "output_type": "execute_result"
    }
   ],
   "source": [
    "df_summary = pd.DataFrame({\n",
    "    'feature': ['intercept'] + features,\n",
    "    'coefficient': all_coeffs\n",
    "})\n",
    "\n",
    "\n",
    "df_summary.head()"
   ]
  },
  {
   "cell_type": "markdown",
   "metadata": {},
   "source": [
    "## Logistic Regression with p-values"
   ]
  },
  {
   "cell_type": "code",
   "execution_count": 31,
   "metadata": {
    "ExecuteTime": {
     "end_time": "2020-04-02T01:27:36.250531Z",
     "start_time": "2020-04-02T01:26:26.844656Z"
    }
   },
   "outputs": [
    {
     "name": "stdout",
     "output_type": "stream",
     "text": [
      "CPU times: user 1.51 s, sys: 1.14 s, total: 2.64 s\n",
      "Wall time: 1min 9s\n"
     ]
    }
   ],
   "source": [
    "%%time\n",
    "model = LogisticRegressionWithPvalues(n_jobs=-1,solver='lbfgs',random_state=SEED)\n",
    "\n",
    "model.fit(Xtr,ytr);"
   ]
  },
  {
   "cell_type": "code",
   "execution_count": 32,
   "metadata": {
    "ExecuteTime": {
     "end_time": "2020-04-02T01:27:36.361891Z",
     "start_time": "2020-04-02T01:27:36.268943Z"
    }
   },
   "outputs": [
    {
     "data": {
      "text/plain": [
       "array([ 2.96443872, -0.34610353])"
      ]
     },
     "execution_count": 32,
     "metadata": {},
     "output_type": "execute_result"
    }
   ],
   "source": [
    "all_coeffs = np.append(model.intercept_, model.coef_.ravel())\n",
    "all_coeffs[:2]"
   ]
  },
  {
   "cell_type": "code",
   "execution_count": 33,
   "metadata": {
    "ExecuteTime": {
     "end_time": "2020-04-02T01:27:36.636901Z",
     "start_time": "2020-04-02T01:27:36.578741Z"
    }
   },
   "outputs": [
    {
     "data": {
      "text/plain": [
       "array([           nan, 2.73862023e-15])"
      ]
     },
     "execution_count": 33,
     "metadata": {},
     "output_type": "execute_result"
    }
   ],
   "source": [
    "all_pvals = np.append(np.nan, model.p_values)\n",
    "all_pvals[:2]"
   ]
  },
  {
   "cell_type": "code",
   "execution_count": 34,
   "metadata": {
    "ExecuteTime": {
     "end_time": "2020-04-02T01:27:36.711001Z",
     "start_time": "2020-04-02T01:27:36.648330Z"
    }
   },
   "outputs": [
    {
     "data": {
      "text/html": [
       "<div>\n",
       "<style scoped>\n",
       "    .dataframe tbody tr th:only-of-type {\n",
       "        vertical-align: middle;\n",
       "    }\n",
       "\n",
       "    .dataframe tbody tr th {\n",
       "        vertical-align: top;\n",
       "    }\n",
       "\n",
       "    .dataframe thead th {\n",
       "        text-align: right;\n",
       "    }\n",
       "</style>\n",
       "<table border=\"1\" class=\"dataframe\">\n",
       "  <thead>\n",
       "    <tr style=\"text-align: right;\">\n",
       "      <th></th>\n",
       "      <th>feature</th>\n",
       "      <th>coef</th>\n",
       "      <th>p_value</th>\n",
       "    </tr>\n",
       "  </thead>\n",
       "  <tbody>\n",
       "    <tr>\n",
       "      <th>0</th>\n",
       "      <td>intercept</td>\n",
       "      <td>2.964439</td>\n",
       "      <td>NaN</td>\n",
       "    </tr>\n",
       "    <tr>\n",
       "      <th>1</th>\n",
       "      <td>grade:B</td>\n",
       "      <td>-0.346104</td>\n",
       "      <td>2.738620e-15</td>\n",
       "    </tr>\n",
       "    <tr>\n",
       "      <th>2</th>\n",
       "      <td>grade:C</td>\n",
       "      <td>-0.543254</td>\n",
       "      <td>6.790096e-29</td>\n",
       "    </tr>\n",
       "    <tr>\n",
       "      <th>3</th>\n",
       "      <td>grade:D</td>\n",
       "      <td>-0.704166</td>\n",
       "      <td>5.239529e-41</td>\n",
       "    </tr>\n",
       "    <tr>\n",
       "      <th>4</th>\n",
       "      <td>grade:E</td>\n",
       "      <td>-0.842286</td>\n",
       "      <td>3.406872e-47</td>\n",
       "    </tr>\n",
       "  </tbody>\n",
       "</table>\n",
       "</div>"
      ],
      "text/plain": [
       "     feature      coef       p_value\n",
       "0  intercept  2.964439           NaN\n",
       "1    grade:B -0.346104  2.738620e-15\n",
       "2    grade:C -0.543254  6.790096e-29\n",
       "3    grade:D -0.704166  5.239529e-41\n",
       "4    grade:E -0.842286  3.406872e-47"
      ]
     },
     "execution_count": 34,
     "metadata": {},
     "output_type": "execute_result"
    }
   ],
   "source": [
    "df_summary = pd.DataFrame({\n",
    "    'feature': ['intercept'] + features,\n",
    "    'coef': all_coeffs,\n",
    "    'p_value': all_pvals\n",
    "})\n",
    "\n",
    "\n",
    "df_summary.head()"
   ]
  },
  {
   "cell_type": "code",
   "execution_count": 35,
   "metadata": {
    "ExecuteTime": {
     "end_time": "2020-04-02T01:27:36.768331Z",
     "start_time": "2020-04-02T01:27:36.718357Z"
    }
   },
   "outputs": [
    {
     "data": {
      "text/html": [
       "<div>\n",
       "<style scoped>\n",
       "    .dataframe tbody tr th:only-of-type {\n",
       "        vertical-align: middle;\n",
       "    }\n",
       "\n",
       "    .dataframe tbody tr th {\n",
       "        vertical-align: top;\n",
       "    }\n",
       "\n",
       "    .dataframe thead th {\n",
       "        text-align: right;\n",
       "    }\n",
       "</style>\n",
       "<table border=\"1\" class=\"dataframe\">\n",
       "  <thead>\n",
       "    <tr style=\"text-align: right;\">\n",
       "      <th></th>\n",
       "      <th>feature</th>\n",
       "      <th>coef</th>\n",
       "      <th>p_value</th>\n",
       "      <th>orig_feature</th>\n",
       "    </tr>\n",
       "  </thead>\n",
       "  <tbody>\n",
       "    <tr>\n",
       "      <th>0</th>\n",
       "      <td>intercept</td>\n",
       "      <td>2.964439</td>\n",
       "      <td>NaN</td>\n",
       "      <td>intercept</td>\n",
       "    </tr>\n",
       "    <tr>\n",
       "      <th>1</th>\n",
       "      <td>grade:B</td>\n",
       "      <td>-0.346104</td>\n",
       "      <td>2.738620e-15</td>\n",
       "      <td>grade</td>\n",
       "    </tr>\n",
       "  </tbody>\n",
       "</table>\n",
       "</div>"
      ],
      "text/plain": [
       "     feature      coef       p_value orig_feature\n",
       "0  intercept  2.964439           NaN    intercept\n",
       "1    grade:B -0.346104  2.738620e-15        grade"
      ]
     },
     "execution_count": 35,
     "metadata": {},
     "output_type": "execute_result"
    }
   ],
   "source": [
    "df_summary['orig_feature'] = df_summary['feature'].str.split(':').str[0]\n",
    "\n",
    "df_summary.head(2)"
   ]
  },
  {
   "cell_type": "code",
   "execution_count": 36,
   "metadata": {
    "ExecuteTime": {
     "end_time": "2020-04-02T01:27:36.855217Z",
     "start_time": "2020-04-02T01:27:36.770435Z"
    }
   },
   "outputs": [
    {
     "data": {
      "text/html": [
       "<div>\n",
       "<style scoped>\n",
       "    .dataframe tbody tr th:only-of-type {\n",
       "        vertical-align: middle;\n",
       "    }\n",
       "\n",
       "    .dataframe tbody tr th {\n",
       "        vertical-align: top;\n",
       "    }\n",
       "\n",
       "    .dataframe thead th {\n",
       "        text-align: right;\n",
       "    }\n",
       "</style>\n",
       "<table border=\"1\" class=\"dataframe\">\n",
       "  <thead>\n",
       "    <tr style=\"text-align: right;\">\n",
       "      <th></th>\n",
       "      <th>feature</th>\n",
       "      <th>coef</th>\n",
       "      <th>p_value</th>\n",
       "      <th>orig_feature</th>\n",
       "      <th>n_cats</th>\n",
       "    </tr>\n",
       "  </thead>\n",
       "  <tbody>\n",
       "    <tr>\n",
       "      <th>0</th>\n",
       "      <td>intercept</td>\n",
       "      <td>2.964439</td>\n",
       "      <td>NaN</td>\n",
       "      <td>intercept</td>\n",
       "      <td>1</td>\n",
       "    </tr>\n",
       "    <tr>\n",
       "      <th>1</th>\n",
       "      <td>grade:B</td>\n",
       "      <td>-0.346104</td>\n",
       "      <td>2.738620e-15</td>\n",
       "      <td>grade</td>\n",
       "      <td>6</td>\n",
       "    </tr>\n",
       "    <tr>\n",
       "      <th>2</th>\n",
       "      <td>grade:C</td>\n",
       "      <td>-0.543254</td>\n",
       "      <td>6.790096e-29</td>\n",
       "      <td>grade</td>\n",
       "      <td>6</td>\n",
       "    </tr>\n",
       "  </tbody>\n",
       "</table>\n",
       "</div>"
      ],
      "text/plain": [
       "     feature      coef       p_value orig_feature  n_cats\n",
       "0  intercept  2.964439           NaN    intercept       1\n",
       "1    grade:B -0.346104  2.738620e-15        grade       6\n",
       "2    grade:C -0.543254  6.790096e-29        grade       6"
      ]
     },
     "execution_count": 36,
     "metadata": {},
     "output_type": "execute_result"
    }
   ],
   "source": [
    "df_summary['n_cats'] = df_summary.groupby('orig_feature')['feature'].transform('count')\n",
    "\n",
    "df_summary.head(3)"
   ]
  },
  {
   "cell_type": "markdown",
   "metadata": {},
   "source": [
    "## Feature selection using p_values"
   ]
  },
  {
   "cell_type": "code",
   "execution_count": 37,
   "metadata": {
    "ExecuteTime": {
     "end_time": "2020-04-02T01:27:36.902501Z",
     "start_time": "2020-04-02T01:27:36.858095Z"
    }
   },
   "outputs": [],
   "source": [
    "# if one of the categories have significant p-value, keep all of it."
   ]
  },
  {
   "cell_type": "code",
   "execution_count": 38,
   "metadata": {
    "ExecuteTime": {
     "end_time": "2020-04-02T01:27:36.961382Z",
     "start_time": "2020-04-02T01:27:36.905702Z"
    }
   },
   "outputs": [
    {
     "data": {
      "text/html": [
       "<div>\n",
       "<style scoped>\n",
       "    .dataframe tbody tr th:only-of-type {\n",
       "        vertical-align: middle;\n",
       "    }\n",
       "\n",
       "    .dataframe tbody tr th {\n",
       "        vertical-align: top;\n",
       "    }\n",
       "\n",
       "    .dataframe thead th {\n",
       "        text-align: right;\n",
       "    }\n",
       "</style>\n",
       "<table border=\"1\" class=\"dataframe\">\n",
       "  <thead>\n",
       "    <tr style=\"text-align: right;\">\n",
       "      <th></th>\n",
       "      <th>feature</th>\n",
       "      <th>coef</th>\n",
       "      <th>p_value</th>\n",
       "      <th>orig_feature</th>\n",
       "      <th>n_cats</th>\n",
       "    </tr>\n",
       "  </thead>\n",
       "  <tbody>\n",
       "    <tr>\n",
       "      <th>1</th>\n",
       "      <td>grade:B</td>\n",
       "      <td>-0.346104</td>\n",
       "      <td>2.738620e-15</td>\n",
       "      <td>grade</td>\n",
       "      <td>6</td>\n",
       "    </tr>\n",
       "    <tr>\n",
       "      <th>2</th>\n",
       "      <td>grade:C</td>\n",
       "      <td>-0.543254</td>\n",
       "      <td>6.790096e-29</td>\n",
       "      <td>grade</td>\n",
       "      <td>6</td>\n",
       "    </tr>\n",
       "  </tbody>\n",
       "</table>\n",
       "</div>"
      ],
      "text/plain": [
       "   feature      coef       p_value orig_feature  n_cats\n",
       "1  grade:B -0.346104  2.738620e-15        grade       6\n",
       "2  grade:C -0.543254  6.790096e-29        grade       6"
      ]
     },
     "execution_count": 38,
     "metadata": {},
     "output_type": "execute_result"
    }
   ],
   "source": [
    "df_summary_significant = df_summary.groupby('orig_feature').filter(\n",
    "lambda x: any(x['p_value']<0.05))\n",
    "\n",
    "df_summary_significant.head(2)"
   ]
  },
  {
   "cell_type": "code",
   "execution_count": 39,
   "metadata": {
    "ExecuteTime": {
     "end_time": "2020-04-02T01:27:37.020066Z",
     "start_time": "2020-04-02T01:27:36.963455Z"
    }
   },
   "outputs": [
    {
     "data": {
      "text/plain": [
       "12"
      ]
     },
     "execution_count": 39,
     "metadata": {},
     "output_type": "execute_result"
    }
   ],
   "source": [
    "df_summary.shape[0] - df_summary_significant.shape[0]"
   ]
  },
  {
   "cell_type": "code",
   "execution_count": 40,
   "metadata": {
    "ExecuteTime": {
     "end_time": "2020-04-02T01:27:37.073611Z",
     "start_time": "2020-04-02T01:27:37.024044Z"
    }
   },
   "outputs": [
    {
     "data": {
      "text/html": [
       "<div>\n",
       "<style scoped>\n",
       "    .dataframe tbody tr th:only-of-type {\n",
       "        vertical-align: middle;\n",
       "    }\n",
       "\n",
       "    .dataframe tbody tr th {\n",
       "        vertical-align: top;\n",
       "    }\n",
       "\n",
       "    .dataframe thead th {\n",
       "        text-align: right;\n",
       "    }\n",
       "</style>\n",
       "<table border=\"1\" class=\"dataframe\">\n",
       "  <thead>\n",
       "    <tr style=\"text-align: right;\">\n",
       "      <th></th>\n",
       "      <th>feature</th>\n",
       "      <th>coef</th>\n",
       "      <th>p_value</th>\n",
       "      <th>orig_feature</th>\n",
       "      <th>n_cats</th>\n",
       "    </tr>\n",
       "  </thead>\n",
       "  <tbody>\n",
       "    <tr>\n",
       "      <th>0</th>\n",
       "      <td>intercept</td>\n",
       "      <td>2.964439</td>\n",
       "      <td>NaN</td>\n",
       "      <td>intercept</td>\n",
       "      <td>1</td>\n",
       "    </tr>\n",
       "    <tr>\n",
       "      <th>46</th>\n",
       "      <td>delinq_2yrs:1_3</td>\n",
       "      <td>-0.026668</td>\n",
       "      <td>0.324464</td>\n",
       "      <td>delinq_2yrs</td>\n",
       "      <td>2</td>\n",
       "    </tr>\n",
       "    <tr>\n",
       "      <th>47</th>\n",
       "      <td>delinq_2yrs:&gt;=3</td>\n",
       "      <td>-0.093380</td>\n",
       "      <td>0.097853</td>\n",
       "      <td>delinq_2yrs</td>\n",
       "      <td>2</td>\n",
       "    </tr>\n",
       "    <tr>\n",
       "      <th>55</th>\n",
       "      <td>pub_rec:1</td>\n",
       "      <td>0.059793</td>\n",
       "      <td>0.912957</td>\n",
       "      <td>pub_rec</td>\n",
       "      <td>4</td>\n",
       "    </tr>\n",
       "    <tr>\n",
       "      <th>56</th>\n",
       "      <td>pub_rec:2</td>\n",
       "      <td>0.004246</td>\n",
       "      <td>0.993827</td>\n",
       "      <td>pub_rec</td>\n",
       "      <td>4</td>\n",
       "    </tr>\n",
       "    <tr>\n",
       "      <th>57</th>\n",
       "      <td>pub_rec:3</td>\n",
       "      <td>0.110008</td>\n",
       "      <td>0.843381</td>\n",
       "      <td>pub_rec</td>\n",
       "      <td>4</td>\n",
       "    </tr>\n",
       "    <tr>\n",
       "      <th>58</th>\n",
       "      <td>pub_rec:&gt;3</td>\n",
       "      <td>0.045144</td>\n",
       "      <td>0.935654</td>\n",
       "      <td>pub_rec</td>\n",
       "      <td>4</td>\n",
       "    </tr>\n",
       "    <tr>\n",
       "      <th>59</th>\n",
       "      <td>total_acc:6.24_21.84</td>\n",
       "      <td>0.011107</td>\n",
       "      <td>0.791140</td>\n",
       "      <td>total_acc</td>\n",
       "      <td>4</td>\n",
       "    </tr>\n",
       "    <tr>\n",
       "      <th>60</th>\n",
       "      <td>total_acc:21.84_37.44</td>\n",
       "      <td>0.010841</td>\n",
       "      <td>0.806907</td>\n",
       "      <td>total_acc</td>\n",
       "      <td>4</td>\n",
       "    </tr>\n",
       "    <tr>\n",
       "      <th>61</th>\n",
       "      <td>total_acc:37.44_40.56</td>\n",
       "      <td>-0.006172</td>\n",
       "      <td>0.907267</td>\n",
       "      <td>total_acc</td>\n",
       "      <td>4</td>\n",
       "    </tr>\n",
       "    <tr>\n",
       "      <th>62</th>\n",
       "      <td>total_acc:&gt;=40.56</td>\n",
       "      <td>-0.025794</td>\n",
       "      <td>0.597529</td>\n",
       "      <td>total_acc</td>\n",
       "      <td>4</td>\n",
       "    </tr>\n",
       "    <tr>\n",
       "      <th>63</th>\n",
       "      <td>acc_now_delinq:&gt;=1</td>\n",
       "      <td>-0.030218</td>\n",
       "      <td>0.982212</td>\n",
       "      <td>acc_now_delinq</td>\n",
       "      <td>1</td>\n",
       "    </tr>\n",
       "  </tbody>\n",
       "</table>\n",
       "</div>"
      ],
      "text/plain": [
       "                  feature      coef   p_value    orig_feature  n_cats\n",
       "0               intercept  2.964439       NaN       intercept       1\n",
       "46        delinq_2yrs:1_3 -0.026668  0.324464     delinq_2yrs       2\n",
       "47        delinq_2yrs:>=3 -0.093380  0.097853     delinq_2yrs       2\n",
       "55              pub_rec:1  0.059793  0.912957         pub_rec       4\n",
       "56              pub_rec:2  0.004246  0.993827         pub_rec       4\n",
       "57              pub_rec:3  0.110008  0.843381         pub_rec       4\n",
       "58             pub_rec:>3  0.045144  0.935654         pub_rec       4\n",
       "59   total_acc:6.24_21.84  0.011107  0.791140       total_acc       4\n",
       "60  total_acc:21.84_37.44  0.010841  0.806907       total_acc       4\n",
       "61  total_acc:37.44_40.56 -0.006172  0.907267       total_acc       4\n",
       "62      total_acc:>=40.56 -0.025794  0.597529       total_acc       4\n",
       "63     acc_now_delinq:>=1 -0.030218  0.982212  acc_now_delinq       1"
      ]
     },
     "execution_count": 40,
     "metadata": {},
     "output_type": "execute_result"
    }
   ],
   "source": [
    "# all of the sub categories are insignificant\n",
    "df_insig = df_summary[~df_summary.index.isin(df_summary_significant.index)]\n",
    "\n",
    "df_insig"
   ]
  },
  {
   "cell_type": "code",
   "execution_count": 41,
   "metadata": {
    "ExecuteTime": {
     "end_time": "2020-04-02T01:27:37.123422Z",
     "start_time": "2020-04-02T01:27:37.076778Z"
    }
   },
   "outputs": [
    {
     "data": {
      "text/plain": [
       "['delinq_2yrs', 'pub_rec', 'total_acc', 'acc_now_delinq']"
      ]
     },
     "execution_count": 41,
     "metadata": {},
     "output_type": "execute_result"
    }
   ],
   "source": [
    "features_drop = df_insig.drop_duplicates(subset='orig_feature')['orig_feature'].to_numpy()[1:]\n",
    "\n",
    "drop1 = features_drop.tolist()\n",
    "drop1"
   ]
  },
  {
   "cell_type": "code",
   "execution_count": 42,
   "metadata": {
    "ExecuteTime": {
     "end_time": "2020-04-02T01:27:37.165419Z",
     "start_time": "2020-04-02T01:27:37.125939Z"
    }
   },
   "outputs": [],
   "source": [
    "pd.options.display.max_rows = 200"
   ]
  },
  {
   "cell_type": "code",
   "execution_count": 43,
   "metadata": {
    "ExecuteTime": {
     "end_time": "2020-04-02T01:27:37.245582Z",
     "start_time": "2020-04-02T01:27:37.168336Z"
    }
   },
   "outputs": [
    {
     "data": {
      "text/html": [
       "<div>\n",
       "<style scoped>\n",
       "    .dataframe tbody tr th:only-of-type {\n",
       "        vertical-align: middle;\n",
       "    }\n",
       "\n",
       "    .dataframe tbody tr th {\n",
       "        vertical-align: top;\n",
       "    }\n",
       "\n",
       "    .dataframe thead th {\n",
       "        text-align: right;\n",
       "    }\n",
       "</style>\n",
       "<table border=\"1\" class=\"dataframe\">\n",
       "  <thead>\n",
       "    <tr style=\"text-align: right;\">\n",
       "      <th></th>\n",
       "      <th>feature</th>\n",
       "      <th>p_value</th>\n",
       "      <th>orig_feature</th>\n",
       "      <th>n_cats</th>\n",
       "      <th>insig</th>\n",
       "      <th>insig_ratio</th>\n",
       "    </tr>\n",
       "  </thead>\n",
       "  <tbody>\n",
       "    <tr>\n",
       "      <th>9</th>\n",
       "      <td>addr_state:NM_VA</td>\n",
       "      <td>0.768309</td>\n",
       "      <td>addr_state</td>\n",
       "      <td>10</td>\n",
       "      <td>4</td>\n",
       "      <td>0.400000</td>\n",
       "    </tr>\n",
       "    <tr>\n",
       "      <th>20</th>\n",
       "      <td>verification_status:Verified</td>\n",
       "      <td>0.657342</td>\n",
       "      <td>verification_status</td>\n",
       "      <td>2</td>\n",
       "      <td>1</td>\n",
       "      <td>0.500000</td>\n",
       "    </tr>\n",
       "    <tr>\n",
       "      <th>44</th>\n",
       "      <td>mths_since_earliest_cr_line:208_350</td>\n",
       "      <td>0.073237</td>\n",
       "      <td>mths_since_earliest_cr_line</td>\n",
       "      <td>2</td>\n",
       "      <td>1</td>\n",
       "      <td>0.500000</td>\n",
       "    </tr>\n",
       "    <tr>\n",
       "      <th>51</th>\n",
       "      <td>open_acc:4_5</td>\n",
       "      <td>0.750367</td>\n",
       "      <td>open_acc</td>\n",
       "      <td>4</td>\n",
       "      <td>1</td>\n",
       "      <td>0.250000</td>\n",
       "    </tr>\n",
       "    <tr>\n",
       "      <th>90</th>\n",
       "      <td>annual_inc:30k_40k</td>\n",
       "      <td>0.396661</td>\n",
       "      <td>annual_inc</td>\n",
       "      <td>11</td>\n",
       "      <td>1</td>\n",
       "      <td>0.090909</td>\n",
       "    </tr>\n",
       "    <tr>\n",
       "      <th>100</th>\n",
       "      <td>mths_since_last_delinq:0_3</td>\n",
       "      <td>0.308044</td>\n",
       "      <td>mths_since_last_delinq</td>\n",
       "      <td>4</td>\n",
       "      <td>1</td>\n",
       "      <td>0.250000</td>\n",
       "    </tr>\n",
       "    <tr>\n",
       "      <th>104</th>\n",
       "      <td>dti:0.7_1.4</td>\n",
       "      <td>0.991024</td>\n",
       "      <td>dti</td>\n",
       "      <td>32</td>\n",
       "      <td>23</td>\n",
       "      <td>0.718750</td>\n",
       "    </tr>\n",
       "    <tr>\n",
       "      <th>137</th>\n",
       "      <td>mths_since_last_record:3_22</td>\n",
       "      <td>0.912116</td>\n",
       "      <td>mths_since_last_record</td>\n",
       "      <td>6</td>\n",
       "      <td>5</td>\n",
       "      <td>0.833333</td>\n",
       "    </tr>\n",
       "  </tbody>\n",
       "</table>\n",
       "</div>"
      ],
      "text/plain": [
       "                                 feature   p_value  \\\n",
       "9                       addr_state:NM_VA  0.768309   \n",
       "20          verification_status:Verified  0.657342   \n",
       "44   mths_since_earliest_cr_line:208_350  0.073237   \n",
       "51                          open_acc:4_5  0.750367   \n",
       "90                    annual_inc:30k_40k  0.396661   \n",
       "100           mths_since_last_delinq:0_3  0.308044   \n",
       "104                          dti:0.7_1.4  0.991024   \n",
       "137          mths_since_last_record:3_22  0.912116   \n",
       "\n",
       "                    orig_feature  n_cats  insig  insig_ratio  \n",
       "9                     addr_state      10      4     0.400000  \n",
       "20           verification_status       2      1     0.500000  \n",
       "44   mths_since_earliest_cr_line       2      1     0.500000  \n",
       "51                      open_acc       4      1     0.250000  \n",
       "90                    annual_inc      11      1     0.090909  \n",
       "100       mths_since_last_delinq       4      1     0.250000  \n",
       "104                          dti      32     23     0.718750  \n",
       "137       mths_since_last_record       6      5     0.833333  "
      ]
     },
     "execution_count": 43,
     "metadata": {},
     "output_type": "execute_result"
    }
   ],
   "source": [
    "# check if only one of many subfeatures is significant.\n",
    "df_tmp = (df_summary_significant\n",
    ".drop('coef',axis=1)\n",
    ".query('p_value > 0.05')\n",
    ".assign(\n",
    "    insig = \n",
    "    lambda dfx: dfx.groupby('orig_feature')\n",
    "        ['feature'].transform('count'))\n",
    " \n",
    ".drop_duplicates(subset=['orig_feature'])\n",
    ".assign(insig_ratio = lambda x: x['insig'] / x['n_cats'])\n",
    ")\n",
    "\n",
    "df_tmp"
   ]
  },
  {
   "cell_type": "code",
   "execution_count": 44,
   "metadata": {
    "ExecuteTime": {
     "end_time": "2020-04-02T01:27:37.304378Z",
     "start_time": "2020-04-02T01:27:37.247479Z"
    }
   },
   "outputs": [],
   "source": [
    "\"\"\"\n",
    "Look all suspected features one by one.\n",
    "\n",
    "for dti, out of 32,  23 are insignificant, drop it.\n",
    "\n",
    "mths since last record has 6 cats, but 5 are insignificant, drop it.\n",
    "\n",
    "\n",
    "drop these:\n",
    "\n",
    "['delinq_2yrs', 'pub_rec', 'total_acc', 'acc_now_delinq',\n",
    "'dti', 'mths_since_last_record']\n",
    "\n",
    "\n",
    "\"\"\";"
   ]
  },
  {
   "cell_type": "code",
   "execution_count": 45,
   "metadata": {
    "ExecuteTime": {
     "end_time": "2020-04-02T01:27:37.362836Z",
     "start_time": "2020-04-02T01:27:37.312312Z"
    }
   },
   "outputs": [
    {
     "data": {
      "text/plain": [
       "['dti', 'mths_since_last_record']"
      ]
     },
     "execution_count": 45,
     "metadata": {},
     "output_type": "execute_result"
    }
   ],
   "source": [
    "drop2 = df_tmp[df_tmp['insig_ratio']>0.6]['orig_feature'].to_numpy().tolist()\n",
    "\n",
    "drop2"
   ]
  },
  {
   "cell_type": "code",
   "execution_count": 46,
   "metadata": {
    "ExecuteTime": {
     "end_time": "2020-04-02T01:27:37.408484Z",
     "start_time": "2020-04-02T01:27:37.365873Z"
    }
   },
   "outputs": [
    {
     "data": {
      "text/plain": [
       "['delinq_2yrs',\n",
       " 'pub_rec',\n",
       " 'total_acc',\n",
       " 'acc_now_delinq',\n",
       " 'dti',\n",
       " 'mths_since_last_record']"
      ]
     },
     "execution_count": 46,
     "metadata": {},
     "output_type": "execute_result"
    }
   ],
   "source": [
    "orig_feature_drop = drop1 + drop2\n",
    "orig_feature_drop"
   ]
  },
  {
   "cell_type": "code",
   "execution_count": 47,
   "metadata": {
    "ExecuteTime": {
     "end_time": "2020-04-02T01:27:37.456780Z",
     "start_time": "2020-04-02T01:27:37.410435Z"
    }
   },
   "outputs": [
    {
     "data": {
      "text/html": [
       "<div>\n",
       "<style scoped>\n",
       "    .dataframe tbody tr th:only-of-type {\n",
       "        vertical-align: middle;\n",
       "    }\n",
       "\n",
       "    .dataframe tbody tr th {\n",
       "        vertical-align: top;\n",
       "    }\n",
       "\n",
       "    .dataframe thead th {\n",
       "        text-align: right;\n",
       "    }\n",
       "</style>\n",
       "<table border=\"1\" class=\"dataframe\">\n",
       "  <thead>\n",
       "    <tr style=\"text-align: right;\">\n",
       "      <th></th>\n",
       "      <th>feature</th>\n",
       "      <th>orig_feature</th>\n",
       "    </tr>\n",
       "  </thead>\n",
       "  <tbody>\n",
       "    <tr>\n",
       "      <th>0</th>\n",
       "      <td>grade:A</td>\n",
       "      <td>grade</td>\n",
       "    </tr>\n",
       "    <tr>\n",
       "      <th>1</th>\n",
       "      <td>grade:B</td>\n",
       "      <td>grade</td>\n",
       "    </tr>\n",
       "  </tbody>\n",
       "</table>\n",
       "</div>"
      ],
      "text/plain": [
       "   feature orig_feature\n",
       "0  grade:A        grade\n",
       "1  grade:B        grade"
      ]
     },
     "execution_count": 47,
     "metadata": {},
     "output_type": "execute_result"
    }
   ],
   "source": [
    "df_features.head(2)"
   ]
  },
  {
   "cell_type": "code",
   "execution_count": 48,
   "metadata": {
    "ExecuteTime": {
     "end_time": "2020-04-02T01:27:37.501453Z",
     "start_time": "2020-04-02T01:27:37.458447Z"
    }
   },
   "outputs": [
    {
     "data": {
      "text/plain": [
       "array(['delinq_2yrs:0', 'delinq_2yrs:1_3', 'delinq_2yrs:>=3', 'pub_rec:0',\n",
       "       'pub_rec:1', 'pub_rec:2', 'pub_rec:3', 'pub_rec:>3',\n",
       "       'total_acc:0_6.24', 'total_acc:6.24_21.84',\n",
       "       'total_acc:21.84_37.44', 'total_acc:37.44_40.56',\n",
       "       'total_acc:>=40.56', 'acc_now_delinq:0', 'acc_now_delinq:>=1',\n",
       "       'dti:0_0.7', 'dti:0.7_1.4', 'dti:1.4_2.1', 'dti:2.1_3.5',\n",
       "       'dti:3.5_4.9', 'dti:4.9_5.6', 'dti:5.6_6.3', 'dti:6.3_7',\n",
       "       'dti:7_9', 'dti:9_9.8', 'dti:9.8_10.5', 'dti:10.5_11.2',\n",
       "       'dti:11.2_11.9', 'dti:11.9_12.6', 'dti:12.6_13.3', 'dti:13.3_14',\n",
       "       'dti:14_14.7', 'dti:14.7_17.5', 'dti:17.5_18.2', 'dti:18.2_21',\n",
       "       'dti:21_21.7', 'dti:21.7_22.4', 'dti:22.4_23.1', 'dti:23.1_25.2',\n",
       "       'dti:25.2_25.9', 'dti:25.9_29.4', 'dti:29.4_30.1', 'dti:30.1_30.8',\n",
       "       'dti:30.8_31.5', 'dti:31.5_32.2', 'dti:32.2_32.9', 'dti:32.9_33.6',\n",
       "       'dti:>=33.6', 'mths_since_last_record:missing',\n",
       "       'mths_since_last_record:0_2', 'mths_since_last_record:3_22',\n",
       "       'mths_since_last_record:23_46', 'mths_since_last_record:47_68',\n",
       "       'mths_since_last_record:69_85', 'mths_since_last_record:>=86'],\n",
       "      dtype=object)"
      ]
     },
     "execution_count": 48,
     "metadata": {},
     "output_type": "execute_result"
    }
   ],
   "source": [
    "features_drop = df_features[df_features['orig_feature'].isin(orig_feature_drop)]['feature'].to_numpy()\n",
    "\n",
    "\n",
    "features_drop"
   ]
  },
  {
   "cell_type": "code",
   "execution_count": 49,
   "metadata": {
    "ExecuteTime": {
     "end_time": "2020-04-02T01:27:37.545913Z",
     "start_time": "2020-04-02T01:27:37.504197Z"
    }
   },
   "outputs": [
    {
     "data": {
      "text/plain": [
       "(92, 141, 164)"
      ]
     },
     "execution_count": 49,
     "metadata": {},
     "output_type": "execute_result"
    }
   ],
   "source": [
    "features_pval = [i for i in features_all\n",
    "                if i not in features_ref\n",
    "                if i not in features_drop\n",
    "                ]\n",
    "\n",
    "\n",
    "len(features_pval), len(features), len(features_all)"
   ]
  },
  {
   "cell_type": "markdown",
   "metadata": {},
   "source": [
    "## Logistic Regression with p-values selected features"
   ]
  },
  {
   "cell_type": "code",
   "execution_count": 50,
   "metadata": {
    "ExecuteTime": {
     "end_time": "2020-04-02T01:27:37.810757Z",
     "start_time": "2020-04-02T01:27:37.547432Z"
    }
   },
   "outputs": [],
   "source": [
    "Xtr = Xtrain[features_pval]\n",
    "Xtx = Xtest[features_pval]\n",
    "\n",
    "ytr = ytrain['good_bad']\n",
    "ytx = ytest['good_bad']"
   ]
  },
  {
   "cell_type": "code",
   "execution_count": 51,
   "metadata": {
    "ExecuteTime": {
     "end_time": "2020-04-02T01:28:22.638481Z",
     "start_time": "2020-04-02T01:27:37.813579Z"
    }
   },
   "outputs": [
    {
     "name": "stdout",
     "output_type": "stream",
     "text": [
      "CPU times: user 1.04 s, sys: 669 ms, total: 1.71 s\n",
      "Wall time: 44.8 s\n"
     ]
    }
   ],
   "source": [
    "%%time\n",
    "model = LogisticRegressionWithPvalues(n_jobs=-1,solver='lbfgs',\n",
    "                                      random_state=SEED)\n",
    "\n",
    "model.fit(Xtr,ytr);"
   ]
  },
  {
   "cell_type": "code",
   "execution_count": 52,
   "metadata": {
    "ExecuteTime": {
     "end_time": "2020-04-02T01:28:22.763313Z",
     "start_time": "2020-04-02T01:28:22.643410Z"
    }
   },
   "outputs": [
    {
     "data": {
      "text/html": [
       "<div>\n",
       "<style scoped>\n",
       "    .dataframe tbody tr th:only-of-type {\n",
       "        vertical-align: middle;\n",
       "    }\n",
       "\n",
       "    .dataframe tbody tr th {\n",
       "        vertical-align: top;\n",
       "    }\n",
       "\n",
       "    .dataframe thead th {\n",
       "        text-align: right;\n",
       "    }\n",
       "</style>\n",
       "<table border=\"1\" class=\"dataframe\">\n",
       "  <thead>\n",
       "    <tr style=\"text-align: right;\">\n",
       "      <th></th>\n",
       "      <th>feature</th>\n",
       "      <th>coef</th>\n",
       "      <th>p_value</th>\n",
       "      <th>orig_feature</th>\n",
       "      <th>n_cats</th>\n",
       "    </tr>\n",
       "  </thead>\n",
       "  <tbody>\n",
       "    <tr>\n",
       "      <th>0</th>\n",
       "      <td>intercept</td>\n",
       "      <td>3.079220</td>\n",
       "      <td>NaN</td>\n",
       "      <td>intercept</td>\n",
       "      <td>1</td>\n",
       "    </tr>\n",
       "    <tr>\n",
       "      <th>1</th>\n",
       "      <td>grade:B</td>\n",
       "      <td>-0.348211</td>\n",
       "      <td>1.250293e-15</td>\n",
       "      <td>grade</td>\n",
       "      <td>6</td>\n",
       "    </tr>\n",
       "    <tr>\n",
       "      <th>2</th>\n",
       "      <td>grade:C</td>\n",
       "      <td>-0.550283</td>\n",
       "      <td>4.663642e-30</td>\n",
       "      <td>grade</td>\n",
       "      <td>6</td>\n",
       "    </tr>\n",
       "    <tr>\n",
       "      <th>3</th>\n",
       "      <td>grade:D</td>\n",
       "      <td>-0.715277</td>\n",
       "      <td>4.720558e-43</td>\n",
       "      <td>grade</td>\n",
       "      <td>6</td>\n",
       "    </tr>\n",
       "    <tr>\n",
       "      <th>4</th>\n",
       "      <td>grade:E</td>\n",
       "      <td>-0.857529</td>\n",
       "      <td>7.101066e-50</td>\n",
       "      <td>grade</td>\n",
       "      <td>6</td>\n",
       "    </tr>\n",
       "  </tbody>\n",
       "</table>\n",
       "</div>"
      ],
      "text/plain": [
       "     feature      coef       p_value orig_feature  n_cats\n",
       "0  intercept  3.079220           NaN    intercept       1\n",
       "1    grade:B -0.348211  1.250293e-15        grade       6\n",
       "2    grade:C -0.550283  4.663642e-30        grade       6\n",
       "3    grade:D -0.715277  4.720558e-43        grade       6\n",
       "4    grade:E -0.857529  7.101066e-50        grade       6"
      ]
     },
     "execution_count": 52,
     "metadata": {},
     "output_type": "execute_result"
    }
   ],
   "source": [
    "all_coeffs = np.append(model.intercept_, model.coef_.ravel())\n",
    "all_pvals = np.append(np.nan, model.p_values)\n",
    "df_summary = pd.DataFrame({\n",
    "    'feature': ['intercept'] + features_pval,\n",
    "    'coef': all_coeffs,\n",
    "    'p_value': all_pvals\n",
    "})\n",
    "\n",
    "df_summary['orig_feature'] = df_summary['feature'].str.split(':').str[0]\n",
    "\n",
    "df_summary['n_cats'] = df_summary.groupby('orig_feature')['feature'].transform('count')\n",
    "\n",
    "df_summary.head()\n"
   ]
  },
  {
   "cell_type": "code",
   "execution_count": 53,
   "metadata": {
    "ExecuteTime": {
     "end_time": "2020-04-02T01:28:22.870670Z",
     "start_time": "2020-04-02T01:28:22.767986Z"
    }
   },
   "outputs": [
    {
     "data": {
      "text/html": [
       "<div>\n",
       "<style scoped>\n",
       "    .dataframe tbody tr th:only-of-type {\n",
       "        vertical-align: middle;\n",
       "    }\n",
       "\n",
       "    .dataframe tbody tr th {\n",
       "        vertical-align: top;\n",
       "    }\n",
       "\n",
       "    .dataframe thead th {\n",
       "        text-align: right;\n",
       "    }\n",
       "</style>\n",
       "<table border=\"1\" class=\"dataframe\">\n",
       "  <thead>\n",
       "    <tr style=\"text-align: right;\">\n",
       "      <th></th>\n",
       "      <th>feature</th>\n",
       "      <th>coef</th>\n",
       "      <th>p_value</th>\n",
       "      <th>orig_feature</th>\n",
       "      <th>n_cats</th>\n",
       "    </tr>\n",
       "  </thead>\n",
       "  <tbody>\n",
       "    <tr>\n",
       "      <th>9</th>\n",
       "      <td>addr_state:NM_VA</td>\n",
       "      <td>-0.020343</td>\n",
       "      <td>0.485532</td>\n",
       "      <td>addr_state</td>\n",
       "      <td>10</td>\n",
       "    </tr>\n",
       "    <tr>\n",
       "      <th>10</th>\n",
       "      <td>addr_state:OK_TN_MO_LA_MD_NC</td>\n",
       "      <td>-0.020646</td>\n",
       "      <td>0.269758</td>\n",
       "      <td>addr_state</td>\n",
       "      <td>10</td>\n",
       "    </tr>\n",
       "    <tr>\n",
       "      <th>11</th>\n",
       "      <td>addr_state:UT_KY_AZ_NJ</td>\n",
       "      <td>0.018178</td>\n",
       "      <td>0.381218</td>\n",
       "      <td>addr_state</td>\n",
       "      <td>10</td>\n",
       "    </tr>\n",
       "    <tr>\n",
       "      <th>13</th>\n",
       "      <td>addr_state:RI_MA_DE_SD_IN</td>\n",
       "      <td>0.035795</td>\n",
       "      <td>0.177567</td>\n",
       "      <td>addr_state</td>\n",
       "      <td>10</td>\n",
       "    </tr>\n",
       "    <tr>\n",
       "      <th>20</th>\n",
       "      <td>verification_status:Verified</td>\n",
       "      <td>0.000102</td>\n",
       "      <td>0.994589</td>\n",
       "      <td>verification_status</td>\n",
       "      <td>2</td>\n",
       "    </tr>\n",
       "    <tr>\n",
       "      <th>44</th>\n",
       "      <td>mths_since_earliest_cr_line:208_350</td>\n",
       "      <td>0.019069</td>\n",
       "      <td>0.165508</td>\n",
       "      <td>mths_since_earliest_cr_line</td>\n",
       "      <td>2</td>\n",
       "    </tr>\n",
       "    <tr>\n",
       "      <th>49</th>\n",
       "      <td>open_acc:4_5</td>\n",
       "      <td>0.009107</td>\n",
       "      <td>0.816446</td>\n",
       "      <td>open_acc</td>\n",
       "      <td>4</td>\n",
       "    </tr>\n",
       "    <tr>\n",
       "      <th>79</th>\n",
       "      <td>annual_inc:30k_40k</td>\n",
       "      <td>-0.062980</td>\n",
       "      <td>0.093596</td>\n",
       "      <td>annual_inc</td>\n",
       "      <td>11</td>\n",
       "    </tr>\n",
       "    <tr>\n",
       "      <th>80</th>\n",
       "      <td>annual_inc:40k_50k</td>\n",
       "      <td>0.069575</td>\n",
       "      <td>0.062860</td>\n",
       "      <td>annual_inc</td>\n",
       "      <td>11</td>\n",
       "    </tr>\n",
       "  </tbody>\n",
       "</table>\n",
       "</div>"
      ],
      "text/plain": [
       "                                feature      coef   p_value  \\\n",
       "9                      addr_state:NM_VA -0.020343  0.485532   \n",
       "10         addr_state:OK_TN_MO_LA_MD_NC -0.020646  0.269758   \n",
       "11               addr_state:UT_KY_AZ_NJ  0.018178  0.381218   \n",
       "13            addr_state:RI_MA_DE_SD_IN  0.035795  0.177567   \n",
       "20         verification_status:Verified  0.000102  0.994589   \n",
       "44  mths_since_earliest_cr_line:208_350  0.019069  0.165508   \n",
       "49                         open_acc:4_5  0.009107  0.816446   \n",
       "79                   annual_inc:30k_40k -0.062980  0.093596   \n",
       "80                   annual_inc:40k_50k  0.069575  0.062860   \n",
       "\n",
       "                   orig_feature  n_cats  \n",
       "9                    addr_state      10  \n",
       "10                   addr_state      10  \n",
       "11                   addr_state      10  \n",
       "13                   addr_state      10  \n",
       "20          verification_status       2  \n",
       "44  mths_since_earliest_cr_line       2  \n",
       "49                     open_acc       4  \n",
       "79                   annual_inc      11  \n",
       "80                   annual_inc      11  "
      ]
     },
     "execution_count": 53,
     "metadata": {},
     "output_type": "execute_result"
    }
   ],
   "source": [
    "df_summary.query('p_value > 0.05')"
   ]
  },
  {
   "cell_type": "code",
   "execution_count": 54,
   "metadata": {
    "ExecuteTime": {
     "end_time": "2020-04-02T01:28:22.937829Z",
     "start_time": "2020-04-02T01:28:22.877968Z"
    }
   },
   "outputs": [],
   "source": [
    "# all features are good now."
   ]
  },
  {
   "cell_type": "markdown",
   "metadata": {},
   "source": [
    "## Model evaluation on test data"
   ]
  },
  {
   "cell_type": "code",
   "execution_count": 55,
   "metadata": {
    "ExecuteTime": {
     "end_time": "2020-04-02T01:28:22.996403Z",
     "start_time": "2020-04-02T01:28:22.942920Z"
    }
   },
   "outputs": [],
   "source": [
    "from sklearn.metrics import accuracy_score\n",
    "from sklearn.metrics import precision_score\n",
    "from sklearn.metrics import recall_score\n",
    "from sklearn.metrics import f1_score"
   ]
  },
  {
   "cell_type": "code",
   "execution_count": 56,
   "metadata": {
    "ExecuteTime": {
     "end_time": "2020-04-02T01:28:23.106191Z",
     "start_time": "2020-04-02T01:28:22.999890Z"
    }
   },
   "outputs": [],
   "source": [
    "ypreds_tx = model.model.predict(Xtx)"
   ]
  },
  {
   "cell_type": "code",
   "execution_count": 57,
   "metadata": {
    "ExecuteTime": {
     "end_time": "2020-04-02T01:28:23.872533Z",
     "start_time": "2020-04-02T01:28:23.109120Z"
    }
   },
   "outputs": [],
   "source": [
    "df_eval = bp.get_binary_classification_scalar_metrics(\n",
    "    \"Logistic Regression\",\n",
    "    model.model,\n",
    "    Xtx,ytx,\n",
    "    ypreds_tx,\n",
    "    desc=\"Features selected from p-values\", df_eval=None,show=False)"
   ]
  },
  {
   "cell_type": "code",
   "execution_count": 58,
   "metadata": {
    "ExecuteTime": {
     "end_time": "2020-04-02T01:28:23.931907Z",
     "start_time": "2020-04-02T01:28:23.874166Z"
    }
   },
   "outputs": [
    {
     "data": {
      "text/html": [
       "<div>\n",
       "<style scoped>\n",
       "    .dataframe tbody tr th:only-of-type {\n",
       "        vertical-align: middle;\n",
       "    }\n",
       "\n",
       "    .dataframe tbody tr th {\n",
       "        vertical-align: top;\n",
       "    }\n",
       "\n",
       "    .dataframe thead th {\n",
       "        text-align: right;\n",
       "    }\n",
       "</style>\n",
       "<table border=\"1\" class=\"dataframe\">\n",
       "  <thead>\n",
       "    <tr style=\"text-align: right;\">\n",
       "      <th></th>\n",
       "      <th>Model</th>\n",
       "      <th>Description</th>\n",
       "      <th>Accuracy</th>\n",
       "      <th>Precision</th>\n",
       "      <th>Recall</th>\n",
       "      <th>F1</th>\n",
       "      <th>Mathews_Correlation_Coefficient</th>\n",
       "      <th>Cohens_Kappa</th>\n",
       "      <th>Area_Under_Precision_Curve</th>\n",
       "      <th>Area_Under_ROC_Curve</th>\n",
       "    </tr>\n",
       "  </thead>\n",
       "  <tbody>\n",
       "    <tr>\n",
       "      <th>0</th>\n",
       "      <td>Logistic Regression</td>\n",
       "      <td>Features selected from p-values</td>\n",
       "      <td>0.890721</td>\n",
       "      <td>0.890762</td>\n",
       "      <td>0.99994</td>\n",
       "      <td>0.942199</td>\n",
       "      <td>0.015184</td>\n",
       "      <td>0.000941</td>\n",
       "      <td>0.946248</td>\n",
       "      <td>0.69705</td>\n",
       "    </tr>\n",
       "  </tbody>\n",
       "</table>\n",
       "</div>"
      ],
      "text/plain": [
       "                 Model                      Description  Accuracy  Precision  \\\n",
       "0  Logistic Regression  Features selected from p-values  0.890721   0.890762   \n",
       "\n",
       "    Recall        F1  Mathews_Correlation_Coefficient  Cohens_Kappa  \\\n",
       "0  0.99994  0.942199                         0.015184      0.000941   \n",
       "\n",
       "   Area_Under_Precision_Curve  Area_Under_ROC_Curve  \n",
       "0                    0.946248               0.69705  "
      ]
     },
     "execution_count": 58,
     "metadata": {},
     "output_type": "execute_result"
    }
   ],
   "source": [
    "df_eval"
   ]
  },
  {
   "cell_type": "code",
   "execution_count": 59,
   "metadata": {
    "ExecuteTime": {
     "end_time": "2020-04-02T01:28:24.094510Z",
     "start_time": "2020-04-02T01:28:23.955268Z"
    }
   },
   "outputs": [
    {
     "name": "stdout",
     "output_type": "stream",
     "text": [
      "Accuracy:  0.890721339953033\n",
      "Precision:  0.8907620702228514\n",
      "Recall:  0.9999398061758864\n",
      "F1-score:  0.942198728383368\n"
     ]
    }
   ],
   "source": [
    "from sklearn.metrics import accuracy_score, precision_score, recall_score, f1_score\n",
    "\n",
    "print('Accuracy: ', accuracy_score(ytx,ypreds_tx))\n",
    "print('Precision: ', precision_score(ytx,ypreds_tx))\n",
    "print('Recall: ', recall_score(ytx,ypreds_tx))\n",
    "print('F1-score: ', f1_score(ytx,ypreds_tx))"
   ]
  },
  {
   "cell_type": "code",
   "execution_count": 60,
   "metadata": {
    "ExecuteTime": {
     "end_time": "2020-04-02T01:28:24.254457Z",
     "start_time": "2020-04-02T01:28:24.099386Z"
    }
   },
   "outputs": [
    {
     "name": "stdout",
     "output_type": "stream",
     "text": [
      "              precision    recall  f1-score   support\n",
      "\n",
      "           0       0.55      0.00      0.00     10192\n",
      "           1       0.89      1.00      0.94     83065\n",
      "\n",
      "    accuracy                           0.89     93257\n",
      "   macro avg       0.72      0.50      0.47     93257\n",
      "weighted avg       0.85      0.89      0.84     93257\n",
      "\n"
     ]
    }
   ],
   "source": [
    "from sklearn.metrics import classification_report\n",
    "\n",
    "print(classification_report(ytx, ypreds_tx))"
   ]
  },
  {
   "cell_type": "code",
   "execution_count": 61,
   "metadata": {
    "ExecuteTime": {
     "end_time": "2020-04-02T01:28:24.405200Z",
     "start_time": "2020-04-02T01:28:24.257817Z"
    }
   },
   "outputs": [
    {
     "data": {
      "text/plain": [
       "array([[    6, 10186],\n",
       "       [    5, 83060]])"
      ]
     },
     "execution_count": 61,
     "metadata": {},
     "output_type": "execute_result"
    }
   ],
   "source": [
    "from sklearn.metrics import confusion_matrix\n",
    "\n",
    "confusion_matrix(ytx, ypreds_tx)"
   ]
  },
  {
   "cell_type": "code",
   "execution_count": 62,
   "metadata": {
    "ExecuteTime": {
     "end_time": "2020-04-02T01:28:24.583199Z",
     "start_time": "2020-04-02T01:28:24.407587Z"
    }
   },
   "outputs": [
    {
     "data": {
      "text/html": [
       "<style  type=\"text/css\" >\n",
       "    #T_3f0f3aae_7481_11ea_be26_acde48001122row0_col0 {\n",
       "            background-color:  lightgreen;\n",
       "            : ;\n",
       "            : ;\n",
       "        }    #T_3f0f3aae_7481_11ea_be26_acde48001122row0_col1 {\n",
       "            background-color:  salmon;\n",
       "            : ;\n",
       "            : ;\n",
       "        }    #T_3f0f3aae_7481_11ea_be26_acde48001122row0_col5 {\n",
       "            : ;\n",
       "            background:  lightblue;\n",
       "            : ;\n",
       "        }    #T_3f0f3aae_7481_11ea_be26_acde48001122row0_col9 {\n",
       "            : ;\n",
       "            : ;\n",
       "            background:  lightblue;\n",
       "        }    #T_3f0f3aae_7481_11ea_be26_acde48001122row1_col0 {\n",
       "            background-color:  salmon;\n",
       "            : ;\n",
       "            : ;\n",
       "        }    #T_3f0f3aae_7481_11ea_be26_acde48001122row1_col1 {\n",
       "            background-color:  lightgreen;\n",
       "            : ;\n",
       "            : ;\n",
       "        }    #T_3f0f3aae_7481_11ea_be26_acde48001122row1_col5 {\n",
       "            : ;\n",
       "            background:  lightblue;\n",
       "            : ;\n",
       "        }    #T_3f0f3aae_7481_11ea_be26_acde48001122row1_col9 {\n",
       "            : ;\n",
       "            : ;\n",
       "            background:  lightblue;\n",
       "        }</style><table id=\"T_3f0f3aae_7481_11ea_be26_acde48001122\" ><caption>Logistic Regression</caption><thead>    <tr>        <th class=\"blank level0\" ></th>        <th class=\"col_heading level0 col0\" >Predicted_Default</th>        <th class=\"col_heading level0 col1\" >PredictedNonDefault</th>        <th class=\"col_heading level0 col2\" >Total_Default</th>        <th class=\"col_heading level0 col3\" >Correct_Default</th>        <th class=\"col_heading level0 col4\" >Incorrect_Default</th>        <th class=\"col_heading level0 col5\" >Default_Detection</th>        <th class=\"col_heading level0 col6\" >Total_NonDefault</th>        <th class=\"col_heading level0 col7\" >Correct_NonDefault</th>        <th class=\"col_heading level0 col8\" >Incorrect_NonDefault</th>        <th class=\"col_heading level0 col9\" >NonDefault_Detection</th>    </tr></thead><tbody>\n",
       "                <tr>\n",
       "                        <th id=\"T_3f0f3aae_7481_11ea_be26_acde48001122level0_row0\" class=\"row_heading level0 row0\" >Default</th>\n",
       "                        <td id=\"T_3f0f3aae_7481_11ea_be26_acde48001122row0_col0\" class=\"data row0 col0\" >6</td>\n",
       "                        <td id=\"T_3f0f3aae_7481_11ea_be26_acde48001122row0_col1\" class=\"data row0 col1\" >10,186</td>\n",
       "                        <td id=\"T_3f0f3aae_7481_11ea_be26_acde48001122row0_col2\" class=\"data row0 col2\" >10,192</td>\n",
       "                        <td id=\"T_3f0f3aae_7481_11ea_be26_acde48001122row0_col3\" class=\"data row0 col3\" >6</td>\n",
       "                        <td id=\"T_3f0f3aae_7481_11ea_be26_acde48001122row0_col4\" class=\"data row0 col4\" >10,186</td>\n",
       "                        <td id=\"T_3f0f3aae_7481_11ea_be26_acde48001122row0_col5\" class=\"data row0 col5\" >0.06%</td>\n",
       "                        <td id=\"T_3f0f3aae_7481_11ea_be26_acde48001122row0_col6\" class=\"data row0 col6\" >83,065</td>\n",
       "                        <td id=\"T_3f0f3aae_7481_11ea_be26_acde48001122row0_col7\" class=\"data row0 col7\" >83,060</td>\n",
       "                        <td id=\"T_3f0f3aae_7481_11ea_be26_acde48001122row0_col8\" class=\"data row0 col8\" >5</td>\n",
       "                        <td id=\"T_3f0f3aae_7481_11ea_be26_acde48001122row0_col9\" class=\"data row0 col9\" >99.99%</td>\n",
       "            </tr>\n",
       "            <tr>\n",
       "                        <th id=\"T_3f0f3aae_7481_11ea_be26_acde48001122level0_row1\" class=\"row_heading level0 row1\" >NonDefault</th>\n",
       "                        <td id=\"T_3f0f3aae_7481_11ea_be26_acde48001122row1_col0\" class=\"data row1 col0\" >5</td>\n",
       "                        <td id=\"T_3f0f3aae_7481_11ea_be26_acde48001122row1_col1\" class=\"data row1 col1\" >83,060</td>\n",
       "                        <td id=\"T_3f0f3aae_7481_11ea_be26_acde48001122row1_col2\" class=\"data row1 col2\" >10,192</td>\n",
       "                        <td id=\"T_3f0f3aae_7481_11ea_be26_acde48001122row1_col3\" class=\"data row1 col3\" >6</td>\n",
       "                        <td id=\"T_3f0f3aae_7481_11ea_be26_acde48001122row1_col4\" class=\"data row1 col4\" >10,186</td>\n",
       "                        <td id=\"T_3f0f3aae_7481_11ea_be26_acde48001122row1_col5\" class=\"data row1 col5\" >0.06%</td>\n",
       "                        <td id=\"T_3f0f3aae_7481_11ea_be26_acde48001122row1_col6\" class=\"data row1 col6\" >83,065</td>\n",
       "                        <td id=\"T_3f0f3aae_7481_11ea_be26_acde48001122row1_col7\" class=\"data row1 col7\" >83,060</td>\n",
       "                        <td id=\"T_3f0f3aae_7481_11ea_be26_acde48001122row1_col8\" class=\"data row1 col8\" >5</td>\n",
       "                        <td id=\"T_3f0f3aae_7481_11ea_be26_acde48001122row1_col9\" class=\"data row1 col9\" >99.99%</td>\n",
       "            </tr>\n",
       "    </tbody></table>"
      ],
      "text/plain": [
       "<pandas.io.formats.style.Styler at 0x13309aba8>"
      ]
     },
     "execution_count": 62,
     "metadata": {},
     "output_type": "execute_result"
    }
   ],
   "source": [
    "bp.print_confusion_matrix('Logistic Regression', \n",
    "                    ytx,ypreds_tx,\n",
    "                    zero='Default',one='NonDefault')"
   ]
  },
  {
   "cell_type": "markdown",
   "metadata": {},
   "source": [
    "## Predicted Probabilities"
   ]
  },
  {
   "cell_type": "code",
   "execution_count": 63,
   "metadata": {
    "ExecuteTime": {
     "end_time": "2020-04-02T01:28:24.662669Z",
     "start_time": "2020-04-02T01:28:24.585480Z"
    }
   },
   "outputs": [],
   "source": [
    "yprobs_tx = model.model.predict_proba(Xtx)"
   ]
  },
  {
   "cell_type": "code",
   "execution_count": 64,
   "metadata": {
    "ExecuteTime": {
     "end_time": "2020-04-02T01:28:24.728640Z",
     "start_time": "2020-04-02T01:28:24.664453Z"
    }
   },
   "outputs": [
    {
     "data": {
      "text/plain": [
       "array([[0.10599847, 0.89400153],\n",
       "       [0.1932835 , 0.8067165 ]])"
      ]
     },
     "execution_count": 64,
     "metadata": {},
     "output_type": "execute_result"
    }
   ],
   "source": [
    "yprobs_tx[:2]"
   ]
  },
  {
   "cell_type": "code",
   "execution_count": 65,
   "metadata": {
    "ExecuteTime": {
     "end_time": "2020-04-02T01:28:24.795172Z",
     "start_time": "2020-04-02T01:28:24.735048Z"
    }
   },
   "outputs": [
    {
     "data": {
      "text/plain": [
       "(93257, 2)"
      ]
     },
     "execution_count": 65,
     "metadata": {},
     "output_type": "execute_result"
    }
   ],
   "source": [
    "yprobs_tx.shape"
   ]
  },
  {
   "cell_type": "code",
   "execution_count": 66,
   "metadata": {
    "ExecuteTime": {
     "end_time": "2020-04-02T01:28:24.869963Z",
     "start_time": "2020-04-02T01:28:24.802568Z"
    }
   },
   "outputs": [
    {
     "data": {
      "text/plain": [
       "array([0.89400153, 0.8067165 ])"
      ]
     },
     "execution_count": 66,
     "metadata": {},
     "output_type": "execute_result"
    }
   ],
   "source": [
    "# first column is 0 and second is 1\n",
    "# 0 is default, 1 is not-default.\n",
    "\n",
    "yprobs_tx = yprobs_tx[:][:,1]\n",
    "yprobs_tx[:2]"
   ]
  },
  {
   "cell_type": "code",
   "execution_count": 67,
   "metadata": {
    "ExecuteTime": {
     "end_time": "2020-04-02T01:28:24.926514Z",
     "start_time": "2020-04-02T01:28:24.873289Z"
    }
   },
   "outputs": [
    {
     "data": {
      "text/plain": [
       "193817    1\n",
       "174039    1\n",
       "Name: good_bad, dtype: int64"
      ]
     },
     "execution_count": 67,
     "metadata": {},
     "output_type": "execute_result"
    }
   ],
   "source": [
    "ytx.head(2)"
   ]
  },
  {
   "cell_type": "code",
   "execution_count": 68,
   "metadata": {
    "ExecuteTime": {
     "end_time": "2020-04-02T01:28:24.991304Z",
     "start_time": "2020-04-02T01:28:24.928645Z"
    }
   },
   "outputs": [
    {
     "data": {
      "text/html": [
       "<div>\n",
       "<style scoped>\n",
       "    .dataframe tbody tr th:only-of-type {\n",
       "        vertical-align: middle;\n",
       "    }\n",
       "\n",
       "    .dataframe tbody tr th {\n",
       "        vertical-align: top;\n",
       "    }\n",
       "\n",
       "    .dataframe thead th {\n",
       "        text-align: right;\n",
       "    }\n",
       "</style>\n",
       "<table border=\"1\" class=\"dataframe\">\n",
       "  <thead>\n",
       "    <tr style=\"text-align: right;\">\n",
       "      <th></th>\n",
       "      <th>good_bad</th>\n",
       "    </tr>\n",
       "  </thead>\n",
       "  <tbody>\n",
       "    <tr>\n",
       "      <th>193817</th>\n",
       "      <td>1</td>\n",
       "    </tr>\n",
       "    <tr>\n",
       "      <th>174039</th>\n",
       "      <td>1</td>\n",
       "    </tr>\n",
       "  </tbody>\n",
       "</table>\n",
       "</div>"
      ],
      "text/plain": [
       "        good_bad\n",
       "193817         1\n",
       "174039         1"
      ]
     },
     "execution_count": 68,
     "metadata": {},
     "output_type": "execute_result"
    }
   ],
   "source": [
    "ytest.head(2)"
   ]
  },
  {
   "cell_type": "code",
   "execution_count": 69,
   "metadata": {
    "ExecuteTime": {
     "end_time": "2020-04-02T01:28:25.050946Z",
     "start_time": "2020-04-02T01:28:24.994158Z"
    }
   },
   "outputs": [
    {
     "data": {
      "text/html": [
       "<div>\n",
       "<style scoped>\n",
       "    .dataframe tbody tr th:only-of-type {\n",
       "        vertical-align: middle;\n",
       "    }\n",
       "\n",
       "    .dataframe tbody tr th {\n",
       "        vertical-align: top;\n",
       "    }\n",
       "\n",
       "    .dataframe thead th {\n",
       "        text-align: right;\n",
       "    }\n",
       "</style>\n",
       "<table border=\"1\" class=\"dataframe\">\n",
       "  <thead>\n",
       "    <tr style=\"text-align: right;\">\n",
       "      <th></th>\n",
       "      <th>good_bad</th>\n",
       "      <th>yprobs</th>\n",
       "    </tr>\n",
       "  </thead>\n",
       "  <tbody>\n",
       "    <tr>\n",
       "      <th>193817</th>\n",
       "      <td>1</td>\n",
       "      <td>0.894002</td>\n",
       "    </tr>\n",
       "    <tr>\n",
       "      <th>174039</th>\n",
       "      <td>1</td>\n",
       "      <td>0.806717</td>\n",
       "    </tr>\n",
       "    <tr>\n",
       "      <th>37506</th>\n",
       "      <td>1</td>\n",
       "      <td>0.739531</td>\n",
       "    </tr>\n",
       "    <tr>\n",
       "      <th>182976</th>\n",
       "      <td>1</td>\n",
       "      <td>0.758965</td>\n",
       "    </tr>\n",
       "    <tr>\n",
       "      <th>148379</th>\n",
       "      <td>1</td>\n",
       "      <td>0.842962</td>\n",
       "    </tr>\n",
       "  </tbody>\n",
       "</table>\n",
       "</div>"
      ],
      "text/plain": [
       "        good_bad    yprobs\n",
       "193817         1  0.894002\n",
       "174039         1  0.806717\n",
       "37506          1  0.739531\n",
       "182976         1  0.758965\n",
       "148379         1  0.842962"
      ]
     },
     "execution_count": 69,
     "metadata": {},
     "output_type": "execute_result"
    }
   ],
   "source": [
    "ytest['yprobs'] = yprobs_tx\n",
    "ytest.head()"
   ]
  },
  {
   "cell_type": "markdown",
   "metadata": {},
   "source": [
    "## Model evaluation: confusion matrix"
   ]
  },
  {
   "cell_type": "code",
   "execution_count": 70,
   "metadata": {
    "ExecuteTime": {
     "end_time": "2020-04-02T01:28:25.119519Z",
     "start_time": "2020-04-02T01:28:25.052921Z"
    }
   },
   "outputs": [
    {
     "data": {
      "text/html": [
       "<div>\n",
       "<style scoped>\n",
       "    .dataframe tbody tr th:only-of-type {\n",
       "        vertical-align: middle;\n",
       "    }\n",
       "\n",
       "    .dataframe tbody tr th {\n",
       "        vertical-align: top;\n",
       "    }\n",
       "\n",
       "    .dataframe thead th {\n",
       "        text-align: right;\n",
       "    }\n",
       "</style>\n",
       "<table border=\"1\" class=\"dataframe\">\n",
       "  <thead>\n",
       "    <tr style=\"text-align: right;\">\n",
       "      <th></th>\n",
       "      <th>good_bad</th>\n",
       "      <th>yprobs</th>\n",
       "      <th>yhat</th>\n",
       "    </tr>\n",
       "  </thead>\n",
       "  <tbody>\n",
       "    <tr>\n",
       "      <th>193817</th>\n",
       "      <td>1</td>\n",
       "      <td>0.894002</td>\n",
       "      <td>1</td>\n",
       "    </tr>\n",
       "    <tr>\n",
       "      <th>174039</th>\n",
       "      <td>1</td>\n",
       "      <td>0.806717</td>\n",
       "      <td>1</td>\n",
       "    </tr>\n",
       "  </tbody>\n",
       "</table>\n",
       "</div>"
      ],
      "text/plain": [
       "        good_bad    yprobs  yhat\n",
       "193817         1  0.894002     1\n",
       "174039         1  0.806717     1"
      ]
     },
     "execution_count": 70,
     "metadata": {},
     "output_type": "execute_result"
    }
   ],
   "source": [
    "tr = 0.5 # threshold\n",
    "ytest['yhat'] = ytest['yprobs'].gt(tr).astype(int)\n",
    "\n",
    "ytest.head(2)"
   ]
  },
  {
   "cell_type": "code",
   "execution_count": 71,
   "metadata": {
    "ExecuteTime": {
     "end_time": "2020-04-02T01:28:25.163457Z",
     "start_time": "2020-04-02T01:28:25.122589Z"
    }
   },
   "outputs": [],
   "source": [
    "# help(pd.crosstab)"
   ]
  },
  {
   "cell_type": "code",
   "execution_count": 72,
   "metadata": {
    "ExecuteTime": {
     "end_time": "2020-04-02T01:28:25.328772Z",
     "start_time": "2020-04-02T01:28:25.171148Z"
    }
   },
   "outputs": [
    {
     "data": {
      "text/html": [
       "<div>\n",
       "<style scoped>\n",
       "    .dataframe tbody tr th:only-of-type {\n",
       "        vertical-align: middle;\n",
       "    }\n",
       "\n",
       "    .dataframe tbody tr th {\n",
       "        vertical-align: top;\n",
       "    }\n",
       "\n",
       "    .dataframe thead th {\n",
       "        text-align: right;\n",
       "    }\n",
       "</style>\n",
       "<table border=\"1\" class=\"dataframe\">\n",
       "  <thead>\n",
       "    <tr style=\"text-align: right;\">\n",
       "      <th>yhat</th>\n",
       "      <th>0</th>\n",
       "      <th>1</th>\n",
       "      <th>All</th>\n",
       "    </tr>\n",
       "    <tr>\n",
       "      <th>good_bad</th>\n",
       "      <th></th>\n",
       "      <th></th>\n",
       "      <th></th>\n",
       "    </tr>\n",
       "  </thead>\n",
       "  <tbody>\n",
       "    <tr>\n",
       "      <th>0</th>\n",
       "      <td>6</td>\n",
       "      <td>10186</td>\n",
       "      <td>10192</td>\n",
       "    </tr>\n",
       "    <tr>\n",
       "      <th>1</th>\n",
       "      <td>5</td>\n",
       "      <td>83060</td>\n",
       "      <td>83065</td>\n",
       "    </tr>\n",
       "    <tr>\n",
       "      <th>All</th>\n",
       "      <td>11</td>\n",
       "      <td>93246</td>\n",
       "      <td>93257</td>\n",
       "    </tr>\n",
       "  </tbody>\n",
       "</table>\n",
       "</div>"
      ],
      "text/plain": [
       "yhat       0      1    All\n",
       "good_bad                  \n",
       "0          6  10186  10192\n",
       "1          5  83060  83065\n",
       "All       11  93246  93257"
      ]
     },
     "execution_count": 72,
     "metadata": {},
     "output_type": "execute_result"
    }
   ],
   "source": [
    "df_confusion = pd.crosstab(ytest['good_bad'],ytest['yhat'],margins=True)\n",
    "\n",
    "\n",
    "df_confusion"
   ]
  },
  {
   "cell_type": "code",
   "execution_count": 73,
   "metadata": {
    "ExecuteTime": {
     "end_time": "2020-04-02T01:28:25.408968Z",
     "start_time": "2020-04-02T01:28:25.336301Z"
    }
   },
   "outputs": [
    {
     "data": {
      "text/html": [
       "<style  type=\"text/css\" >\n",
       "</style><table id=\"T_3f8d1aa0_7481_11ea_be26_acde48001122\" ><thead>    <tr>        <th class=\"index_name level0\" >yhat</th>        <th class=\"col_heading level0 col0\" >0</th>        <th class=\"col_heading level0 col1\" >1</th>    </tr>    <tr>        <th class=\"index_name level0\" >good_bad</th>        <th class=\"blank\" ></th>        <th class=\"blank\" ></th>    </tr></thead><tbody>\n",
       "                <tr>\n",
       "                        <th id=\"T_3f8d1aa0_7481_11ea_be26_acde48001122level0_row0\" class=\"row_heading level0 row0\" >0</th>\n",
       "                        <td id=\"T_3f8d1aa0_7481_11ea_be26_acde48001122row0_col0\" class=\"data row0 col0\" >0.06%</td>\n",
       "                        <td id=\"T_3f8d1aa0_7481_11ea_be26_acde48001122row0_col1\" class=\"data row0 col1\" >99.94%</td>\n",
       "            </tr>\n",
       "            <tr>\n",
       "                        <th id=\"T_3f8d1aa0_7481_11ea_be26_acde48001122level0_row1\" class=\"row_heading level0 row1\" >1</th>\n",
       "                        <td id=\"T_3f8d1aa0_7481_11ea_be26_acde48001122row1_col0\" class=\"data row1 col0\" >0.01%</td>\n",
       "                        <td id=\"T_3f8d1aa0_7481_11ea_be26_acde48001122row1_col1\" class=\"data row1 col1\" >99.99%</td>\n",
       "            </tr>\n",
       "    </tbody></table>"
      ],
      "text/plain": [
       "<pandas.io.formats.style.Styler at 0x128e24b00>"
      ]
     },
     "execution_count": 73,
     "metadata": {},
     "output_type": "execute_result"
    }
   ],
   "source": [
    "df_confusion = pd.crosstab(ytest['good_bad'],ytest['yhat'],normalize='index')\n",
    "\n",
    "# look at diagonal \n",
    "df_confusion.style.format('{:.2%}')"
   ]
  },
  {
   "cell_type": "code",
   "execution_count": 74,
   "metadata": {
    "ExecuteTime": {
     "end_time": "2020-04-02T01:28:25.461389Z",
     "start_time": "2020-04-02T01:28:25.411567Z"
    }
   },
   "outputs": [],
   "source": [
    "\"\"\"\n",
    "We have a problem. We get very low accuracy for the\n",
    "customers who defaults for given threshold of 0.5\n",
    "\n",
    "Increase the threshold.\n",
    "\n",
    "\"\"\";"
   ]
  },
  {
   "cell_type": "code",
   "execution_count": 75,
   "metadata": {
    "ExecuteTime": {
     "end_time": "2020-04-02T01:28:25.544739Z",
     "start_time": "2020-04-02T01:28:25.464953Z"
    }
   },
   "outputs": [
    {
     "data": {
      "text/html": [
       "<style  type=\"text/css\" >\n",
       "</style><table id=\"T_3fa1d008_7481_11ea_be26_acde48001122\" ><thead>    <tr>        <th class=\"index_name level0\" >yhat</th>        <th class=\"col_heading level0 col0\" >0</th>        <th class=\"col_heading level0 col1\" >1</th>    </tr>    <tr>        <th class=\"index_name level0\" >good_bad</th>        <th class=\"blank\" ></th>        <th class=\"blank\" ></th>    </tr></thead><tbody>\n",
       "                <tr>\n",
       "                        <th id=\"T_3fa1d008_7481_11ea_be26_acde48001122level0_row0\" class=\"row_heading level0 row0\" >0</th>\n",
       "                        <td id=\"T_3fa1d008_7481_11ea_be26_acde48001122row0_col0\" class=\"data row0 col0\" >71.60%</td>\n",
       "                        <td id=\"T_3fa1d008_7481_11ea_be26_acde48001122row0_col1\" class=\"data row0 col1\" >28.40%</td>\n",
       "            </tr>\n",
       "            <tr>\n",
       "                        <th id=\"T_3fa1d008_7481_11ea_be26_acde48001122level0_row1\" class=\"row_heading level0 row1\" >1</th>\n",
       "                        <td id=\"T_3fa1d008_7481_11ea_be26_acde48001122row1_col0\" class=\"data row1 col0\" >42.82%</td>\n",
       "                        <td id=\"T_3fa1d008_7481_11ea_be26_acde48001122row1_col1\" class=\"data row1 col1\" >57.18%</td>\n",
       "            </tr>\n",
       "    </tbody></table>"
      ],
      "text/plain": [
       "<pandas.io.formats.style.Styler at 0x128e45080>"
      ]
     },
     "execution_count": 75,
     "metadata": {},
     "output_type": "execute_result"
    }
   ],
   "source": [
    "tr = 0.9 # too convervative model gives too few loans,\n",
    "         # we want to lower frauds, but also want to give loans.\n",
    "ytest['yhat'] = ytest['yprobs'].gt(tr).astype(int)\n",
    "\n",
    "df_confusion = pd.crosstab(ytest['good_bad'],ytest['yhat'],normalize='index')\n",
    "\n",
    "# look at diagonal \n",
    "df_confusion.style.format('{:.2%}')"
   ]
  },
  {
   "cell_type": "code",
   "execution_count": 76,
   "metadata": {
    "ExecuteTime": {
     "end_time": "2020-04-02T01:28:25.623962Z",
     "start_time": "2020-04-02T01:28:25.546767Z"
    }
   },
   "outputs": [
    {
     "data": {
      "text/html": [
       "<style  type=\"text/css\" >\n",
       "</style><table id=\"T_3fad7b42_7481_11ea_be26_acde48001122\" ><thead>    <tr>        <th class=\"index_name level0\" >yhat</th>        <th class=\"col_heading level0 col0\" >0</th>        <th class=\"col_heading level0 col1\" >1</th>    </tr>    <tr>        <th class=\"index_name level0\" >good_bad</th>        <th class=\"blank\" ></th>        <th class=\"blank\" ></th>    </tr></thead><tbody>\n",
       "                <tr>\n",
       "                        <th id=\"T_3fad7b42_7481_11ea_be26_acde48001122level0_row0\" class=\"row_heading level0 row0\" >0</th>\n",
       "                        <td id=\"T_3fad7b42_7481_11ea_be26_acde48001122row0_col0\" class=\"data row0 col0\" >5.89%</td>\n",
       "                        <td id=\"T_3fad7b42_7481_11ea_be26_acde48001122row0_col1\" class=\"data row0 col1\" >94.11%</td>\n",
       "            </tr>\n",
       "            <tr>\n",
       "                        <th id=\"T_3fad7b42_7481_11ea_be26_acde48001122level0_row1\" class=\"row_heading level0 row1\" >1</th>\n",
       "                        <td id=\"T_3fad7b42_7481_11ea_be26_acde48001122row1_col0\" class=\"data row1 col0\" >1.45%</td>\n",
       "                        <td id=\"T_3fad7b42_7481_11ea_be26_acde48001122row1_col1\" class=\"data row1 col1\" >98.55%</td>\n",
       "            </tr>\n",
       "    </tbody></table>"
      ],
      "text/plain": [
       "<pandas.io.formats.style.Styler at 0x128d29eb8>"
      ]
     },
     "execution_count": 76,
     "metadata": {},
     "output_type": "execute_result"
    }
   ],
   "source": [
    "tr = 0.7 \n",
    "ytest['yhat'] = ytest['yprobs'].gt(tr).astype(int)\n",
    "\n",
    "df_confusion = pd.crosstab(ytest['good_bad'],ytest['yhat'],normalize='index')\n",
    "\n",
    "# look at diagonal \n",
    "df_confusion.style.format('{:.2%}')"
   ]
  },
  {
   "cell_type": "markdown",
   "metadata": {},
   "source": [
    "## Model evaluation: AUC\n",
    "\n",
    "![](../images/AUC_1.png)"
   ]
  },
  {
   "cell_type": "code",
   "execution_count": 77,
   "metadata": {
    "ExecuteTime": {
     "end_time": "2020-04-02T01:28:26.097719Z",
     "start_time": "2020-04-02T01:28:25.626886Z"
    }
   },
   "outputs": [
    {
     "data": {
      "image/png": "[encoded data removed]",
      "text/plain": [
       "<Figure size 432x288 with 1 Axes>"
      ]
     },
     "metadata": {
      "image/png": {
       "height": 282,
       "width": 389
      }
     },
     "output_type": "display_data"
    }
   ],
   "source": [
    "def plot_auc(ytx,yprobs_tx):\n",
    "\n",
    "    from sklearn import metrics\n",
    "\n",
    "    fpr, tpr, thresholds = metrics.roc_curve(ytx,  yprobs_tx)\n",
    "    auc = metrics.roc_auc_score(ytx, yprobs_tx)\n",
    "\n",
    "    plt.plot(fpr,tpr,label=f\"AUC={auc:.4f}\")\n",
    "    plt.plot(fpr,fpr,ls='--',color='blue',label='Random Guess')\n",
    "    plt.legend(loc=4)\n",
    "\n",
    "    plt.xlabel('False Positive Rate')\n",
    "    plt.ylabel('True Positive Rate')\n",
    "    plt.title('ROC curve')\n",
    "    plt.show()\n",
    "    \n",
    "\n",
    "plot_auc(ytx,yprobs_tx)"
   ]
  },
  {
   "cell_type": "markdown",
   "metadata": {},
   "source": [
    "## Sort by yhat_prob and find Gini and Kolmogorov-Smirnov\n",
    "\n",
    "- To calculate Gini we must sort data by yprobs.\n",
    "- Gini is top left yellow part, not adjacent to 45 degree wedge.\n",
    "\n",
    "![](../images/gini_1.png)\n",
    "![](../images/KS_1.png)"
   ]
  },
  {
   "cell_type": "code",
   "execution_count": 78,
   "metadata": {
    "ExecuteTime": {
     "end_time": "2020-04-02T01:28:26.152524Z",
     "start_time": "2020-04-02T01:28:26.101156Z"
    }
   },
   "outputs": [
    {
     "data": {
      "text/html": [
       "<div>\n",
       "<style scoped>\n",
       "    .dataframe tbody tr th:only-of-type {\n",
       "        vertical-align: middle;\n",
       "    }\n",
       "\n",
       "    .dataframe tbody tr th {\n",
       "        vertical-align: top;\n",
       "    }\n",
       "\n",
       "    .dataframe thead th {\n",
       "        text-align: right;\n",
       "    }\n",
       "</style>\n",
       "<table border=\"1\" class=\"dataframe\">\n",
       "  <thead>\n",
       "    <tr style=\"text-align: right;\">\n",
       "      <th></th>\n",
       "      <th>good_bad</th>\n",
       "      <th>yprobs</th>\n",
       "      <th>yhat</th>\n",
       "    </tr>\n",
       "  </thead>\n",
       "  <tbody>\n",
       "    <tr>\n",
       "      <th>193817</th>\n",
       "      <td>1</td>\n",
       "      <td>0.894002</td>\n",
       "      <td>1</td>\n",
       "    </tr>\n",
       "    <tr>\n",
       "      <th>174039</th>\n",
       "      <td>1</td>\n",
       "      <td>0.806717</td>\n",
       "      <td>1</td>\n",
       "    </tr>\n",
       "  </tbody>\n",
       "</table>\n",
       "</div>"
      ],
      "text/plain": [
       "        good_bad    yprobs  yhat\n",
       "193817         1  0.894002     1\n",
       "174039         1  0.806717     1"
      ]
     },
     "execution_count": 78,
     "metadata": {},
     "output_type": "execute_result"
    }
   ],
   "source": [
    "ytest.head(2)"
   ]
  },
  {
   "cell_type": "code",
   "execution_count": 79,
   "metadata": {
    "ExecuteTime": {
     "end_time": "2020-04-02T01:28:26.248116Z",
     "start_time": "2020-04-02T01:28:26.155285Z"
    }
   },
   "outputs": [
    {
     "data": {
      "text/html": [
       "<div>\n",
       "<style scoped>\n",
       "    .dataframe tbody tr th:only-of-type {\n",
       "        vertical-align: middle;\n",
       "    }\n",
       "\n",
       "    .dataframe tbody tr th {\n",
       "        vertical-align: top;\n",
       "    }\n",
       "\n",
       "    .dataframe thead th {\n",
       "        text-align: right;\n",
       "    }\n",
       "</style>\n",
       "<table border=\"1\" class=\"dataframe\">\n",
       "  <thead>\n",
       "    <tr style=\"text-align: right;\">\n",
       "      <th></th>\n",
       "      <th>good_bad</th>\n",
       "      <th>yprobs</th>\n",
       "      <th>yhat</th>\n",
       "    </tr>\n",
       "  </thead>\n",
       "  <tbody>\n",
       "    <tr>\n",
       "      <th>42396</th>\n",
       "      <td>0</td>\n",
       "      <td>0.431262</td>\n",
       "      <td>0</td>\n",
       "    </tr>\n",
       "    <tr>\n",
       "      <th>13858</th>\n",
       "      <td>1</td>\n",
       "      <td>0.457426</td>\n",
       "      <td>0</td>\n",
       "    </tr>\n",
       "    <tr>\n",
       "      <th>42368</th>\n",
       "      <td>0</td>\n",
       "      <td>0.463180</td>\n",
       "      <td>0</td>\n",
       "    </tr>\n",
       "    <tr>\n",
       "      <th>42398</th>\n",
       "      <td>0</td>\n",
       "      <td>0.463748</td>\n",
       "      <td>0</td>\n",
       "    </tr>\n",
       "    <tr>\n",
       "      <th>213386</th>\n",
       "      <td>1</td>\n",
       "      <td>0.469236</td>\n",
       "      <td>0</td>\n",
       "    </tr>\n",
       "  </tbody>\n",
       "</table>\n",
       "</div>"
      ],
      "text/plain": [
       "        good_bad    yprobs  yhat\n",
       "42396          0  0.431262     0\n",
       "13858          1  0.457426     0\n",
       "42368          0  0.463180     0\n",
       "42398          0  0.463748     0\n",
       "213386         1  0.469236     0"
      ]
     },
     "execution_count": 79,
     "metadata": {},
     "output_type": "execute_result"
    }
   ],
   "source": [
    "ytest = ytest.sort_values('yprobs')\n",
    "ytest.head()"
   ]
  },
  {
   "cell_type": "code",
   "execution_count": 80,
   "metadata": {
    "ExecuteTime": {
     "end_time": "2020-04-02T01:28:26.370819Z",
     "start_time": "2020-04-02T01:28:26.251985Z"
    }
   },
   "outputs": [
    {
     "data": {
      "text/html": [
       "<div>\n",
       "<style scoped>\n",
       "    .dataframe tbody tr th:only-of-type {\n",
       "        vertical-align: middle;\n",
       "    }\n",
       "\n",
       "    .dataframe tbody tr th {\n",
       "        vertical-align: top;\n",
       "    }\n",
       "\n",
       "    .dataframe thead th {\n",
       "        text-align: right;\n",
       "    }\n",
       "</style>\n",
       "<table border=\"1\" class=\"dataframe\">\n",
       "  <thead>\n",
       "    <tr style=\"text-align: right;\">\n",
       "      <th></th>\n",
       "      <th>good_bad</th>\n",
       "      <th>yprobs</th>\n",
       "      <th>yhat</th>\n",
       "      <th>cum_n_pop</th>\n",
       "      <th>cum_n_good</th>\n",
       "      <th>cum_n_bad</th>\n",
       "      <th>cum_perc_pop</th>\n",
       "      <th>cum_perc_good</th>\n",
       "      <th>cum_perc_bad</th>\n",
       "    </tr>\n",
       "  </thead>\n",
       "  <tbody>\n",
       "    <tr>\n",
       "      <th>42396</th>\n",
       "      <td>0</td>\n",
       "      <td>0.431262</td>\n",
       "      <td>0</td>\n",
       "      <td>1</td>\n",
       "      <td>0</td>\n",
       "      <td>1</td>\n",
       "      <td>0.000011</td>\n",
       "      <td>0.000000</td>\n",
       "      <td>0.000098</td>\n",
       "    </tr>\n",
       "    <tr>\n",
       "      <th>13858</th>\n",
       "      <td>1</td>\n",
       "      <td>0.457426</td>\n",
       "      <td>0</td>\n",
       "      <td>2</td>\n",
       "      <td>1</td>\n",
       "      <td>1</td>\n",
       "      <td>0.000021</td>\n",
       "      <td>0.000012</td>\n",
       "      <td>0.000098</td>\n",
       "    </tr>\n",
       "    <tr>\n",
       "      <th>42368</th>\n",
       "      <td>0</td>\n",
       "      <td>0.463180</td>\n",
       "      <td>0</td>\n",
       "      <td>3</td>\n",
       "      <td>1</td>\n",
       "      <td>2</td>\n",
       "      <td>0.000032</td>\n",
       "      <td>0.000012</td>\n",
       "      <td>0.000196</td>\n",
       "    </tr>\n",
       "    <tr>\n",
       "      <th>42398</th>\n",
       "      <td>0</td>\n",
       "      <td>0.463748</td>\n",
       "      <td>0</td>\n",
       "      <td>4</td>\n",
       "      <td>1</td>\n",
       "      <td>3</td>\n",
       "      <td>0.000043</td>\n",
       "      <td>0.000012</td>\n",
       "      <td>0.000294</td>\n",
       "    </tr>\n",
       "    <tr>\n",
       "      <th>213386</th>\n",
       "      <td>1</td>\n",
       "      <td>0.469236</td>\n",
       "      <td>0</td>\n",
       "      <td>5</td>\n",
       "      <td>2</td>\n",
       "      <td>3</td>\n",
       "      <td>0.000054</td>\n",
       "      <td>0.000024</td>\n",
       "      <td>0.000294</td>\n",
       "    </tr>\n",
       "    <tr>\n",
       "      <th>36242</th>\n",
       "      <td>1</td>\n",
       "      <td>0.473357</td>\n",
       "      <td>0</td>\n",
       "      <td>6</td>\n",
       "      <td>3</td>\n",
       "      <td>3</td>\n",
       "      <td>0.000064</td>\n",
       "      <td>0.000036</td>\n",
       "      <td>0.000294</td>\n",
       "    </tr>\n",
       "    <tr>\n",
       "      <th>42438</th>\n",
       "      <td>1</td>\n",
       "      <td>0.481632</td>\n",
       "      <td>0</td>\n",
       "      <td>7</td>\n",
       "      <td>4</td>\n",
       "      <td>3</td>\n",
       "      <td>0.000075</td>\n",
       "      <td>0.000048</td>\n",
       "      <td>0.000294</td>\n",
       "    </tr>\n",
       "    <tr>\n",
       "      <th>39932</th>\n",
       "      <td>0</td>\n",
       "      <td>0.491026</td>\n",
       "      <td>0</td>\n",
       "      <td>8</td>\n",
       "      <td>4</td>\n",
       "      <td>4</td>\n",
       "      <td>0.000086</td>\n",
       "      <td>0.000048</td>\n",
       "      <td>0.000392</td>\n",
       "    </tr>\n",
       "    <tr>\n",
       "      <th>41033</th>\n",
       "      <td>1</td>\n",
       "      <td>0.492590</td>\n",
       "      <td>0</td>\n",
       "      <td>9</td>\n",
       "      <td>5</td>\n",
       "      <td>4</td>\n",
       "      <td>0.000097</td>\n",
       "      <td>0.000060</td>\n",
       "      <td>0.000392</td>\n",
       "    </tr>\n",
       "    <tr>\n",
       "      <th>215253</th>\n",
       "      <td>0</td>\n",
       "      <td>0.495545</td>\n",
       "      <td>0</td>\n",
       "      <td>10</td>\n",
       "      <td>5</td>\n",
       "      <td>5</td>\n",
       "      <td>0.000107</td>\n",
       "      <td>0.000060</td>\n",
       "      <td>0.000491</td>\n",
       "    </tr>\n",
       "    <tr>\n",
       "      <th>41102</th>\n",
       "      <td>0</td>\n",
       "      <td>0.495917</td>\n",
       "      <td>0</td>\n",
       "      <td>11</td>\n",
       "      <td>5</td>\n",
       "      <td>6</td>\n",
       "      <td>0.000118</td>\n",
       "      <td>0.000060</td>\n",
       "      <td>0.000589</td>\n",
       "    </tr>\n",
       "    <tr>\n",
       "      <th>12508</th>\n",
       "      <td>0</td>\n",
       "      <td>0.503468</td>\n",
       "      <td>0</td>\n",
       "      <td>12</td>\n",
       "      <td>5</td>\n",
       "      <td>7</td>\n",
       "      <td>0.000129</td>\n",
       "      <td>0.000060</td>\n",
       "      <td>0.000687</td>\n",
       "    </tr>\n",
       "    <tr>\n",
       "      <th>159990</th>\n",
       "      <td>0</td>\n",
       "      <td>0.505871</td>\n",
       "      <td>0</td>\n",
       "      <td>13</td>\n",
       "      <td>5</td>\n",
       "      <td>8</td>\n",
       "      <td>0.000139</td>\n",
       "      <td>0.000060</td>\n",
       "      <td>0.000785</td>\n",
       "    </tr>\n",
       "    <tr>\n",
       "      <th>40291</th>\n",
       "      <td>0</td>\n",
       "      <td>0.506045</td>\n",
       "      <td>0</td>\n",
       "      <td>14</td>\n",
       "      <td>5</td>\n",
       "      <td>9</td>\n",
       "      <td>0.000150</td>\n",
       "      <td>0.000060</td>\n",
       "      <td>0.000883</td>\n",
       "    </tr>\n",
       "    <tr>\n",
       "      <th>146740</th>\n",
       "      <td>1</td>\n",
       "      <td>0.508159</td>\n",
       "      <td>0</td>\n",
       "      <td>15</td>\n",
       "      <td>6</td>\n",
       "      <td>9</td>\n",
       "      <td>0.000161</td>\n",
       "      <td>0.000072</td>\n",
       "      <td>0.000883</td>\n",
       "    </tr>\n",
       "    <tr>\n",
       "      <th>40467</th>\n",
       "      <td>0</td>\n",
       "      <td>0.509060</td>\n",
       "      <td>0</td>\n",
       "      <td>16</td>\n",
       "      <td>6</td>\n",
       "      <td>10</td>\n",
       "      <td>0.000172</td>\n",
       "      <td>0.000072</td>\n",
       "      <td>0.000981</td>\n",
       "    </tr>\n",
       "    <tr>\n",
       "      <th>155639</th>\n",
       "      <td>0</td>\n",
       "      <td>0.510931</td>\n",
       "      <td>0</td>\n",
       "      <td>17</td>\n",
       "      <td>6</td>\n",
       "      <td>11</td>\n",
       "      <td>0.000182</td>\n",
       "      <td>0.000072</td>\n",
       "      <td>0.001079</td>\n",
       "    </tr>\n",
       "    <tr>\n",
       "      <th>40781</th>\n",
       "      <td>1</td>\n",
       "      <td>0.512638</td>\n",
       "      <td>0</td>\n",
       "      <td>18</td>\n",
       "      <td>7</td>\n",
       "      <td>11</td>\n",
       "      <td>0.000193</td>\n",
       "      <td>0.000084</td>\n",
       "      <td>0.001079</td>\n",
       "    </tr>\n",
       "    <tr>\n",
       "      <th>41096</th>\n",
       "      <td>0</td>\n",
       "      <td>0.513594</td>\n",
       "      <td>0</td>\n",
       "      <td>19</td>\n",
       "      <td>7</td>\n",
       "      <td>12</td>\n",
       "      <td>0.000204</td>\n",
       "      <td>0.000084</td>\n",
       "      <td>0.001177</td>\n",
       "    </tr>\n",
       "    <tr>\n",
       "      <th>140299</th>\n",
       "      <td>0</td>\n",
       "      <td>0.514651</td>\n",
       "      <td>0</td>\n",
       "      <td>20</td>\n",
       "      <td>7</td>\n",
       "      <td>13</td>\n",
       "      <td>0.000214</td>\n",
       "      <td>0.000084</td>\n",
       "      <td>0.001276</td>\n",
       "    </tr>\n",
       "  </tbody>\n",
       "</table>\n",
       "</div>"
      ],
      "text/plain": [
       "        good_bad    yprobs  yhat  cum_n_pop  cum_n_good  cum_n_bad  \\\n",
       "42396          0  0.431262     0          1           0          1   \n",
       "13858          1  0.457426     0          2           1          1   \n",
       "42368          0  0.463180     0          3           1          2   \n",
       "42398          0  0.463748     0          4           1          3   \n",
       "213386         1  0.469236     0          5           2          3   \n",
       "36242          1  0.473357     0          6           3          3   \n",
       "42438          1  0.481632     0          7           4          3   \n",
       "39932          0  0.491026     0          8           4          4   \n",
       "41033          1  0.492590     0          9           5          4   \n",
       "215253         0  0.495545     0         10           5          5   \n",
       "41102          0  0.495917     0         11           5          6   \n",
       "12508          0  0.503468     0         12           5          7   \n",
       "159990         0  0.505871     0         13           5          8   \n",
       "40291          0  0.506045     0         14           5          9   \n",
       "146740         1  0.508159     0         15           6          9   \n",
       "40467          0  0.509060     0         16           6         10   \n",
       "155639         0  0.510931     0         17           6         11   \n",
       "40781          1  0.512638     0         18           7         11   \n",
       "41096          0  0.513594     0         19           7         12   \n",
       "140299         0  0.514651     0         20           7         13   \n",
       "\n",
       "        cum_perc_pop  cum_perc_good  cum_perc_bad  \n",
       "42396       0.000011       0.000000      0.000098  \n",
       "13858       0.000021       0.000012      0.000098  \n",
       "42368       0.000032       0.000012      0.000196  \n",
       "42398       0.000043       0.000012      0.000294  \n",
       "213386      0.000054       0.000024      0.000294  \n",
       "36242       0.000064       0.000036      0.000294  \n",
       "42438       0.000075       0.000048      0.000294  \n",
       "39932       0.000086       0.000048      0.000392  \n",
       "41033       0.000097       0.000060      0.000392  \n",
       "215253      0.000107       0.000060      0.000491  \n",
       "41102       0.000118       0.000060      0.000589  \n",
       "12508       0.000129       0.000060      0.000687  \n",
       "159990      0.000139       0.000060      0.000785  \n",
       "40291       0.000150       0.000060      0.000883  \n",
       "146740      0.000161       0.000072      0.000883  \n",
       "40467       0.000172       0.000072      0.000981  \n",
       "155639      0.000182       0.000072      0.001079  \n",
       "40781       0.000193       0.000084      0.001079  \n",
       "41096       0.000204       0.000084      0.001177  \n",
       "140299      0.000214       0.000084      0.001276  "
      ]
     },
     "execution_count": 80,
     "metadata": {},
     "output_type": "execute_result"
    }
   ],
   "source": [
    "def get_yprobs_sorted_proportions(df_ytest,col_ytrue,col_yprobs):\n",
    "    \"\"\"Sort the df_ytest by predicted probabilities and return\n",
    "       dataframe with various proportions.\n",
    "       \n",
    "    Parameters:\n",
    "    ------------\n",
    "    df_ytest: pd.core.frame.DataFrame\n",
    "        Test dataframe\n",
    "    col_ytrue: str\n",
    "        Name of column for true label.\n",
    "    col_yprobs: str\n",
    "        Name of column for predicted probabilities \n",
    "    \"\"\"\n",
    "\n",
    "    df_ytest = df_ytest.sort_values(col_yprobs)\n",
    "    n_test = len(df_ytest)\n",
    "    sum_test = df_ytest[col_ytrue].sum()\n",
    "\n",
    "    df_ytest['cum_n_pop'] = range(1,n_test+1)\n",
    "    df_ytest['cum_n_good'] = df_ytest['good_bad'].cumsum()\n",
    "    df_ytest['cum_n_bad'] = (df_ytest['cum_n_pop']\n",
    "                             - df_ytest['cum_n_good'])\n",
    "\n",
    "    df_ytest['cum_perc_pop'] = df_ytest['cum_n_pop'] / n_test\n",
    "    df_ytest['cum_perc_good'] = df_ytest['cum_n_good'] / sum_test\n",
    "    df_ytest['cum_perc_bad'] = (df_ytest['cum_n_bad'] \n",
    "                                / (n_test - sum_test))\n",
    "    \n",
    "    return df_ytest\n",
    "\n",
    "ytest = get_yprobs_sorted_proportions(ytest,'good_bad','yprobs')\n",
    "ytest.head(20)"
   ]
  },
  {
   "cell_type": "markdown",
   "metadata": {},
   "source": [
    "## Plot Gini Curve"
   ]
  },
  {
   "cell_type": "code",
   "execution_count": 81,
   "metadata": {
    "ExecuteTime": {
     "end_time": "2020-04-02T01:28:26.739976Z",
     "start_time": "2020-04-02T01:28:26.373706Z"
    }
   },
   "outputs": [
    {
     "data": {
      "image/png": "[encoded data removed]",
      "text/plain": [
       "<Figure size 432x288 with 1 Axes>"
      ]
     },
     "metadata": {
      "image/png": {
       "height": 282,
       "width": 389
      }
     },
     "output_type": "display_data"
    }
   ],
   "source": [
    "def plot_gini(df_ytest_proportions,col_ytrue,col_yprobs):\n",
    "    \"\"\"Plot Kolmogorov-Smirnov Curve.\n",
    "    \n",
    "    Parameters:\n",
    "    ------------\n",
    "    df_ytest_proportions: pd.core.frame.DataFrame\n",
    "        Pandas dataframe with at least two columns:\n",
    "        - cum_perc_pop\n",
    "        - cum_perc_bad\n",
    "        \n",
    "    Usage:\n",
    "    -------\n",
    "    df_ytest = get_yprobs_sorted_proportions(\n",
    "                   df_ytest,'ytrue','yprobs')\n",
    "    \n",
    "    plot_gini(df_ytest,'ytrue','yprobs')\n",
    "\n",
    "    \"\"\"\n",
    "    from sklearn import metrics\n",
    "    auc = metrics.roc_auc_score(\n",
    "        df_ytest_proportions[col_ytrue],\n",
    "        df_ytest_proportions[col_yprobs])\n",
    "\n",
    "    gini = 2*auc-1\n",
    "\n",
    "    x = df_ytest_proportions['cum_perc_pop']\n",
    "    y = df_ytest_proportions['cum_perc_bad']\n",
    "\n",
    "    plt.plot(x,y,label=f'Gini = {gini:.4f}')\n",
    "    plt.plot(x,x,ls='--',c='k')\n",
    "\n",
    "    plt.xlabel('Cumulative % Population')\n",
    "    plt.ylabel('Cumulative % Bad')\n",
    "    plt.title('Gini')\n",
    "\n",
    "    plt.legend(loc=2)\n",
    "    plt.show()\n",
    "\n",
    "plot_gini(ytest,'good_bad','yprobs')"
   ]
  },
  {
   "cell_type": "code",
   "execution_count": 82,
   "metadata": {
    "ExecuteTime": {
     "end_time": "2020-04-02T01:28:26.825375Z",
     "start_time": "2020-04-02T01:28:26.742181Z"
    }
   },
   "outputs": [
    {
     "name": "stdout",
     "output_type": "stream",
     "text": [
      "0.6970500431326075 0.3941000862652151\n"
     ]
    }
   ],
   "source": [
    "auc = metrics.roc_auc_score(ytx, yprobs_tx)\n",
    "gini = auc * 2 - 1\n",
    "\n",
    "print(auc,gini)"
   ]
  },
  {
   "cell_type": "markdown",
   "metadata": {},
   "source": [
    "## Plot K-S curve"
   ]
  },
  {
   "cell_type": "code",
   "execution_count": 83,
   "metadata": {
    "ExecuteTime": {
     "end_time": "2020-04-02T01:28:26.918690Z",
     "start_time": "2020-04-02T01:28:26.829610Z"
    }
   },
   "outputs": [
    {
     "data": {
      "text/html": [
       "<div>\n",
       "<style scoped>\n",
       "    .dataframe tbody tr th:only-of-type {\n",
       "        vertical-align: middle;\n",
       "    }\n",
       "\n",
       "    .dataframe tbody tr th {\n",
       "        vertical-align: top;\n",
       "    }\n",
       "\n",
       "    .dataframe thead th {\n",
       "        text-align: right;\n",
       "    }\n",
       "</style>\n",
       "<table border=\"1\" class=\"dataframe\">\n",
       "  <thead>\n",
       "    <tr style=\"text-align: right;\">\n",
       "      <th></th>\n",
       "      <th>good_bad</th>\n",
       "      <th>yprobs</th>\n",
       "      <th>yhat</th>\n",
       "      <th>cum_n_pop</th>\n",
       "      <th>cum_n_good</th>\n",
       "      <th>cum_n_bad</th>\n",
       "      <th>cum_perc_pop</th>\n",
       "      <th>cum_perc_good</th>\n",
       "      <th>cum_perc_bad</th>\n",
       "    </tr>\n",
       "  </thead>\n",
       "  <tbody>\n",
       "    <tr>\n",
       "      <th>42396</th>\n",
       "      <td>0</td>\n",
       "      <td>0.431262</td>\n",
       "      <td>0</td>\n",
       "      <td>1</td>\n",
       "      <td>0</td>\n",
       "      <td>1</td>\n",
       "      <td>0.000011</td>\n",
       "      <td>0.000000</td>\n",
       "      <td>0.000098</td>\n",
       "    </tr>\n",
       "    <tr>\n",
       "      <th>13858</th>\n",
       "      <td>1</td>\n",
       "      <td>0.457426</td>\n",
       "      <td>0</td>\n",
       "      <td>2</td>\n",
       "      <td>1</td>\n",
       "      <td>1</td>\n",
       "      <td>0.000021</td>\n",
       "      <td>0.000012</td>\n",
       "      <td>0.000098</td>\n",
       "    </tr>\n",
       "  </tbody>\n",
       "</table>\n",
       "</div>"
      ],
      "text/plain": [
       "       good_bad    yprobs  yhat  cum_n_pop  cum_n_good  cum_n_bad  \\\n",
       "42396         0  0.431262     0          1           0          1   \n",
       "13858         1  0.457426     0          2           1          1   \n",
       "\n",
       "       cum_perc_pop  cum_perc_good  cum_perc_bad  \n",
       "42396      0.000011       0.000000      0.000098  \n",
       "13858      0.000021       0.000012      0.000098  "
      ]
     },
     "execution_count": 83,
     "metadata": {},
     "output_type": "execute_result"
    }
   ],
   "source": [
    "ytest.head(2)"
   ]
  },
  {
   "cell_type": "code",
   "execution_count": 84,
   "metadata": {
    "ExecuteTime": {
     "end_time": "2020-04-02T01:28:27.378522Z",
     "start_time": "2020-04-02T01:28:26.920570Z"
    }
   },
   "outputs": [
    {
     "data": {
      "image/png": "[encoded data removed]",
      "text/plain": [
       "<Figure size 432x288 with 1 Axes>"
      ]
     },
     "metadata": {
      "image/png": {
       "height": 282,
       "width": 389
      }
     },
     "output_type": "display_data"
    }
   ],
   "source": [
    "def plot_ks(df_ytest_proportions,col_yprobs,\n",
    "            col_cum_perc_good,col_cum_perc_bad):\n",
    "    \"\"\"Plot Kolmogorov-Smirnov Curve.\n",
    "\n",
    "    Parameters:\n",
    "    ------------\n",
    "    df_ytest_proportions: pd.core.frame.DataFrame\n",
    "        Pandas dataframe with at least three columns:\n",
    "        - yprob\n",
    "        - cum_perc_good\n",
    "        - cum_perc_bad\n",
    "    col_yprobs: str\n",
    "        Name of column for test probabilities\n",
    "    col_cum_perc_good: str\n",
    "        Name of column for cumulative percent for good\n",
    "    col_cum_perc_bad: str\n",
    "        Name of column for cumulative percent for bad\n",
    "\n",
    "    Usage:\n",
    "    -------\n",
    "    df_ytest = get_yprobs_sorted_proportions(\n",
    "                   df_ytest,'ytrue','yprobs')\n",
    "\n",
    "    plot_ks(ytest,'yprobs','cum_perc_good','cum_perc_bad')\n",
    "    \"\"\"\n",
    "    x = df_ytest_proportions[col_yprobs]\n",
    "    y1 = df_ytest_proportions[col_cum_perc_bad]\n",
    "    y2 = df_ytest_proportions[col_cum_perc_good]\n",
    "\n",
    "    KS = max(  df_ytest_proportions[col_cum_perc_bad]\n",
    "             - df_ytest_proportions[col_cum_perc_good]\n",
    "            )\n",
    "    KS = round(KS,4)\n",
    "    \n",
    "    plt.plot(x,y1,color='red',label=f'KS = {KS}')\n",
    "    plt.plot(x,y2,color='blue')\n",
    "\n",
    "    plt.xlabel('Estimated Probability for being Good')\n",
    "    plt.ylabel('Cumulative %')\n",
    "    plt.title('Kolmogorov-Smirnov')\n",
    "\n",
    "    plt.legend(loc=2)\n",
    "    plt.show()\n",
    "\n",
    "plot_ks(ytest,'yprobs','cum_perc_good','cum_perc_bad')"
   ]
  },
  {
   "cell_type": "code",
   "execution_count": 85,
   "metadata": {
    "ExecuteTime": {
     "end_time": "2020-04-02T01:28:27.451052Z",
     "start_time": "2020-04-02T01:28:27.381069Z"
    }
   },
   "outputs": [
    {
     "data": {
      "text/plain": [
       "0.28957666094557605"
      ]
     },
     "execution_count": 85,
     "metadata": {},
     "output_type": "execute_result"
    }
   ],
   "source": [
    "KS = max(ytest['cum_perc_bad'] - ytest['cum_perc_good'])\n",
    "KS"
   ]
  },
  {
   "cell_type": "markdown",
   "metadata": {},
   "source": [
    "# Create Scorecard\n",
    "\n",
    "![](../images/score_variable.png)\n",
    "![](../images/score_intercept.png)"
   ]
  },
  {
   "cell_type": "code",
   "execution_count": 91,
   "metadata": {
    "ExecuteTime": {
     "end_time": "2020-04-02T01:30:33.758775Z",
     "start_time": "2020-04-02T01:30:33.685990Z"
    }
   },
   "outputs": [
    {
     "data": {
      "text/html": [
       "<div>\n",
       "<style scoped>\n",
       "    .dataframe tbody tr th:only-of-type {\n",
       "        vertical-align: middle;\n",
       "    }\n",
       "\n",
       "    .dataframe tbody tr th {\n",
       "        vertical-align: top;\n",
       "    }\n",
       "\n",
       "    .dataframe thead th {\n",
       "        text-align: right;\n",
       "    }\n",
       "</style>\n",
       "<table border=\"1\" class=\"dataframe\">\n",
       "  <thead>\n",
       "    <tr style=\"text-align: right;\">\n",
       "      <th></th>\n",
       "      <th>feature</th>\n",
       "      <th>coef</th>\n",
       "      <th>p_value</th>\n",
       "      <th>orig_feature</th>\n",
       "      <th>n_cats</th>\n",
       "    </tr>\n",
       "  </thead>\n",
       "  <tbody>\n",
       "    <tr>\n",
       "      <th>0</th>\n",
       "      <td>intercept</td>\n",
       "      <td>3.08</td>\n",
       "      <td>NaN</td>\n",
       "      <td>intercept</td>\n",
       "      <td>1</td>\n",
       "    </tr>\n",
       "    <tr>\n",
       "      <th>1</th>\n",
       "      <td>grade:B</td>\n",
       "      <td>-0.35</td>\n",
       "      <td>0.00</td>\n",
       "      <td>grade</td>\n",
       "      <td>6</td>\n",
       "    </tr>\n",
       "    <tr>\n",
       "      <th>2</th>\n",
       "      <td>grade:C</td>\n",
       "      <td>-0.55</td>\n",
       "      <td>0.00</td>\n",
       "      <td>grade</td>\n",
       "      <td>6</td>\n",
       "    </tr>\n",
       "    <tr>\n",
       "      <th>3</th>\n",
       "      <td>grade:D</td>\n",
       "      <td>-0.72</td>\n",
       "      <td>0.00</td>\n",
       "      <td>grade</td>\n",
       "      <td>6</td>\n",
       "    </tr>\n",
       "    <tr>\n",
       "      <th>4</th>\n",
       "      <td>grade:E</td>\n",
       "      <td>-0.86</td>\n",
       "      <td>0.00</td>\n",
       "      <td>grade</td>\n",
       "      <td>6</td>\n",
       "    </tr>\n",
       "    <tr>\n",
       "      <th>5</th>\n",
       "      <td>grade:F</td>\n",
       "      <td>-1.01</td>\n",
       "      <td>0.00</td>\n",
       "      <td>grade</td>\n",
       "      <td>6</td>\n",
       "    </tr>\n",
       "    <tr>\n",
       "      <th>6</th>\n",
       "      <td>grade:G</td>\n",
       "      <td>-1.14</td>\n",
       "      <td>0.00</td>\n",
       "      <td>grade</td>\n",
       "      <td>6</td>\n",
       "    </tr>\n",
       "    <tr>\n",
       "      <th>7</th>\n",
       "      <td>home_ownership:OWN</td>\n",
       "      <td>0.11</td>\n",
       "      <td>0.00</td>\n",
       "      <td>home_ownership</td>\n",
       "      <td>2</td>\n",
       "    </tr>\n",
       "    <tr>\n",
       "      <th>8</th>\n",
       "      <td>home_ownership:MORTGAGE</td>\n",
       "      <td>0.14</td>\n",
       "      <td>0.00</td>\n",
       "      <td>home_ownership</td>\n",
       "      <td>2</td>\n",
       "    </tr>\n",
       "    <tr>\n",
       "      <th>9</th>\n",
       "      <td>addr_state:NM_VA</td>\n",
       "      <td>-0.02</td>\n",
       "      <td>0.49</td>\n",
       "      <td>addr_state</td>\n",
       "      <td>10</td>\n",
       "    </tr>\n",
       "  </tbody>\n",
       "</table>\n",
       "</div>"
      ],
      "text/plain": [
       "                   feature  coef  p_value    orig_feature  n_cats\n",
       "0                intercept  3.08      NaN       intercept       1\n",
       "1                  grade:B -0.35     0.00           grade       6\n",
       "2                  grade:C -0.55     0.00           grade       6\n",
       "3                  grade:D -0.72     0.00           grade       6\n",
       "4                  grade:E -0.86     0.00           grade       6\n",
       "5                  grade:F -1.01     0.00           grade       6\n",
       "6                  grade:G -1.14     0.00           grade       6\n",
       "7       home_ownership:OWN  0.11     0.00  home_ownership       2\n",
       "8  home_ownership:MORTGAGE  0.14     0.00  home_ownership       2\n",
       "9         addr_state:NM_VA -0.02     0.49      addr_state      10"
      ]
     },
     "execution_count": 91,
     "metadata": {},
     "output_type": "execute_result"
    }
   ],
   "source": [
    "df_summary.round(2).head(10)"
   ]
  },
  {
   "cell_type": "code",
   "execution_count": 92,
   "metadata": {
    "ExecuteTime": {
     "end_time": "2020-04-02T01:30:34.610750Z",
     "start_time": "2020-04-02T01:30:34.565419Z"
    }
   },
   "outputs": [
    {
     "data": {
      "text/plain": [
       "550"
      ]
     },
     "execution_count": 92,
     "metadata": {},
     "output_type": "execute_result"
    }
   ],
   "source": [
    "min_score = 300\n",
    "max_score = 850\n",
    "\n",
    "range_score = max_score - min_score\n",
    "range_score"
   ]
  },
  {
   "cell_type": "code",
   "execution_count": 93,
   "metadata": {
    "ExecuteTime": {
     "end_time": "2020-04-02T01:30:35.506232Z",
     "start_time": "2020-04-02T01:30:35.453222Z"
    }
   },
   "outputs": [
    {
     "data": {
      "text/plain": [
       "orig_feature\n",
       "addr_state                    -0.020646\n",
       "annual_inc                    -0.157204\n",
       "emp_length                     0.198978\n",
       "grade                         -1.139969\n",
       "home_ownership                 0.106299\n",
       "initial_list_status            0.045202\n",
       "inq_last_6mths                -0.454816\n",
       "installment                   -0.703469\n",
       "int_rate                      -0.805943\n",
       "intercept                      3.079220\n",
       "mths_since_earliest_cr_line    0.019069\n",
       "mths_since_issue_d            -1.080057\n",
       "mths_since_last_delinq        -0.117333\n",
       "open_acc                      -0.284495\n",
       "purpose                        0.299241\n",
       "term                          -0.094063\n",
       "total_rev_hi_lim               0.168161\n",
       "verification_status           -0.041636\n",
       "Name: coef, dtype: float64"
      ]
     },
     "execution_count": 93,
     "metadata": {},
     "output_type": "execute_result"
    }
   ],
   "source": [
    "df_summary.groupby('orig_feature')['coef'].min()"
   ]
  },
  {
   "cell_type": "code",
   "execution_count": 94,
   "metadata": {
    "ExecuteTime": {
     "end_time": "2020-04-02T01:30:36.343269Z",
     "start_time": "2020-04-02T01:30:36.277010Z"
    }
   },
   "outputs": [
    {
     "data": {
      "text/plain": [
       "(-7.94149194204161, 3.6866098990130527, 11.628101841054663)"
      ]
     },
     "execution_count": 94,
     "metadata": {},
     "output_type": "execute_result"
    }
   ],
   "source": [
    "min_sum_coef = df_summary.groupby('orig_feature')['coef'].sum().min()\n",
    "\n",
    "max_sum_coef = df_summary.groupby('orig_feature')['coef'].sum().max()\n",
    "\n",
    "\n",
    "range_sum_coef = max_sum_coef - min_sum_coef\n",
    "\n",
    "min_sum_coef, max_sum_coef, range_sum_coef"
   ]
  },
  {
   "cell_type": "code",
   "execution_count": 95,
   "metadata": {
    "ExecuteTime": {
     "end_time": "2020-04-02T01:30:37.131120Z",
     "start_time": "2020-04-02T01:30:37.085242Z"
    }
   },
   "outputs": [],
   "source": [
    "df_scorecard = df_summary.drop('n_cats',axis=1)"
   ]
  },
  {
   "cell_type": "code",
   "execution_count": 96,
   "metadata": {
    "ExecuteTime": {
     "end_time": "2020-04-02T01:30:38.257995Z",
     "start_time": "2020-04-02T01:30:38.189656Z"
    }
   },
   "outputs": [
    {
     "data": {
      "text/html": [
       "<div>\n",
       "<style scoped>\n",
       "    .dataframe tbody tr th:only-of-type {\n",
       "        vertical-align: middle;\n",
       "    }\n",
       "\n",
       "    .dataframe tbody tr th {\n",
       "        vertical-align: top;\n",
       "    }\n",
       "\n",
       "    .dataframe thead th {\n",
       "        text-align: right;\n",
       "    }\n",
       "</style>\n",
       "<table border=\"1\" class=\"dataframe\">\n",
       "  <thead>\n",
       "    <tr style=\"text-align: right;\">\n",
       "      <th></th>\n",
       "      <th>feature</th>\n",
       "      <th>coef</th>\n",
       "      <th>p_value</th>\n",
       "      <th>orig_feature</th>\n",
       "      <th>score_raw</th>\n",
       "    </tr>\n",
       "  </thead>\n",
       "  <tbody>\n",
       "    <tr>\n",
       "      <th>0</th>\n",
       "      <td>intercept</td>\n",
       "      <td>3.079220</td>\n",
       "      <td>NaN</td>\n",
       "      <td>intercept</td>\n",
       "      <td>145.644661</td>\n",
       "    </tr>\n",
       "    <tr>\n",
       "      <th>1</th>\n",
       "      <td>grade:B</td>\n",
       "      <td>-0.348211</td>\n",
       "      <td>1.250293e-15</td>\n",
       "      <td>grade</td>\n",
       "      <td>-16.470097</td>\n",
       "    </tr>\n",
       "    <tr>\n",
       "      <th>2</th>\n",
       "      <td>grade:C</td>\n",
       "      <td>-0.550283</td>\n",
       "      <td>4.663642e-30</td>\n",
       "      <td>grade</td>\n",
       "      <td>-26.027966</td>\n",
       "    </tr>\n",
       "    <tr>\n",
       "      <th>3</th>\n",
       "      <td>grade:D</td>\n",
       "      <td>-0.715277</td>\n",
       "      <td>4.720558e-43</td>\n",
       "      <td>grade</td>\n",
       "      <td>-33.832027</td>\n",
       "    </tr>\n",
       "    <tr>\n",
       "      <th>4</th>\n",
       "      <td>grade:E</td>\n",
       "      <td>-0.857529</td>\n",
       "      <td>7.101066e-50</td>\n",
       "      <td>grade</td>\n",
       "      <td>-40.560437</td>\n",
       "    </tr>\n",
       "  </tbody>\n",
       "</table>\n",
       "</div>"
      ],
      "text/plain": [
       "     feature      coef       p_value orig_feature   score_raw\n",
       "0  intercept  3.079220           NaN    intercept  145.644661\n",
       "1    grade:B -0.348211  1.250293e-15        grade  -16.470097\n",
       "2    grade:C -0.550283  4.663642e-30        grade  -26.027966\n",
       "3    grade:D -0.715277  4.720558e-43        grade  -33.832027\n",
       "4    grade:E -0.857529  7.101066e-50        grade  -40.560437"
      ]
     },
     "execution_count": 96,
     "metadata": {},
     "output_type": "execute_result"
    }
   ],
   "source": [
    "range_score = max_score - min_score\n",
    "range_sum_coef = max_sum_coef - min_sum_coef\n",
    "factor = range_score / range_sum_coef\n",
    "\n",
    "df_scorecard['score_raw'] = df_scorecard['coef'] * factor \n",
    "\n",
    "df_scorecard.head()"
   ]
  },
  {
   "cell_type": "code",
   "execution_count": 97,
   "metadata": {
    "ExecuteTime": {
     "end_time": "2020-04-02T01:30:39.205332Z",
     "start_time": "2020-04-02T01:30:39.156443Z"
    }
   },
   "outputs": [
    {
     "data": {
      "text/plain": [
       "-13744.1175420487"
      ]
     },
     "execution_count": 97,
     "metadata": {},
     "output_type": "execute_result"
    }
   ],
   "source": [
    "intercept = df_scorecard['coef'][0]\n",
    "intercept_diff = intercept - min_score\n",
    "\n",
    "intercept_score =  ((intercept_diff / range_sum_coef) * range_score\n",
    "            + min_score)\n",
    "\n",
    "intercept_score"
   ]
  },
  {
   "cell_type": "code",
   "execution_count": 98,
   "metadata": {
    "ExecuteTime": {
     "end_time": "2020-04-02T01:30:43.401680Z",
     "start_time": "2020-04-02T01:30:43.357615Z"
    }
   },
   "outputs": [],
   "source": [
    "df_scorecard['score_raw'][0] = intercept_score"
   ]
  },
  {
   "cell_type": "code",
   "execution_count": 99,
   "metadata": {
    "ExecuteTime": {
     "end_time": "2020-04-02T01:30:44.316623Z",
     "start_time": "2020-04-02T01:30:44.241663Z"
    }
   },
   "outputs": [
    {
     "data": {
      "text/html": [
       "<div>\n",
       "<style scoped>\n",
       "    .dataframe tbody tr th:only-of-type {\n",
       "        vertical-align: middle;\n",
       "    }\n",
       "\n",
       "    .dataframe tbody tr th {\n",
       "        vertical-align: top;\n",
       "    }\n",
       "\n",
       "    .dataframe thead th {\n",
       "        text-align: right;\n",
       "    }\n",
       "</style>\n",
       "<table border=\"1\" class=\"dataframe\">\n",
       "  <thead>\n",
       "    <tr style=\"text-align: right;\">\n",
       "      <th></th>\n",
       "      <th>feature</th>\n",
       "      <th>coef</th>\n",
       "      <th>p_value</th>\n",
       "      <th>orig_feature</th>\n",
       "      <th>score_raw</th>\n",
       "      <th>score_prel</th>\n",
       "    </tr>\n",
       "  </thead>\n",
       "  <tbody>\n",
       "    <tr>\n",
       "      <th>0</th>\n",
       "      <td>intercept</td>\n",
       "      <td>3.079220</td>\n",
       "      <td>NaN</td>\n",
       "      <td>intercept</td>\n",
       "      <td>-13744.117542</td>\n",
       "      <td>-13744.0</td>\n",
       "    </tr>\n",
       "    <tr>\n",
       "      <th>1</th>\n",
       "      <td>grade:B</td>\n",
       "      <td>-0.348211</td>\n",
       "      <td>1.250293e-15</td>\n",
       "      <td>grade</td>\n",
       "      <td>-16.470097</td>\n",
       "      <td>-16.0</td>\n",
       "    </tr>\n",
       "    <tr>\n",
       "      <th>2</th>\n",
       "      <td>grade:C</td>\n",
       "      <td>-0.550283</td>\n",
       "      <td>4.663642e-30</td>\n",
       "      <td>grade</td>\n",
       "      <td>-26.027966</td>\n",
       "      <td>-26.0</td>\n",
       "    </tr>\n",
       "    <tr>\n",
       "      <th>3</th>\n",
       "      <td>grade:D</td>\n",
       "      <td>-0.715277</td>\n",
       "      <td>4.720558e-43</td>\n",
       "      <td>grade</td>\n",
       "      <td>-33.832027</td>\n",
       "      <td>-34.0</td>\n",
       "    </tr>\n",
       "    <tr>\n",
       "      <th>4</th>\n",
       "      <td>grade:E</td>\n",
       "      <td>-0.857529</td>\n",
       "      <td>7.101066e-50</td>\n",
       "      <td>grade</td>\n",
       "      <td>-40.560437</td>\n",
       "      <td>-41.0</td>\n",
       "    </tr>\n",
       "  </tbody>\n",
       "</table>\n",
       "</div>"
      ],
      "text/plain": [
       "     feature      coef       p_value orig_feature     score_raw  score_prel\n",
       "0  intercept  3.079220           NaN    intercept -13744.117542    -13744.0\n",
       "1    grade:B -0.348211  1.250293e-15        grade    -16.470097       -16.0\n",
       "2    grade:C -0.550283  4.663642e-30        grade    -26.027966       -26.0\n",
       "3    grade:D -0.715277  4.720558e-43        grade    -33.832027       -34.0\n",
       "4    grade:E -0.857529  7.101066e-50        grade    -40.560437       -41.0"
      ]
     },
     "execution_count": 99,
     "metadata": {},
     "output_type": "execute_result"
    }
   ],
   "source": [
    "df_scorecard['score_prel'] = df_scorecard['score_raw'].round()\n",
    "df_scorecard.head()"
   ]
  },
  {
   "cell_type": "code",
   "execution_count": 100,
   "metadata": {
    "ExecuteTime": {
     "end_time": "2020-04-02T01:30:45.116898Z",
     "start_time": "2020-04-02T01:30:45.069711Z"
    }
   },
   "outputs": [
    {
     "data": {
      "text/plain": [
       "-13936.0"
      ]
     },
     "execution_count": 100,
     "metadata": {},
     "output_type": "execute_result"
    }
   ],
   "source": [
    "min_sum_score_prel = df_scorecard.groupby('orig_feature')['score_prel'].min().sum()\n",
    "min_sum_score_prel"
   ]
  },
  {
   "cell_type": "code",
   "execution_count": 101,
   "metadata": {
    "ExecuteTime": {
     "end_time": "2020-04-02T01:30:46.291109Z",
     "start_time": "2020-04-02T01:30:46.193416Z"
    }
   },
   "outputs": [
    {
     "data": {
      "text/plain": [
       "-13672.0"
      ]
     },
     "execution_count": 101,
     "metadata": {},
     "output_type": "execute_result"
    }
   ],
   "source": [
    "max_sum_score_prel = df_scorecard.groupby('orig_feature')['score_prel'].max(). sum()\n",
    "max_sum_score_prel"
   ]
  },
  {
   "cell_type": "code",
   "execution_count": 102,
   "metadata": {
    "ExecuteTime": {
     "end_time": "2020-04-02T01:30:47.913776Z",
     "start_time": "2020-04-02T01:30:47.862240Z"
    }
   },
   "outputs": [
    {
     "data": {
      "text/html": [
       "<div>\n",
       "<style scoped>\n",
       "    .dataframe tbody tr th:only-of-type {\n",
       "        vertical-align: middle;\n",
       "    }\n",
       "\n",
       "    .dataframe tbody tr th {\n",
       "        vertical-align: top;\n",
       "    }\n",
       "\n",
       "    .dataframe thead th {\n",
       "        text-align: right;\n",
       "    }\n",
       "</style>\n",
       "<table border=\"1\" class=\"dataframe\">\n",
       "  <thead>\n",
       "    <tr style=\"text-align: right;\">\n",
       "      <th></th>\n",
       "      <th>feature</th>\n",
       "      <th>coef</th>\n",
       "      <th>p_value</th>\n",
       "      <th>orig_feature</th>\n",
       "      <th>score_raw</th>\n",
       "      <th>score_prel</th>\n",
       "      <th>score_diff</th>\n",
       "    </tr>\n",
       "  </thead>\n",
       "  <tbody>\n",
       "    <tr>\n",
       "      <th>0</th>\n",
       "      <td>intercept</td>\n",
       "      <td>3.079220</td>\n",
       "      <td>NaN</td>\n",
       "      <td>intercept</td>\n",
       "      <td>-13744.117542</td>\n",
       "      <td>-13744.0</td>\n",
       "      <td>0.117542</td>\n",
       "    </tr>\n",
       "    <tr>\n",
       "      <th>1</th>\n",
       "      <td>grade:B</td>\n",
       "      <td>-0.348211</td>\n",
       "      <td>1.250293e-15</td>\n",
       "      <td>grade</td>\n",
       "      <td>-16.470097</td>\n",
       "      <td>-16.0</td>\n",
       "      <td>0.470097</td>\n",
       "    </tr>\n",
       "    <tr>\n",
       "      <th>2</th>\n",
       "      <td>grade:C</td>\n",
       "      <td>-0.550283</td>\n",
       "      <td>4.663642e-30</td>\n",
       "      <td>grade</td>\n",
       "      <td>-26.027966</td>\n",
       "      <td>-26.0</td>\n",
       "      <td>0.027966</td>\n",
       "    </tr>\n",
       "    <tr>\n",
       "      <th>3</th>\n",
       "      <td>grade:D</td>\n",
       "      <td>-0.715277</td>\n",
       "      <td>4.720558e-43</td>\n",
       "      <td>grade</td>\n",
       "      <td>-33.832027</td>\n",
       "      <td>-34.0</td>\n",
       "      <td>-0.167973</td>\n",
       "    </tr>\n",
       "    <tr>\n",
       "      <th>4</th>\n",
       "      <td>grade:E</td>\n",
       "      <td>-0.857529</td>\n",
       "      <td>7.101066e-50</td>\n",
       "      <td>grade</td>\n",
       "      <td>-40.560437</td>\n",
       "      <td>-41.0</td>\n",
       "      <td>-0.439563</td>\n",
       "    </tr>\n",
       "  </tbody>\n",
       "</table>\n",
       "</div>"
      ],
      "text/plain": [
       "     feature      coef       p_value orig_feature     score_raw  score_prel  \\\n",
       "0  intercept  3.079220           NaN    intercept -13744.117542    -13744.0   \n",
       "1    grade:B -0.348211  1.250293e-15        grade    -16.470097       -16.0   \n",
       "2    grade:C -0.550283  4.663642e-30        grade    -26.027966       -26.0   \n",
       "3    grade:D -0.715277  4.720558e-43        grade    -33.832027       -34.0   \n",
       "4    grade:E -0.857529  7.101066e-50        grade    -40.560437       -41.0   \n",
       "\n",
       "   score_diff  \n",
       "0    0.117542  \n",
       "1    0.470097  \n",
       "2    0.027966  \n",
       "3   -0.167973  \n",
       "4   -0.439563  "
      ]
     },
     "execution_count": 102,
     "metadata": {},
     "output_type": "execute_result"
    }
   ],
   "source": [
    "df_scorecard['score_diff'] = df_scorecard['score_prel'] - df_scorecard['score_raw']\n",
    "df_scorecard.head()"
   ]
  },
  {
   "cell_type": "code",
   "execution_count": 103,
   "metadata": {
    "ExecuteTime": {
     "end_time": "2020-04-02T01:30:48.762276Z",
     "start_time": "2020-04-02T01:30:48.701302Z"
    }
   },
   "outputs": [],
   "source": [
    "# if we have scores between 300 and 850, we dont have to modify.\n",
    "# but, lets suppose due to rounding accumulation, max score is 851\n",
    "# then we subtract 1 from highest difference score.\n",
    "# find maximum difference variable"
   ]
  },
  {
   "cell_type": "code",
   "execution_count": 154,
   "metadata": {
    "ExecuteTime": {
     "end_time": "2020-04-02T01:09:55.370225Z",
     "start_time": "2020-04-02T01:09:55.285068Z"
    }
   },
   "outputs": [
    {
     "data": {
      "text/plain": [
       "46"
      ]
     },
     "execution_count": 154,
     "metadata": {},
     "output_type": "execute_result"
    }
   ],
   "source": [
    "idx_max_diff = df_scorecard['score_diff'].argmax()\n",
    "idx_max_diff"
   ]
  },
  {
   "cell_type": "code",
   "execution_count": 158,
   "metadata": {
    "ExecuteTime": {
     "end_time": "2020-04-02T01:11:35.626088Z",
     "start_time": "2020-04-02T01:11:35.576914Z"
    }
   },
   "outputs": [
    {
     "data": {
      "text/plain": [
       "feature         inq_last_6mths:1\n",
       "coef                   -0.115751\n",
       "p_value               6.0618e-19\n",
       "orig_feature      inq_last_6mths\n",
       "score_raw                -11.487\n",
       "score_prel                   -11\n",
       "score_diff              0.487035\n",
       "Name: 46, dtype: object"
      ]
     },
     "execution_count": 158,
     "metadata": {},
     "output_type": "execute_result"
    }
   ],
   "source": [
    "df_scorecard.loc[idx_max_diff]"
   ]
  },
  {
   "cell_type": "code",
   "execution_count": 160,
   "metadata": {
    "ExecuteTime": {
     "end_time": "2020-04-02T01:15:20.750612Z",
     "start_time": "2020-04-02T01:15:20.653529Z"
    }
   },
   "outputs": [
    {
     "data": {
      "text/plain": [
       "-12.0"
      ]
     },
     "execution_count": 160,
     "metadata": {},
     "output_type": "execute_result"
    }
   ],
   "source": [
    "new_value = df_scorecard.loc[idx_max_diff]['score_prel'] - 1\n",
    "new_value"
   ]
  },
  {
   "cell_type": "code",
   "execution_count": 166,
   "metadata": {
    "ExecuteTime": {
     "end_time": "2020-04-02T01:19:47.533737Z",
     "start_time": "2020-04-02T01:19:47.485074Z"
    }
   },
   "outputs": [
    {
     "data": {
      "text/html": [
       "<div>\n",
       "<style scoped>\n",
       "    .dataframe tbody tr th:only-of-type {\n",
       "        vertical-align: middle;\n",
       "    }\n",
       "\n",
       "    .dataframe tbody tr th {\n",
       "        vertical-align: top;\n",
       "    }\n",
       "\n",
       "    .dataframe thead th {\n",
       "        text-align: right;\n",
       "    }\n",
       "</style>\n",
       "<table border=\"1\" class=\"dataframe\">\n",
       "  <thead>\n",
       "    <tr style=\"text-align: right;\">\n",
       "      <th></th>\n",
       "      <th>feature</th>\n",
       "      <th>coef</th>\n",
       "      <th>p_value</th>\n",
       "      <th>orig_feature</th>\n",
       "      <th>score_raw</th>\n",
       "      <th>score_prel</th>\n",
       "      <th>score_diff</th>\n",
       "      <th>score</th>\n",
       "    </tr>\n",
       "  </thead>\n",
       "  <tbody>\n",
       "    <tr>\n",
       "      <th>0</th>\n",
       "      <td>intercept</td>\n",
       "      <td>3.079220</td>\n",
       "      <td>NaN</td>\n",
       "      <td>intercept</td>\n",
       "      <td>703.177389</td>\n",
       "      <td>703.0</td>\n",
       "      <td>-0.177389</td>\n",
       "      <td>703.0</td>\n",
       "    </tr>\n",
       "    <tr>\n",
       "      <th>1</th>\n",
       "      <td>grade:B</td>\n",
       "      <td>-0.348211</td>\n",
       "      <td>1.250293e-15</td>\n",
       "      <td>grade</td>\n",
       "      <td>-34.556156</td>\n",
       "      <td>-35.0</td>\n",
       "      <td>-0.443844</td>\n",
       "      <td>-35.0</td>\n",
       "    </tr>\n",
       "    <tr>\n",
       "      <th>2</th>\n",
       "      <td>grade:C</td>\n",
       "      <td>-0.550283</td>\n",
       "      <td>4.663642e-30</td>\n",
       "      <td>grade</td>\n",
       "      <td>-54.609662</td>\n",
       "      <td>-55.0</td>\n",
       "      <td>-0.390338</td>\n",
       "      <td>-55.0</td>\n",
       "    </tr>\n",
       "    <tr>\n",
       "      <th>3</th>\n",
       "      <td>grade:D</td>\n",
       "      <td>-0.715277</td>\n",
       "      <td>4.720558e-43</td>\n",
       "      <td>grade</td>\n",
       "      <td>-70.983479</td>\n",
       "      <td>-71.0</td>\n",
       "      <td>-0.016521</td>\n",
       "      <td>-71.0</td>\n",
       "    </tr>\n",
       "    <tr>\n",
       "      <th>4</th>\n",
       "      <td>grade:E</td>\n",
       "      <td>-0.857529</td>\n",
       "      <td>7.101066e-50</td>\n",
       "      <td>grade</td>\n",
       "      <td>-85.100455</td>\n",
       "      <td>-85.0</td>\n",
       "      <td>0.100455</td>\n",
       "      <td>-85.0</td>\n",
       "    </tr>\n",
       "    <tr>\n",
       "      <th>5</th>\n",
       "      <td>grade:F</td>\n",
       "      <td>-1.011796</td>\n",
       "      <td>1.767375e-56</td>\n",
       "      <td>grade</td>\n",
       "      <td>-100.409816</td>\n",
       "      <td>-100.0</td>\n",
       "      <td>0.409816</td>\n",
       "      <td>-100.0</td>\n",
       "    </tr>\n",
       "    <tr>\n",
       "      <th>6</th>\n",
       "      <td>grade:G</td>\n",
       "      <td>-1.139969</td>\n",
       "      <td>1.025923e-51</td>\n",
       "      <td>grade</td>\n",
       "      <td>-113.129534</td>\n",
       "      <td>-113.0</td>\n",
       "      <td>0.129534</td>\n",
       "      <td>-113.0</td>\n",
       "    </tr>\n",
       "    <tr>\n",
       "      <th>7</th>\n",
       "      <td>home_ownership:OWN</td>\n",
       "      <td>0.106299</td>\n",
       "      <td>1.154583e-07</td>\n",
       "      <td>home_ownership</td>\n",
       "      <td>10.548980</td>\n",
       "      <td>11.0</td>\n",
       "      <td>0.451020</td>\n",
       "      <td>11.0</td>\n",
       "    </tr>\n",
       "    <tr>\n",
       "      <th>8</th>\n",
       "      <td>home_ownership:MORTGAGE</td>\n",
       "      <td>0.136705</td>\n",
       "      <td>8.024207e-28</td>\n",
       "      <td>home_ownership</td>\n",
       "      <td>13.566466</td>\n",
       "      <td>14.0</td>\n",
       "      <td>0.433534</td>\n",
       "      <td>14.0</td>\n",
       "    </tr>\n",
       "    <tr>\n",
       "      <th>9</th>\n",
       "      <td>addr_state:NM_VA</td>\n",
       "      <td>-0.020343</td>\n",
       "      <td>4.855318e-01</td>\n",
       "      <td>addr_state</td>\n",
       "      <td>-2.018819</td>\n",
       "      <td>-2.0</td>\n",
       "      <td>0.018819</td>\n",
       "      <td>-2.0</td>\n",
       "    </tr>\n",
       "  </tbody>\n",
       "</table>\n",
       "</div>"
      ],
      "text/plain": [
       "                   feature      coef       p_value    orig_feature  \\\n",
       "0                intercept  3.079220           NaN       intercept   \n",
       "1                  grade:B -0.348211  1.250293e-15           grade   \n",
       "2                  grade:C -0.550283  4.663642e-30           grade   \n",
       "3                  grade:D -0.715277  4.720558e-43           grade   \n",
       "4                  grade:E -0.857529  7.101066e-50           grade   \n",
       "5                  grade:F -1.011796  1.767375e-56           grade   \n",
       "6                  grade:G -1.139969  1.025923e-51           grade   \n",
       "7       home_ownership:OWN  0.106299  1.154583e-07  home_ownership   \n",
       "8  home_ownership:MORTGAGE  0.136705  8.024207e-28  home_ownership   \n",
       "9         addr_state:NM_VA -0.020343  4.855318e-01      addr_state   \n",
       "\n",
       "    score_raw  score_prel  score_diff  score  \n",
       "0  703.177389       703.0   -0.177389  703.0  \n",
       "1  -34.556156       -35.0   -0.443844  -35.0  \n",
       "2  -54.609662       -55.0   -0.390338  -55.0  \n",
       "3  -70.983479       -71.0   -0.016521  -71.0  \n",
       "4  -85.100455       -85.0    0.100455  -85.0  \n",
       "5 -100.409816      -100.0    0.409816 -100.0  \n",
       "6 -113.129534      -113.0    0.129534 -113.0  \n",
       "7   10.548980        11.0    0.451020   11.0  \n",
       "8   13.566466        14.0    0.433534   14.0  \n",
       "9   -2.018819        -2.0    0.018819   -2.0  "
      ]
     },
     "execution_count": 166,
     "metadata": {},
     "output_type": "execute_result"
    }
   ],
   "source": [
    "df_scorecard['score'] = df_scorecard['score_prel']\n",
    "df_scorecard['score'][idx_max_diff] = new_value\n",
    "\n",
    "df_scorecard.head(10)"
   ]
  },
  {
   "cell_type": "code",
   "execution_count": 163,
   "metadata": {
    "ExecuteTime": {
     "end_time": "2020-04-02T01:18:42.692429Z",
     "start_time": "2020-04-02T01:18:42.644857Z"
    }
   },
   "outputs": [
    {
     "data": {
      "text/plain": [
       "301.0"
      ]
     },
     "execution_count": 163,
     "metadata": {},
     "output_type": "execute_result"
    }
   ],
   "source": [
    "min_sum_score_prel = df_scorecard.groupby('orig_feature')['score'].min().sum()\n",
    "\n",
    "min_sum_score_prel"
   ]
  },
  {
   "cell_type": "code",
   "execution_count": 164,
   "metadata": {
    "ExecuteTime": {
     "end_time": "2020-04-02T01:19:01.622658Z",
     "start_time": "2020-04-02T01:19:01.563778Z"
    }
   },
   "outputs": [
    {
     "data": {
      "text/plain": [
       "850.0"
      ]
     },
     "execution_count": 164,
     "metadata": {},
     "output_type": "execute_result"
    }
   ],
   "source": [
    "max_sum_score_prel = df_scorecard.groupby('orig_feature')['score_prel'].max(). sum()\n",
    "max_sum_score_prel"
   ]
  },
  {
   "cell_type": "code",
   "execution_count": 165,
   "metadata": {
    "ExecuteTime": {
     "end_time": "2020-04-02T01:19:20.656132Z",
     "start_time": "2020-04-02T01:19:20.611710Z"
    }
   },
   "outputs": [],
   "source": [
    "# we have both min and max between 300 and 850"
   ]
  },
  {
   "cell_type": "code",
   "execution_count": null,
   "metadata": {},
   "outputs": [],
   "source": []
  }
 ],
 "metadata": {
  "kernelspec": {
   "display_name": "Python (dataSc)",
   "language": "python",
   "name": "datasc"
  },
  "language_info": {
   "codemirror_mode": {
    "name": "ipython",
    "version": 3
   },
   "file_extension": ".py",
   "mimetype": "text/x-python",
   "name": "python",
   "nbconvert_exporter": "python",
   "pygments_lexer": "ipython3",
   "version": "3.7.3"
  },
  "toc": {
   "base_numbering": 1,
   "nav_menu": {},
   "number_sections": true,
   "sideBar": true,
   "skip_h1_title": false,
   "title_cell": "Table of Contents",
   "title_sidebar": "Contents",
   "toc_cell": true,
   "toc_position": {},
   "toc_section_display": true,
   "toc_window_display": true
  }
 },
 "nbformat": 4,
 "nbformat_minor": 2
}

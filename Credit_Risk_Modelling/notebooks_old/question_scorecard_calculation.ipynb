{
 "cells": [
  {
   "cell_type": "markdown",
   "metadata": {
    "toc": true
   },
   "source": [
    "<h1>Table of Contents<span class=\"tocSkip\"></span></h1>\n",
    "<div class=\"toc\"><ul class=\"toc-item\"><li><span><a href=\"#Import-Libraries\" data-toc-modified-id=\"Import-Libraries-1\"><span class=\"toc-item-num\">1&nbsp;&nbsp;</span>Import Libraries</a></span></li><li><span><a href=\"#Creating-a-Scorecard\" data-toc-modified-id=\"Creating-a-Scorecard-2\"><span class=\"toc-item-num\">2&nbsp;&nbsp;</span>Creating a Scorecard</a></span><ul class=\"toc-item\"><li><span><a href=\"#Scorecard-formulas\" data-toc-modified-id=\"Scorecard-formulas-2.1\"><span class=\"toc-item-num\">2.1&nbsp;&nbsp;</span>Scorecard formulas</a></span></li></ul></li></ul></div>"
   ]
  },
  {
   "cell_type": "markdown",
   "metadata": {},
   "source": [
    "# Import Libraries"
   ]
  },
  {
   "cell_type": "code",
   "execution_count": 1,
   "metadata": {
    "ExecuteTime": {
     "end_time": "2020-04-08T15:50:23.433403Z",
     "start_time": "2020-04-08T15:50:22.980813Z"
    }
   },
   "outputs": [],
   "source": [
    "import numpy as np\n",
    "import pandas as pd"
   ]
  },
  {
   "cell_type": "markdown",
   "metadata": {},
   "source": [
    "# Creating a Scorecard"
   ]
  },
  {
   "cell_type": "code",
   "execution_count": 2,
   "metadata": {
    "ExecuteTime": {
     "end_time": "2020-04-08T15:50:23.755436Z",
     "start_time": "2020-04-08T15:50:23.435491Z"
    }
   },
   "outputs": [
    {
     "data": {
      "text/html": [
       "<div>\n",
       "<style scoped>\n",
       "    .dataframe tbody tr th:only-of-type {\n",
       "        vertical-align: middle;\n",
       "    }\n",
       "\n",
       "    .dataframe tbody tr th {\n",
       "        vertical-align: top;\n",
       "    }\n",
       "\n",
       "    .dataframe thead th {\n",
       "        text-align: right;\n",
       "    }\n",
       "</style>\n",
       "<table border=\"1\" class=\"dataframe\">\n",
       "  <thead>\n",
       "    <tr style=\"text-align: right;\">\n",
       "      <th></th>\n",
       "      <th>Feature name</th>\n",
       "      <th>Coefficients</th>\n",
       "      <th>p_values</th>\n",
       "    </tr>\n",
       "  </thead>\n",
       "  <tbody>\n",
       "    <tr>\n",
       "      <th>0</th>\n",
       "      <td>Intercept</td>\n",
       "      <td>-1.338448</td>\n",
       "      <td>NaN</td>\n",
       "    </tr>\n",
       "    <tr>\n",
       "      <th>1</th>\n",
       "      <td>grade:A</td>\n",
       "      <td>1.125487</td>\n",
       "      <td>2.457286e-35</td>\n",
       "    </tr>\n",
       "    <tr>\n",
       "      <th>2</th>\n",
       "      <td>grade:B</td>\n",
       "      <td>0.884349</td>\n",
       "      <td>9.337579e-48</td>\n",
       "    </tr>\n",
       "    <tr>\n",
       "      <th>3</th>\n",
       "      <td>grade:C</td>\n",
       "      <td>0.689487</td>\n",
       "      <td>2.091123e-34</td>\n",
       "    </tr>\n",
       "    <tr>\n",
       "      <th>4</th>\n",
       "      <td>grade:D</td>\n",
       "      <td>0.501113</td>\n",
       "      <td>5.861764e-21</td>\n",
       "    </tr>\n",
       "    <tr>\n",
       "      <th>...</th>\n",
       "      <td>...</td>\n",
       "      <td>...</td>\n",
       "      <td>...</td>\n",
       "    </tr>\n",
       "    <tr>\n",
       "      <th>80</th>\n",
       "      <td>mths_since_last_record:3-20</td>\n",
       "      <td>0.327600</td>\n",
       "      <td>5.235569e-03</td>\n",
       "    </tr>\n",
       "    <tr>\n",
       "      <th>81</th>\n",
       "      <td>mths_since_last_record:21-31</td>\n",
       "      <td>0.248542</td>\n",
       "      <td>1.990911e-02</td>\n",
       "    </tr>\n",
       "    <tr>\n",
       "      <th>82</th>\n",
       "      <td>mths_since_last_record:32-80</td>\n",
       "      <td>0.398012</td>\n",
       "      <td>2.795374e-07</td>\n",
       "    </tr>\n",
       "    <tr>\n",
       "      <th>83</th>\n",
       "      <td>mths_since_last_record:81-86</td>\n",
       "      <td>0.038353</td>\n",
       "      <td>6.562836e-01</td>\n",
       "    </tr>\n",
       "    <tr>\n",
       "      <th>84</th>\n",
       "      <td>mths_since_last_record:&gt;=86</td>\n",
       "      <td>0.118594</td>\n",
       "      <td>1.130976e-01</td>\n",
       "    </tr>\n",
       "  </tbody>\n",
       "</table>\n",
       "<p>85 rows × 3 columns</p>\n",
       "</div>"
      ],
      "text/plain": [
       "                    Feature name  Coefficients      p_values\n",
       "0                      Intercept     -1.338448           NaN\n",
       "1                        grade:A      1.125487  2.457286e-35\n",
       "2                        grade:B      0.884349  9.337579e-48\n",
       "3                        grade:C      0.689487  2.091123e-34\n",
       "4                        grade:D      0.501113  5.861764e-21\n",
       "..                           ...           ...           ...\n",
       "80   mths_since_last_record:3-20      0.327600  5.235569e-03\n",
       "81  mths_since_last_record:21-31      0.248542  1.990911e-02\n",
       "82  mths_since_last_record:32-80      0.398012  2.795374e-07\n",
       "83  mths_since_last_record:81-86      0.038353  6.562836e-01\n",
       "84   mths_since_last_record:>=86      0.118594  1.130976e-01\n",
       "\n",
       "[85 rows x 3 columns]"
      ]
     },
     "execution_count": 2,
     "metadata": {},
     "output_type": "execute_result"
    }
   ],
   "source": [
    "df_scorecard = pd.read_csv('https://raw.githubusercontent.com/bhishanpdl/Shared/master/data/credit_risk_365_summary_table.csv',index_col=0)\n",
    "\n",
    "df_scorecard"
   ]
  },
  {
   "cell_type": "code",
   "execution_count": 3,
   "metadata": {
    "ExecuteTime": {
     "end_time": "2020-04-08T15:50:23.777780Z",
     "start_time": "2020-04-08T15:50:23.767554Z"
    }
   },
   "outputs": [],
   "source": [
    "df_scorecard['Original feature name'] = df_scorecard['Feature name'].str.split(':').str[0]"
   ]
  },
  {
   "cell_type": "code",
   "execution_count": 4,
   "metadata": {
    "ExecuteTime": {
     "end_time": "2020-04-08T15:50:23.801552Z",
     "start_time": "2020-04-08T15:50:23.790155Z"
    }
   },
   "outputs": [],
   "source": [
    "min_score = 300\n",
    "max_score = 850"
   ]
  },
  {
   "cell_type": "code",
   "execution_count": 5,
   "metadata": {
    "ExecuteTime": {
     "end_time": "2020-04-08T15:50:23.816169Z",
     "start_time": "2020-04-08T15:50:23.804064Z"
    }
   },
   "outputs": [
    {
     "data": {
      "text/plain": [
       "Original feature name\n",
       "Intercept                     -1.338448\n",
       "acc_now_delinq                 0.219342\n",
       "addr_state                     0.038113\n",
       "annual_inc                    -0.074434\n",
       "dti                            0.047454\n",
       "emp_length                     0.061224\n",
       "grade                          0.135913\n",
       "home_ownership                 0.093442\n",
       "initial_list_status            0.054466\n",
       "inq_last_6mths                 0.337905\n",
       "int_rate                       0.112125\n",
       "mths_since_earliest_cr_line    0.036304\n",
       "mths_since_issue_d            -0.068385\n",
       "mths_since_last_delinq         0.141652\n",
       "mths_since_last_record         0.038353\n",
       "purpose                        0.197680\n",
       "term                           0.078726\n",
       "verification_status           -0.010952\n",
       "Name: Coefficients, dtype: float64"
      ]
     },
     "execution_count": 5,
     "metadata": {},
     "output_type": "execute_result"
    }
   ],
   "source": [
    "df_scorecard.groupby('Original feature name')['Coefficients'].min()"
   ]
  },
  {
   "cell_type": "code",
   "execution_count": 6,
   "metadata": {
    "ExecuteTime": {
     "end_time": "2020-04-08T15:50:23.838070Z",
     "start_time": "2020-04-08T15:50:23.820661Z"
    }
   },
   "outputs": [
    {
     "data": {
      "text/plain": [
       "0.10048146420836424"
      ]
     },
     "execution_count": 6,
     "metadata": {},
     "output_type": "execute_result"
    }
   ],
   "source": [
    "min_sum_coef = df_scorecard.groupby('Original feature name')['Coefficients'].min().sum()\n",
    "min_sum_coef"
   ]
  },
  {
   "cell_type": "code",
   "execution_count": 7,
   "metadata": {
    "ExecuteTime": {
     "end_time": "2020-04-08T15:50:23.873524Z",
     "start_time": "2020-04-08T15:50:23.851237Z"
    }
   },
   "outputs": [
    {
     "data": {
      "text/plain": [
       "Original feature name\n",
       "Intercept                     -1.338448\n",
       "acc_now_delinq                 0.219342\n",
       "addr_state                     0.523819\n",
       "annual_inc                     0.565699\n",
       "dti                            0.381668\n",
       "emp_length                     0.125832\n",
       "grade                          1.125487\n",
       "home_ownership                 0.106231\n",
       "initial_list_status            0.054466\n",
       "inq_last_6mths                 0.695516\n",
       "int_rate                       0.883899\n",
       "mths_since_earliest_cr_line    0.128538\n",
       "mths_since_issue_d             1.084249\n",
       "mths_since_last_delinq         0.213964\n",
       "mths_since_last_record         0.398012\n",
       "purpose                        0.301283\n",
       "term                           0.078726\n",
       "verification_status            0.084861\n",
       "Name: Coefficients, dtype: float64"
      ]
     },
     "execution_count": 7,
     "metadata": {},
     "output_type": "execute_result"
    }
   ],
   "source": [
    "df_scorecard.groupby('Original feature name')['Coefficients'].max()"
   ]
  },
  {
   "cell_type": "code",
   "execution_count": 8,
   "metadata": {
    "ExecuteTime": {
     "end_time": "2020-04-08T15:50:23.893166Z",
     "start_time": "2020-04-08T15:50:23.879034Z"
    }
   },
   "outputs": [
    {
     "data": {
      "text/plain": [
       "5.633142512038807"
      ]
     },
     "execution_count": 8,
     "metadata": {},
     "output_type": "execute_result"
    }
   ],
   "source": [
    "max_sum_coef = df_scorecard.groupby('Original feature name')['Coefficients'].max().sum()\n",
    "max_sum_coef"
   ]
  },
  {
   "cell_type": "code",
   "execution_count": 9,
   "metadata": {
    "ExecuteTime": {
     "end_time": "2020-04-08T15:50:23.923199Z",
     "start_time": "2020-04-08T15:50:23.895797Z"
    },
    "scrolled": true
   },
   "outputs": [
    {
     "data": {
      "text/html": [
       "<div>\n",
       "<style scoped>\n",
       "    .dataframe tbody tr th:only-of-type {\n",
       "        vertical-align: middle;\n",
       "    }\n",
       "\n",
       "    .dataframe tbody tr th {\n",
       "        vertical-align: top;\n",
       "    }\n",
       "\n",
       "    .dataframe thead th {\n",
       "        text-align: right;\n",
       "    }\n",
       "</style>\n",
       "<table border=\"1\" class=\"dataframe\">\n",
       "  <thead>\n",
       "    <tr style=\"text-align: right;\">\n",
       "      <th></th>\n",
       "      <th>Feature name</th>\n",
       "      <th>Coefficients</th>\n",
       "      <th>p_values</th>\n",
       "      <th>Original feature name</th>\n",
       "      <th>Score - Calculation</th>\n",
       "    </tr>\n",
       "  </thead>\n",
       "  <tbody>\n",
       "    <tr>\n",
       "      <th>0</th>\n",
       "      <td>Intercept</td>\n",
       "      <td>-1.338448</td>\n",
       "      <td>NaN</td>\n",
       "      <td>Intercept</td>\n",
       "      <td>-133.054714</td>\n",
       "    </tr>\n",
       "    <tr>\n",
       "      <th>1</th>\n",
       "      <td>grade:A</td>\n",
       "      <td>1.125487</td>\n",
       "      <td>2.457286e-35</td>\n",
       "      <td>grade</td>\n",
       "      <td>111.884265</td>\n",
       "    </tr>\n",
       "    <tr>\n",
       "      <th>2</th>\n",
       "      <td>grade:B</td>\n",
       "      <td>0.884349</td>\n",
       "      <td>9.337579e-48</td>\n",
       "      <td>grade</td>\n",
       "      <td>87.912844</td>\n",
       "    </tr>\n",
       "    <tr>\n",
       "      <th>3</th>\n",
       "      <td>grade:C</td>\n",
       "      <td>0.689487</td>\n",
       "      <td>2.091123e-34</td>\n",
       "      <td>grade</td>\n",
       "      <td>68.541714</td>\n",
       "    </tr>\n",
       "    <tr>\n",
       "      <th>4</th>\n",
       "      <td>grade:D</td>\n",
       "      <td>0.501113</td>\n",
       "      <td>5.861764e-21</td>\n",
       "      <td>grade</td>\n",
       "      <td>49.815522</td>\n",
       "    </tr>\n",
       "  </tbody>\n",
       "</table>\n",
       "</div>"
      ],
      "text/plain": [
       "  Feature name  Coefficients      p_values Original feature name  \\\n",
       "0    Intercept     -1.338448           NaN             Intercept   \n",
       "1      grade:A      1.125487  2.457286e-35                 grade   \n",
       "2      grade:B      0.884349  9.337579e-48                 grade   \n",
       "3      grade:C      0.689487  2.091123e-34                 grade   \n",
       "4      grade:D      0.501113  5.861764e-21                 grade   \n",
       "\n",
       "   Score - Calculation  \n",
       "0          -133.054714  \n",
       "1           111.884265  \n",
       "2            87.912844  \n",
       "3            68.541714  \n",
       "4            49.815522  "
      ]
     },
     "execution_count": 9,
     "metadata": {},
     "output_type": "execute_result"
    }
   ],
   "source": [
    "df_scorecard['Score - Calculation'] = df_scorecard['Coefficients'] * (max_score - min_score) / (max_sum_coef - min_sum_coef)\n",
    "df_scorecard.head()"
   ]
  },
  {
   "cell_type": "markdown",
   "metadata": {},
   "source": [
    "## Scorecard formulas\n",
    "\n",
    "- https://i.imgur.com/Elhikpz.png"
   ]
  },
  {
   "cell_type": "code",
   "execution_count": 10,
   "metadata": {
    "ExecuteTime": {
     "end_time": "2020-04-08T15:50:23.947182Z",
     "start_time": "2020-04-08T15:50:23.926997Z"
    }
   },
   "outputs": [
    {
     "name": "stderr",
     "output_type": "stream",
     "text": [
      "/Users/poudel/miniconda3/envs/tf2/lib/python3.7/site-packages/ipykernel_launcher.py:7: SettingWithCopyWarning: \n",
      "A value is trying to be set on a copy of a slice from a DataFrame\n",
      "\n",
      "See the caveats in the documentation: https://pandas.pydata.org/pandas-docs/stable/user_guide/indexing.html#returning-a-view-versus-a-copy\n",
      "  import sys\n"
     ]
    },
    {
     "data": {
      "text/html": [
       "<div>\n",
       "<style scoped>\n",
       "    .dataframe tbody tr th:only-of-type {\n",
       "        vertical-align: middle;\n",
       "    }\n",
       "\n",
       "    .dataframe tbody tr th {\n",
       "        vertical-align: top;\n",
       "    }\n",
       "\n",
       "    .dataframe thead th {\n",
       "        text-align: right;\n",
       "    }\n",
       "</style>\n",
       "<table border=\"1\" class=\"dataframe\">\n",
       "  <thead>\n",
       "    <tr style=\"text-align: right;\">\n",
       "      <th></th>\n",
       "      <th>Feature name</th>\n",
       "      <th>Coefficients</th>\n",
       "      <th>p_values</th>\n",
       "      <th>Original feature name</th>\n",
       "      <th>Score - Calculation</th>\n",
       "    </tr>\n",
       "  </thead>\n",
       "  <tbody>\n",
       "    <tr>\n",
       "      <th>0</th>\n",
       "      <td>Intercept</td>\n",
       "      <td>-1.338448</td>\n",
       "      <td>NaN</td>\n",
       "      <td>Intercept</td>\n",
       "      <td>156.956456</td>\n",
       "    </tr>\n",
       "    <tr>\n",
       "      <th>1</th>\n",
       "      <td>grade:A</td>\n",
       "      <td>1.125487</td>\n",
       "      <td>2.457286e-35</td>\n",
       "      <td>grade</td>\n",
       "      <td>111.884265</td>\n",
       "    </tr>\n",
       "    <tr>\n",
       "      <th>2</th>\n",
       "      <td>grade:B</td>\n",
       "      <td>0.884349</td>\n",
       "      <td>9.337579e-48</td>\n",
       "      <td>grade</td>\n",
       "      <td>87.912844</td>\n",
       "    </tr>\n",
       "    <tr>\n",
       "      <th>3</th>\n",
       "      <td>grade:C</td>\n",
       "      <td>0.689487</td>\n",
       "      <td>2.091123e-34</td>\n",
       "      <td>grade</td>\n",
       "      <td>68.541714</td>\n",
       "    </tr>\n",
       "    <tr>\n",
       "      <th>4</th>\n",
       "      <td>grade:D</td>\n",
       "      <td>0.501113</td>\n",
       "      <td>5.861764e-21</td>\n",
       "      <td>grade</td>\n",
       "      <td>49.815522</td>\n",
       "    </tr>\n",
       "  </tbody>\n",
       "</table>\n",
       "</div>"
      ],
      "text/plain": [
       "  Feature name  Coefficients      p_values Original feature name  \\\n",
       "0    Intercept     -1.338448           NaN             Intercept   \n",
       "1      grade:A      1.125487  2.457286e-35                 grade   \n",
       "2      grade:B      0.884349  9.337579e-48                 grade   \n",
       "3      grade:C      0.689487  2.091123e-34                 grade   \n",
       "4      grade:D      0.501113  5.861764e-21                 grade   \n",
       "\n",
       "   Score - Calculation  \n",
       "0           156.956456  \n",
       "1           111.884265  \n",
       "2            87.912844  \n",
       "3            68.541714  \n",
       "4            49.815522  "
      ]
     },
     "execution_count": 10,
     "metadata": {},
     "output_type": "execute_result"
    }
   ],
   "source": [
    "df_scorecard['Score - Calculation'][0] = ( \n",
    "    ( df_scorecard['Coefficients'][0]\n",
    "     - min_sum_coef\n",
    "    ) \n",
    "    / \n",
    "    (max_sum_coef - min_sum_coef)\n",
    "    ) * (max_score - min_score) + min_score\n",
    "\n",
    "\n",
    "df_scorecard.head()"
   ]
  },
  {
   "cell_type": "code",
   "execution_count": 11,
   "metadata": {
    "ExecuteTime": {
     "end_time": "2020-04-08T15:50:23.977233Z",
     "start_time": "2020-04-08T15:50:23.951993Z"
    }
   },
   "outputs": [
    {
     "data": {
      "text/html": [
       "<div>\n",
       "<style scoped>\n",
       "    .dataframe tbody tr th:only-of-type {\n",
       "        vertical-align: middle;\n",
       "    }\n",
       "\n",
       "    .dataframe tbody tr th {\n",
       "        vertical-align: top;\n",
       "    }\n",
       "\n",
       "    .dataframe thead th {\n",
       "        text-align: right;\n",
       "    }\n",
       "</style>\n",
       "<table border=\"1\" class=\"dataframe\">\n",
       "  <thead>\n",
       "    <tr style=\"text-align: right;\">\n",
       "      <th></th>\n",
       "      <th>Feature name</th>\n",
       "      <th>Coefficients</th>\n",
       "      <th>p_values</th>\n",
       "      <th>Original feature name</th>\n",
       "      <th>Score - Calculation</th>\n",
       "      <th>Score - Preliminary</th>\n",
       "    </tr>\n",
       "  </thead>\n",
       "  <tbody>\n",
       "    <tr>\n",
       "      <th>0</th>\n",
       "      <td>Intercept</td>\n",
       "      <td>-1.338448</td>\n",
       "      <td>NaN</td>\n",
       "      <td>Intercept</td>\n",
       "      <td>156.956456</td>\n",
       "      <td>157.0</td>\n",
       "    </tr>\n",
       "    <tr>\n",
       "      <th>1</th>\n",
       "      <td>grade:A</td>\n",
       "      <td>1.125487</td>\n",
       "      <td>2.457286e-35</td>\n",
       "      <td>grade</td>\n",
       "      <td>111.884265</td>\n",
       "      <td>112.0</td>\n",
       "    </tr>\n",
       "    <tr>\n",
       "      <th>2</th>\n",
       "      <td>grade:B</td>\n",
       "      <td>0.884349</td>\n",
       "      <td>9.337579e-48</td>\n",
       "      <td>grade</td>\n",
       "      <td>87.912844</td>\n",
       "      <td>88.0</td>\n",
       "    </tr>\n",
       "    <tr>\n",
       "      <th>3</th>\n",
       "      <td>grade:C</td>\n",
       "      <td>0.689487</td>\n",
       "      <td>2.091123e-34</td>\n",
       "      <td>grade</td>\n",
       "      <td>68.541714</td>\n",
       "      <td>69.0</td>\n",
       "    </tr>\n",
       "    <tr>\n",
       "      <th>4</th>\n",
       "      <td>grade:D</td>\n",
       "      <td>0.501113</td>\n",
       "      <td>5.861764e-21</td>\n",
       "      <td>grade</td>\n",
       "      <td>49.815522</td>\n",
       "      <td>50.0</td>\n",
       "    </tr>\n",
       "  </tbody>\n",
       "</table>\n",
       "</div>"
      ],
      "text/plain": [
       "  Feature name  Coefficients      p_values Original feature name  \\\n",
       "0    Intercept     -1.338448           NaN             Intercept   \n",
       "1      grade:A      1.125487  2.457286e-35                 grade   \n",
       "2      grade:B      0.884349  9.337579e-48                 grade   \n",
       "3      grade:C      0.689487  2.091123e-34                 grade   \n",
       "4      grade:D      0.501113  5.861764e-21                 grade   \n",
       "\n",
       "   Score - Calculation  Score - Preliminary  \n",
       "0           156.956456                157.0  \n",
       "1           111.884265                112.0  \n",
       "2            87.912844                 88.0  \n",
       "3            68.541714                 69.0  \n",
       "4            49.815522                 50.0  "
      ]
     },
     "execution_count": 11,
     "metadata": {},
     "output_type": "execute_result"
    }
   ],
   "source": [
    "df_scorecard['Score - Preliminary'] = df_scorecard['Score - Calculation'].round()\n",
    "df_scorecard.head()"
   ]
  },
  {
   "cell_type": "code",
   "execution_count": 12,
   "metadata": {
    "ExecuteTime": {
     "end_time": "2020-04-08T15:50:23.992800Z",
     "start_time": "2020-04-08T15:50:23.982234Z"
    }
   },
   "outputs": [
    {
     "data": {
      "text/plain": [
       "302.0"
      ]
     },
     "execution_count": 12,
     "metadata": {},
     "output_type": "execute_result"
    }
   ],
   "source": [
    "min_sum_score_prel = df_scorecard.groupby('Original feature name')['Score - Preliminary'].min().sum()\n",
    "min_sum_score_prel"
   ]
  },
  {
   "cell_type": "code",
   "execution_count": 13,
   "metadata": {
    "ExecuteTime": {
     "end_time": "2020-04-08T15:50:24.009120Z",
     "start_time": "2020-04-08T15:50:23.996357Z"
    }
   },
   "outputs": [
    {
     "data": {
      "text/plain": [
       "851.0"
      ]
     },
     "execution_count": 13,
     "metadata": {},
     "output_type": "execute_result"
    }
   ],
   "source": [
    "max_sum_score_prel = df_scorecard.groupby('Original feature name')['Score - Preliminary'].max(). sum()\n",
    "max_sum_score_prel"
   ]
  },
  {
   "cell_type": "code",
   "execution_count": 14,
   "metadata": {
    "ExecuteTime": {
     "end_time": "2020-04-08T15:50:24.040265Z",
     "start_time": "2020-04-08T15:50:24.014696Z"
    }
   },
   "outputs": [
    {
     "data": {
      "text/html": [
       "<div>\n",
       "<style scoped>\n",
       "    .dataframe tbody tr th:only-of-type {\n",
       "        vertical-align: middle;\n",
       "    }\n",
       "\n",
       "    .dataframe tbody tr th {\n",
       "        vertical-align: top;\n",
       "    }\n",
       "\n",
       "    .dataframe thead th {\n",
       "        text-align: right;\n",
       "    }\n",
       "</style>\n",
       "<table border=\"1\" class=\"dataframe\">\n",
       "  <thead>\n",
       "    <tr style=\"text-align: right;\">\n",
       "      <th></th>\n",
       "      <th>Feature name</th>\n",
       "      <th>Coefficients</th>\n",
       "      <th>p_values</th>\n",
       "      <th>Original feature name</th>\n",
       "      <th>Score - Calculation</th>\n",
       "      <th>Score - Preliminary</th>\n",
       "      <th>Difference</th>\n",
       "    </tr>\n",
       "  </thead>\n",
       "  <tbody>\n",
       "    <tr>\n",
       "      <th>0</th>\n",
       "      <td>Intercept</td>\n",
       "      <td>-1.338448</td>\n",
       "      <td>NaN</td>\n",
       "      <td>Intercept</td>\n",
       "      <td>156.956456</td>\n",
       "      <td>157.0</td>\n",
       "      <td>0.043544</td>\n",
       "    </tr>\n",
       "    <tr>\n",
       "      <th>1</th>\n",
       "      <td>grade:A</td>\n",
       "      <td>1.125487</td>\n",
       "      <td>2.457286e-35</td>\n",
       "      <td>grade</td>\n",
       "      <td>111.884265</td>\n",
       "      <td>112.0</td>\n",
       "      <td>0.115735</td>\n",
       "    </tr>\n",
       "    <tr>\n",
       "      <th>2</th>\n",
       "      <td>grade:B</td>\n",
       "      <td>0.884349</td>\n",
       "      <td>9.337579e-48</td>\n",
       "      <td>grade</td>\n",
       "      <td>87.912844</td>\n",
       "      <td>88.0</td>\n",
       "      <td>0.087156</td>\n",
       "    </tr>\n",
       "    <tr>\n",
       "      <th>3</th>\n",
       "      <td>grade:C</td>\n",
       "      <td>0.689487</td>\n",
       "      <td>2.091123e-34</td>\n",
       "      <td>grade</td>\n",
       "      <td>68.541714</td>\n",
       "      <td>69.0</td>\n",
       "      <td>0.458286</td>\n",
       "    </tr>\n",
       "    <tr>\n",
       "      <th>4</th>\n",
       "      <td>grade:D</td>\n",
       "      <td>0.501113</td>\n",
       "      <td>5.861764e-21</td>\n",
       "      <td>grade</td>\n",
       "      <td>49.815522</td>\n",
       "      <td>50.0</td>\n",
       "      <td>0.184478</td>\n",
       "    </tr>\n",
       "  </tbody>\n",
       "</table>\n",
       "</div>"
      ],
      "text/plain": [
       "  Feature name  Coefficients      p_values Original feature name  \\\n",
       "0    Intercept     -1.338448           NaN             Intercept   \n",
       "1      grade:A      1.125487  2.457286e-35                 grade   \n",
       "2      grade:B      0.884349  9.337579e-48                 grade   \n",
       "3      grade:C      0.689487  2.091123e-34                 grade   \n",
       "4      grade:D      0.501113  5.861764e-21                 grade   \n",
       "\n",
       "   Score - Calculation  Score - Preliminary  Difference  \n",
       "0           156.956456                157.0    0.043544  \n",
       "1           111.884265                112.0    0.115735  \n",
       "2            87.912844                 88.0    0.087156  \n",
       "3            68.541714                 69.0    0.458286  \n",
       "4            49.815522                 50.0    0.184478  "
      ]
     },
     "execution_count": 14,
     "metadata": {},
     "output_type": "execute_result"
    }
   ],
   "source": [
    "df_scorecard['Difference'] = df_scorecard['Score - Preliminary'] - df_scorecard['Score - Calculation']\n",
    "\n",
    "df_scorecard.head()"
   ]
  },
  {
   "cell_type": "code",
   "execution_count": 15,
   "metadata": {
    "ExecuteTime": {
     "end_time": "2020-04-08T15:50:24.056089Z",
     "start_time": "2020-04-08T15:50:24.044721Z"
    }
   },
   "outputs": [
    {
     "data": {
      "text/plain": [
       "31"
      ]
     },
     "execution_count": 15,
     "metadata": {},
     "output_type": "execute_result"
    }
   ],
   "source": [
    "max_diff_index = df_scorecard['Difference'].argmax()\n",
    "max_diff_index"
   ]
  },
  {
   "cell_type": "code",
   "execution_count": 16,
   "metadata": {
    "ExecuteTime": {
     "end_time": "2020-04-08T15:50:24.086361Z",
     "start_time": "2020-04-08T15:50:24.060718Z"
    }
   },
   "outputs": [
    {
     "data": {
      "text/html": [
       "<div>\n",
       "<style scoped>\n",
       "    .dataframe tbody tr th:only-of-type {\n",
       "        vertical-align: middle;\n",
       "    }\n",
       "\n",
       "    .dataframe tbody tr th {\n",
       "        vertical-align: top;\n",
       "    }\n",
       "\n",
       "    .dataframe thead th {\n",
       "        text-align: right;\n",
       "    }\n",
       "</style>\n",
       "<table border=\"1\" class=\"dataframe\">\n",
       "  <thead>\n",
       "    <tr style=\"text-align: right;\">\n",
       "      <th></th>\n",
       "      <th>Feature name</th>\n",
       "      <th>Coefficients</th>\n",
       "      <th>p_values</th>\n",
       "      <th>Original feature name</th>\n",
       "      <th>Score - Calculation</th>\n",
       "      <th>Score - Preliminary</th>\n",
       "      <th>Difference</th>\n",
       "    </tr>\n",
       "  </thead>\n",
       "  <tbody>\n",
       "    <tr>\n",
       "      <th>31</th>\n",
       "      <td>emp_length:2-4</td>\n",
       "      <td>0.125832</td>\n",
       "      <td>2.594486e-11</td>\n",
       "      <td>emp_length</td>\n",
       "      <td>12.508873</td>\n",
       "      <td>13.0</td>\n",
       "      <td>0.491127</td>\n",
       "    </tr>\n",
       "    <tr>\n",
       "      <th>6</th>\n",
       "      <td>grade:F</td>\n",
       "      <td>0.135913</td>\n",
       "      <td>5.591069e-03</td>\n",
       "      <td>grade</td>\n",
       "      <td>13.511085</td>\n",
       "      <td>14.0</td>\n",
       "      <td>0.488915</td>\n",
       "    </tr>\n",
       "    <tr>\n",
       "      <th>69</th>\n",
       "      <td>dti:7.7-10.5</td>\n",
       "      <td>0.316997</td>\n",
       "      <td>1.151056e-07</td>\n",
       "      <td>dti</td>\n",
       "      <td>31.512565</td>\n",
       "      <td>32.0</td>\n",
       "      <td>0.487435</td>\n",
       "    </tr>\n",
       "    <tr>\n",
       "      <th>3</th>\n",
       "      <td>grade:C</td>\n",
       "      <td>0.689487</td>\n",
       "      <td>2.091123e-34</td>\n",
       "      <td>grade</td>\n",
       "      <td>68.541714</td>\n",
       "      <td>69.0</td>\n",
       "      <td>0.458286</td>\n",
       "    </tr>\n",
       "    <tr>\n",
       "      <th>16</th>\n",
       "      <td>addr_state:GA_WA_OR</td>\n",
       "      <td>0.186669</td>\n",
       "      <td>2.542772e-12</td>\n",
       "      <td>addr_state</td>\n",
       "      <td>18.556657</td>\n",
       "      <td>19.0</td>\n",
       "      <td>0.443343</td>\n",
       "    </tr>\n",
       "  </tbody>\n",
       "</table>\n",
       "</div>"
      ],
      "text/plain": [
       "           Feature name  Coefficients      p_values Original feature name  \\\n",
       "31       emp_length:2-4      0.125832  2.594486e-11            emp_length   \n",
       "6               grade:F      0.135913  5.591069e-03                 grade   \n",
       "69         dti:7.7-10.5      0.316997  1.151056e-07                   dti   \n",
       "3               grade:C      0.689487  2.091123e-34                 grade   \n",
       "16  addr_state:GA_WA_OR      0.186669  2.542772e-12            addr_state   \n",
       "\n",
       "    Score - Calculation  Score - Preliminary  Difference  \n",
       "31            12.508873                 13.0    0.491127  \n",
       "6             13.511085                 14.0    0.488915  \n",
       "69            31.512565                 32.0    0.487435  \n",
       "3             68.541714                 69.0    0.458286  \n",
       "16            18.556657                 19.0    0.443343  "
      ]
     },
     "execution_count": 16,
     "metadata": {},
     "output_type": "execute_result"
    }
   ],
   "source": [
    "df_scorecard.sort_values('Difference',ascending=False).head()"
   ]
  },
  {
   "cell_type": "code",
   "execution_count": 17,
   "metadata": {
    "ExecuteTime": {
     "end_time": "2020-04-08T15:50:24.100059Z",
     "start_time": "2020-04-08T15:50:24.091261Z"
    }
   },
   "outputs": [
    {
     "data": {
      "text/plain": [
       "13.0"
      ]
     },
     "execution_count": 17,
     "metadata": {},
     "output_type": "execute_result"
    }
   ],
   "source": [
    "score_for_max_diff = df_scorecard.loc[max_diff_index,'Score - Preliminary']\n",
    "\n",
    "score_for_max_diff"
   ]
  },
  {
   "cell_type": "code",
   "execution_count": 18,
   "metadata": {
    "ExecuteTime": {
     "end_time": "2020-04-08T15:50:24.130091Z",
     "start_time": "2020-04-08T15:50:24.104143Z"
    }
   },
   "outputs": [
    {
     "name": "stderr",
     "output_type": "stream",
     "text": [
      "/Users/poudel/miniconda3/envs/tf2/lib/python3.7/site-packages/ipykernel_launcher.py:2: SettingWithCopyWarning: \n",
      "A value is trying to be set on a copy of a slice from a DataFrame\n",
      "\n",
      "See the caveats in the documentation: https://pandas.pydata.org/pandas-docs/stable/user_guide/indexing.html#returning-a-view-versus-a-copy\n",
      "  \n"
     ]
    },
    {
     "data": {
      "text/html": [
       "<div>\n",
       "<style scoped>\n",
       "    .dataframe tbody tr th:only-of-type {\n",
       "        vertical-align: middle;\n",
       "    }\n",
       "\n",
       "    .dataframe tbody tr th {\n",
       "        vertical-align: top;\n",
       "    }\n",
       "\n",
       "    .dataframe thead th {\n",
       "        text-align: right;\n",
       "    }\n",
       "</style>\n",
       "<table border=\"1\" class=\"dataframe\">\n",
       "  <thead>\n",
       "    <tr style=\"text-align: right;\">\n",
       "      <th></th>\n",
       "      <th>Feature name</th>\n",
       "      <th>Coefficients</th>\n",
       "      <th>p_values</th>\n",
       "      <th>Original feature name</th>\n",
       "      <th>Score - Calculation</th>\n",
       "      <th>Score - Preliminary</th>\n",
       "      <th>Difference</th>\n",
       "      <th>Score - Final</th>\n",
       "    </tr>\n",
       "  </thead>\n",
       "  <tbody>\n",
       "    <tr>\n",
       "      <th>0</th>\n",
       "      <td>Intercept</td>\n",
       "      <td>-1.338448</td>\n",
       "      <td>NaN</td>\n",
       "      <td>Intercept</td>\n",
       "      <td>156.956456</td>\n",
       "      <td>157.0</td>\n",
       "      <td>0.043544</td>\n",
       "      <td>157.0</td>\n",
       "    </tr>\n",
       "    <tr>\n",
       "      <th>1</th>\n",
       "      <td>grade:A</td>\n",
       "      <td>1.125487</td>\n",
       "      <td>2.457286e-35</td>\n",
       "      <td>grade</td>\n",
       "      <td>111.884265</td>\n",
       "      <td>112.0</td>\n",
       "      <td>0.115735</td>\n",
       "      <td>112.0</td>\n",
       "    </tr>\n",
       "    <tr>\n",
       "      <th>2</th>\n",
       "      <td>grade:B</td>\n",
       "      <td>0.884349</td>\n",
       "      <td>9.337579e-48</td>\n",
       "      <td>grade</td>\n",
       "      <td>87.912844</td>\n",
       "      <td>88.0</td>\n",
       "      <td>0.087156</td>\n",
       "      <td>88.0</td>\n",
       "    </tr>\n",
       "    <tr>\n",
       "      <th>3</th>\n",
       "      <td>grade:C</td>\n",
       "      <td>0.689487</td>\n",
       "      <td>2.091123e-34</td>\n",
       "      <td>grade</td>\n",
       "      <td>68.541714</td>\n",
       "      <td>69.0</td>\n",
       "      <td>0.458286</td>\n",
       "      <td>69.0</td>\n",
       "    </tr>\n",
       "    <tr>\n",
       "      <th>4</th>\n",
       "      <td>grade:D</td>\n",
       "      <td>0.501113</td>\n",
       "      <td>5.861764e-21</td>\n",
       "      <td>grade</td>\n",
       "      <td>49.815522</td>\n",
       "      <td>50.0</td>\n",
       "      <td>0.184478</td>\n",
       "      <td>50.0</td>\n",
       "    </tr>\n",
       "  </tbody>\n",
       "</table>\n",
       "</div>"
      ],
      "text/plain": [
       "  Feature name  Coefficients      p_values Original feature name  \\\n",
       "0    Intercept     -1.338448           NaN             Intercept   \n",
       "1      grade:A      1.125487  2.457286e-35                 grade   \n",
       "2      grade:B      0.884349  9.337579e-48                 grade   \n",
       "3      grade:C      0.689487  2.091123e-34                 grade   \n",
       "4      grade:D      0.501113  5.861764e-21                 grade   \n",
       "\n",
       "   Score - Calculation  Score - Preliminary  Difference  Score - Final  \n",
       "0           156.956456                157.0    0.043544          157.0  \n",
       "1           111.884265                112.0    0.115735          112.0  \n",
       "2            87.912844                 88.0    0.087156           88.0  \n",
       "3            68.541714                 69.0    0.458286           69.0  \n",
       "4            49.815522                 50.0    0.184478           50.0  "
      ]
     },
     "execution_count": 18,
     "metadata": {},
     "output_type": "execute_result"
    }
   ],
   "source": [
    "df_scorecard['Score - Final'] = df_scorecard['Score - Preliminary']\n",
    "df_scorecard['Score - Final'][max_diff_index] = score_for_max_diff - 1\n",
    "df_scorecard.head()"
   ]
  },
  {
   "cell_type": "code",
   "execution_count": 19,
   "metadata": {
    "ExecuteTime": {
     "end_time": "2020-04-08T15:50:24.147763Z",
     "start_time": "2020-04-08T15:50:24.135463Z"
    }
   },
   "outputs": [
    {
     "data": {
      "text/plain": [
       "302.0"
      ]
     },
     "execution_count": 19,
     "metadata": {},
     "output_type": "execute_result"
    }
   ],
   "source": [
    "min_sum_score_prel = df_scorecard.groupby('Original feature name')['Score - Final'].min().sum()\n",
    "min_sum_score_prel"
   ]
  },
  {
   "cell_type": "code",
   "execution_count": 20,
   "metadata": {
    "ExecuteTime": {
     "end_time": "2020-04-08T15:50:24.166353Z",
     "start_time": "2020-04-08T15:50:24.154721Z"
    }
   },
   "outputs": [
    {
     "data": {
      "text/plain": [
       "850.0"
      ]
     },
     "execution_count": 20,
     "metadata": {},
     "output_type": "execute_result"
    }
   ],
   "source": [
    "max_sum_score_prel = df_scorecard.groupby('Original feature name')['Score - Final'].max(). sum()\n",
    "max_sum_score_prel"
   ]
  },
  {
   "cell_type": "code",
   "execution_count": 21,
   "metadata": {
    "ExecuteTime": {
     "end_time": "2020-04-08T15:50:24.202099Z",
     "start_time": "2020-04-08T15:50:24.171388Z"
    }
   },
   "outputs": [
    {
     "data": {
      "text/html": [
       "<div>\n",
       "<style scoped>\n",
       "    .dataframe tbody tr th:only-of-type {\n",
       "        vertical-align: middle;\n",
       "    }\n",
       "\n",
       "    .dataframe tbody tr th {\n",
       "        vertical-align: top;\n",
       "    }\n",
       "\n",
       "    .dataframe thead th {\n",
       "        text-align: right;\n",
       "    }\n",
       "</style>\n",
       "<table border=\"1\" class=\"dataframe\">\n",
       "  <thead>\n",
       "    <tr style=\"text-align: right;\">\n",
       "      <th></th>\n",
       "      <th>Feature name</th>\n",
       "      <th>Coefficients</th>\n",
       "      <th>p_values</th>\n",
       "      <th>Original feature name</th>\n",
       "      <th>Score - Calculation</th>\n",
       "      <th>Score - Preliminary</th>\n",
       "      <th>Difference</th>\n",
       "      <th>Score - Final</th>\n",
       "    </tr>\n",
       "  </thead>\n",
       "  <tbody>\n",
       "    <tr>\n",
       "      <th>0</th>\n",
       "      <td>Intercept</td>\n",
       "      <td>-1.338448</td>\n",
       "      <td>NaN</td>\n",
       "      <td>Intercept</td>\n",
       "      <td>156.956456</td>\n",
       "      <td>157.0</td>\n",
       "      <td>0.043544</td>\n",
       "      <td>157.0</td>\n",
       "    </tr>\n",
       "    <tr>\n",
       "      <th>1</th>\n",
       "      <td>grade:A</td>\n",
       "      <td>1.125487</td>\n",
       "      <td>2.457286e-35</td>\n",
       "      <td>grade</td>\n",
       "      <td>111.884265</td>\n",
       "      <td>112.0</td>\n",
       "      <td>0.115735</td>\n",
       "      <td>112.0</td>\n",
       "    </tr>\n",
       "    <tr>\n",
       "      <th>2</th>\n",
       "      <td>grade:B</td>\n",
       "      <td>0.884349</td>\n",
       "      <td>9.337579e-48</td>\n",
       "      <td>grade</td>\n",
       "      <td>87.912844</td>\n",
       "      <td>88.0</td>\n",
       "      <td>0.087156</td>\n",
       "      <td>88.0</td>\n",
       "    </tr>\n",
       "    <tr>\n",
       "      <th>3</th>\n",
       "      <td>grade:C</td>\n",
       "      <td>0.689487</td>\n",
       "      <td>2.091123e-34</td>\n",
       "      <td>grade</td>\n",
       "      <td>68.541714</td>\n",
       "      <td>69.0</td>\n",
       "      <td>0.458286</td>\n",
       "      <td>69.0</td>\n",
       "    </tr>\n",
       "    <tr>\n",
       "      <th>4</th>\n",
       "      <td>grade:D</td>\n",
       "      <td>0.501113</td>\n",
       "      <td>5.861764e-21</td>\n",
       "      <td>grade</td>\n",
       "      <td>49.815522</td>\n",
       "      <td>50.0</td>\n",
       "      <td>0.184478</td>\n",
       "      <td>50.0</td>\n",
       "    </tr>\n",
       "    <tr>\n",
       "      <th>...</th>\n",
       "      <td>...</td>\n",
       "      <td>...</td>\n",
       "      <td>...</td>\n",
       "      <td>...</td>\n",
       "      <td>...</td>\n",
       "      <td>...</td>\n",
       "      <td>...</td>\n",
       "      <td>...</td>\n",
       "    </tr>\n",
       "    <tr>\n",
       "      <th>80</th>\n",
       "      <td>mths_since_last_record:3-20</td>\n",
       "      <td>0.327600</td>\n",
       "      <td>5.235569e-03</td>\n",
       "      <td>mths_since_last_record</td>\n",
       "      <td>32.566571</td>\n",
       "      <td>33.0</td>\n",
       "      <td>0.433429</td>\n",
       "      <td>33.0</td>\n",
       "    </tr>\n",
       "    <tr>\n",
       "      <th>81</th>\n",
       "      <td>mths_since_last_record:21-31</td>\n",
       "      <td>0.248542</td>\n",
       "      <td>1.990911e-02</td>\n",
       "      <td>mths_since_last_record</td>\n",
       "      <td>24.707481</td>\n",
       "      <td>25.0</td>\n",
       "      <td>0.292519</td>\n",
       "      <td>25.0</td>\n",
       "    </tr>\n",
       "    <tr>\n",
       "      <th>82</th>\n",
       "      <td>mths_since_last_record:32-80</td>\n",
       "      <td>0.398012</td>\n",
       "      <td>2.795374e-07</td>\n",
       "      <td>mths_since_last_record</td>\n",
       "      <td>39.566276</td>\n",
       "      <td>40.0</td>\n",
       "      <td>0.433724</td>\n",
       "      <td>40.0</td>\n",
       "    </tr>\n",
       "    <tr>\n",
       "      <th>83</th>\n",
       "      <td>mths_since_last_record:81-86</td>\n",
       "      <td>0.038353</td>\n",
       "      <td>6.562836e-01</td>\n",
       "      <td>mths_since_last_record</td>\n",
       "      <td>3.812685</td>\n",
       "      <td>4.0</td>\n",
       "      <td>0.187315</td>\n",
       "      <td>4.0</td>\n",
       "    </tr>\n",
       "    <tr>\n",
       "      <th>84</th>\n",
       "      <td>mths_since_last_record:&gt;=86</td>\n",
       "      <td>0.118594</td>\n",
       "      <td>1.130976e-01</td>\n",
       "      <td>mths_since_last_record</td>\n",
       "      <td>11.789404</td>\n",
       "      <td>12.0</td>\n",
       "      <td>0.210596</td>\n",
       "      <td>12.0</td>\n",
       "    </tr>\n",
       "  </tbody>\n",
       "</table>\n",
       "<p>85 rows × 8 columns</p>\n",
       "</div>"
      ],
      "text/plain": [
       "                    Feature name  Coefficients      p_values  \\\n",
       "0                      Intercept     -1.338448           NaN   \n",
       "1                        grade:A      1.125487  2.457286e-35   \n",
       "2                        grade:B      0.884349  9.337579e-48   \n",
       "3                        grade:C      0.689487  2.091123e-34   \n",
       "4                        grade:D      0.501113  5.861764e-21   \n",
       "..                           ...           ...           ...   \n",
       "80   mths_since_last_record:3-20      0.327600  5.235569e-03   \n",
       "81  mths_since_last_record:21-31      0.248542  1.990911e-02   \n",
       "82  mths_since_last_record:32-80      0.398012  2.795374e-07   \n",
       "83  mths_since_last_record:81-86      0.038353  6.562836e-01   \n",
       "84   mths_since_last_record:>=86      0.118594  1.130976e-01   \n",
       "\n",
       "     Original feature name  Score - Calculation  Score - Preliminary  \\\n",
       "0                Intercept           156.956456                157.0   \n",
       "1                    grade           111.884265                112.0   \n",
       "2                    grade            87.912844                 88.0   \n",
       "3                    grade            68.541714                 69.0   \n",
       "4                    grade            49.815522                 50.0   \n",
       "..                     ...                  ...                  ...   \n",
       "80  mths_since_last_record            32.566571                 33.0   \n",
       "81  mths_since_last_record            24.707481                 25.0   \n",
       "82  mths_since_last_record            39.566276                 40.0   \n",
       "83  mths_since_last_record             3.812685                  4.0   \n",
       "84  mths_since_last_record            11.789404                 12.0   \n",
       "\n",
       "    Difference  Score - Final  \n",
       "0     0.043544          157.0  \n",
       "1     0.115735          112.0  \n",
       "2     0.087156           88.0  \n",
       "3     0.458286           69.0  \n",
       "4     0.184478           50.0  \n",
       "..         ...            ...  \n",
       "80    0.433429           33.0  \n",
       "81    0.292519           25.0  \n",
       "82    0.433724           40.0  \n",
       "83    0.187315            4.0  \n",
       "84    0.210596           12.0  \n",
       "\n",
       "[85 rows x 8 columns]"
      ]
     },
     "execution_count": 21,
     "metadata": {},
     "output_type": "execute_result"
    }
   ],
   "source": [
    "df_scorecard"
   ]
  },
  {
   "cell_type": "code",
   "execution_count": 22,
   "metadata": {
    "ExecuteTime": {
     "end_time": "2020-04-08T15:50:24.220763Z",
     "start_time": "2020-04-08T15:50:24.207241Z"
    }
   },
   "outputs": [
    {
     "data": {
      "text/plain": [
       "count     85.000000\n",
       "mean      28.482353\n",
       "std       28.783102\n",
       "min       -7.000000\n",
       "25%        9.000000\n",
       "50%       21.000000\n",
       "75%       37.000000\n",
       "max      157.000000\n",
       "Name: Score - Final, dtype: float64"
      ]
     },
     "execution_count": 22,
     "metadata": {},
     "output_type": "execute_result"
    }
   ],
   "source": [
    "df_scorecard['Score - Final'].describe()"
   ]
  },
  {
   "cell_type": "code",
   "execution_count": null,
   "metadata": {},
   "outputs": [],
   "source": []
  }
 ],
 "metadata": {
  "kernelspec": {
   "display_name": "Python 3",
   "language": "python",
   "name": "python3"
  },
  "language_info": {
   "codemirror_mode": {
    "name": "ipython",
    "version": 3
   },
   "file_extension": ".py",
   "mimetype": "text/x-python",
   "name": "python",
   "nbconvert_exporter": "python",
   "pygments_lexer": "ipython3",
   "version": "3.7.3"
  },
  "toc": {
   "base_numbering": 1,
   "nav_menu": {},
   "number_sections": true,
   "sideBar": true,
   "skip_h1_title": false,
   "title_cell": "Table of Contents",
   "title_sidebar": "Contents",
   "toc_cell": true,
   "toc_position": {},
   "toc_section_display": true,
   "toc_window_display": true
  }
 },
 "nbformat": 4,
 "nbformat_minor": 2
}

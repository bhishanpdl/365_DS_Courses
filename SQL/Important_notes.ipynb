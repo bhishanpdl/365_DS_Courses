{
 "cells": [
  {
   "cell_type": "markdown",
   "metadata": {
    "toc": true
   },
   "source": [
    "<h1>Table of Contents<span class=\"tocSkip\"></span></h1>\n",
    "<div class=\"toc\"><ul class=\"toc-item\"><li><span><a href=\"#Important-–-Prevent-Error-Code:-1055\" data-toc-modified-id=\"Important-–-Prevent-Error-Code:-1055-1\"><span class=\"toc-item-num\">1&nbsp;&nbsp;</span>Important – Prevent Error Code: 1055</a></span></li><li><span><a href=\"#Error-Code:-1418.\" data-toc-modified-id=\"Error-Code:-1418.-2\"><span class=\"toc-item-num\">2&nbsp;&nbsp;</span>Error Code: 1418.</a></span></li></ul></div>"
   ]
  },
  {
   "cell_type": "markdown",
   "metadata": {},
   "source": [
    "#  Important – Prevent Error Code: 1055\n",
    "\n",
    "Depending on your operating system and version of MySQL, you will be working with different SQL settings.\n",
    "\n",
    "To make sure you can take some of the remaining lectures of the course without unnecessary interruption, we strongly advise you to execute the following query now.\n",
    "\n",
    "`set @@global.sql_mode := replace(@@global.sql_mode, 'ONLY_FULL_GROUP_BY', '');`\n",
    "\n",
    "If you’re interested in the reason we are asking you to do this, you can read the technical description below. Please be aware that it may sound a bit too abstract at this stage. However, you can always refer back to it once you have completed the lectures about the different types of SQL variables found in the Advanced SQL Tools section of the course.\n",
    "\n",
    "Technical description:\n",
    "\n",
    "The GROUP BY clause will be used in several queries by the end of the course. Different versions of the SQL language and MySQL, in particular, can set different limits on how the GROUP BY clause can be applied.\n",
    "\n",
    "In some of the lectures in the JOINs section, we have opted for queries where multiple table columns that are not included in the GROUP BY clause will be listed in the SELECT statement. We have decided this is the correct approach to teaching the use of the GROUP BY clause at this stage. At the same time, we are aware some versions of MySQL may not allow such queries, or at least not by default.\n",
    "\n",
    "To adjust the relevant default settings, there is a system variable, called ‘sql_mode’, which needs to be reconfigured.\n",
    "\n",
    "In order to view the current value of this variable in your case, you have to execute the following command.\n",
    "\n",
    "`select @@global.sql_mode;`\n",
    "\n",
    "An expression containing a few values, separated by commas, will appear in the result grid. They correspond to various MySQL settings that influence the way in which MySQL will behave in different situations.\n",
    "\n",
    "One of these values, ‘only_full_group_by’, blocks certain type of group statements and that can potentially lead to Error Code 1055. The latter signifies the problem of listing fields in the SELECT statement that are not included in the GROUP BY clause.\n",
    "\n",
    "Naturally, we want to avoid that. Hence, to prevent it from happening, we must execute the following statement.\n",
    "\n",
    "`set @@global.sql_mode := replace(@@global.sql_mode, 'ONLY_FULL_GROUP_BY', '');`\n",
    "\n",
    "REPLACE() is the function that will remove the “only_full_group_by” value from the expression here. Thus, error 1055 will not show up in the future.\n",
    "\n",
    "Finally, if for some reason you’d like to disallow this behavior you can always execute the following command which will do exactly the opposite: it will add the “only_full_group_by” value to the expression.\n",
    "\n",
    "`set @@global.sql_mode := concat('ONLY_FULL_GROUP_BY,', @@global.sql_mode);`\n",
    "\n",
    "\n",
    "\n",
    "That said, we must also add that there is a reason behind this functionality. If you think about it, it is not logical to allow a column value to be listed in the output alongside a value that has been included in the GROUP BY clause of the query. We just cannot be sure that the not-grouped value that has been retrieved is going to be correct. But for the sake of our exercises, and for the purpose of making them clearer, we have allowed such syntax."
   ]
  },
  {
   "cell_type": "markdown",
   "metadata": {},
   "source": [
    "# Error Code: 1418.\n",
    "Do you have a question regarding the lecture content? Feel free to ask it in the 365 Q&A Hub.\n",
    "\n",
    "Error Code: 1418. This function has none of DETERMINISTIC, NO SQL, or READS SQL DATA in its declaration and binary logging is enabled…\n",
    "\n",
    "\n",
    "\n",
    "Let’s begin by saying that a log is a software component where you can save information about some events or errors that happened during the execution of a certain application. A log is preserved for traceability or debugging reasons and this is how it is used in MySQL as well.\n",
    "\n",
    "Consequently, a Binary Log is a log that contains database changes. This type of logging affects the way in which we need to structure our code when creating MySQL functions.\n",
    "\n",
    "When the Binary Log has been enabled, it will always check whether a function is changing the data in the database and what is the result to be produced. The situation can be described like this.\n",
    "\n",
    "Unless we specify what the exact behavior of our function should be, our code will lead to an error. This error is with code 1418 and states that the function has none of the following characteristics in its declaration: DETERMINISTIC, NO SQL, or READS SQL DATA.\n",
    "\n",
    "To solve this error, we must include one (or more) of these characteristics in our code in the way shown in the previous video. They must be placed right after we ‘ve specified the return type of the function. Here’s the syntax to use:\n",
    "\n",
    "create function <function name> <function parameters> returns <type> <characteristics> …\n",
    "\n",
    "Let’s check the meaning of these characteristics:\n",
    "\n",
    "· DETERMINISTIC – it states that the function will always return identical result given the same input\n",
    "\n",
    "· NO SQL – means that the code in our function does not contain SQL (rarely the case)\n",
    "\n",
    "· READS SQL DATA – this is usually when a simple SELECT statement is present\n",
    "\n",
    "\n",
    "\n",
    "When none of those is present in our code, MySQL assumes that our function is non deterministic and that it changes data. This might not be the case, but still, in the end, an error is raised just because MySQL cannot know a priori what our function will do. Adding one of those to our code will prevent this error of showing up.\n",
    "\n",
    "That said, there is another way to stop the error - by disabling the binary log when creating functions. And we can achieve this by executing the following command:\n",
    "\n",
    "SET @@global.log_bin_trust_function_creators := 1;\n",
    "\n",
    "Technically speaking, this operation isn’t the safest one out there. Nevertheless, for the purposes of this course, it is the one that will solve the potential problems regardless of the version of MySQL.\n",
    "\n",
    "In conclusion, remember that sometimes the Binary Log may be disabled anyway and you don’t have to take any of the above actions. In that case, we simply hope you’ve enjoyed reading this article! Thank you!"
   ]
  },
  {
   "cell_type": "code",
   "execution_count": null,
   "metadata": {},
   "outputs": [],
   "source": []
  }
 ],
 "metadata": {
  "kernelspec": {
   "display_name": "Python (dataSc)",
   "language": "python",
   "name": "datasc"
  },
  "language_info": {
   "codemirror_mode": {
    "name": "ipython",
    "version": 3
   },
   "file_extension": ".py",
   "mimetype": "text/x-python",
   "name": "python",
   "nbconvert_exporter": "python",
   "pygments_lexer": "ipython3",
   "version": "3.7.3"
  },
  "toc": {
   "base_numbering": 1,
   "nav_menu": {},
   "number_sections": true,
   "sideBar": true,
   "skip_h1_title": false,
   "title_cell": "Table of Contents",
   "title_sidebar": "Contents",
   "toc_cell": true,
   "toc_position": {},
   "toc_section_display": true,
   "toc_window_display": true
  }
 },
 "nbformat": 4,
 "nbformat_minor": 2
}
